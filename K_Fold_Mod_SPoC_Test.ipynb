{
  "cells": [
    {
      "cell_type": "markdown",
      "metadata": {
        "id": "view-in-github",
        "colab_type": "text"
      },
      "source": [
        "<a href=\"https://colab.research.google.com/github/buzzbing/transformer_based_source_code_generator/blob/main/K_Fold_Mod_SPoC_Test.ipynb\" target=\"_parent\"><img src=\"https://colab.research.google.com/assets/colab-badge.svg\" alt=\"Open In Colab\"/></a>"
      ]
    },
    {
      "cell_type": "code",
      "execution_count": null,
      "metadata": {
        "id": "DEYO7H8rkEDv"
      },
      "outputs": [],
      "source": [
        "# %tensorflow_version 2.x\n",
        "# import tensorflow as tf\n",
        "# print(\"Tensorflow version \" + tf.__version__)\n",
        "\n",
        "# try:\n",
        "#   tpu = tf.distribute.cluster_resolver.TPUClusterResolver()  # TPU detection\n",
        "#   print('Running on TPU ', tpu.cluster_spec().as_dict()['worker'])\n",
        "# except ValueError:\n",
        "#   raise BaseException('ERROR: Not connected to a TPU runtime; please see the previous cell in this notebook for instructions!')\n",
        "\n",
        "# tf.config.experimental_connect_to_cluster(tpu)\n",
        "# tf.tpu.experimental.initialize_tpu_system(tpu)\n",
        "# tpu_strategy = tf.distribute.experimental.TPUStrategy(tpu)"
      ]
    },
    {
      "cell_type": "code",
      "execution_count": null,
      "metadata": {
        "id": "NIx9bk_gz7-H"
      },
      "outputs": [],
      "source": [
        "# from google.colab import drive\n",
        "# drive.mount('/content/drive')"
      ]
    },
    {
      "cell_type": "code",
      "execution_count": null,
      "metadata": {
        "colab": {
          "base_uri": "https://localhost:8080/"
        },
        "id": "RNBCrvZCKRYW",
        "outputId": "8bca80bc-e6d5-4623-b09e-e398666e9590"
      },
      "outputs": [
        {
          "output_type": "stream",
          "name": "stdout",
          "text": [
            "Looking in indexes: https://pypi.org/simple, https://us-python.pkg.dev/colab-wheels/public/simple/\n",
            "Requirement already satisfied: tensorflow_datasets in /usr/local/lib/python3.7/dist-packages (4.6.0)\n",
            "Requirement already satisfied: absl-py in /usr/local/lib/python3.7/dist-packages (from tensorflow_datasets) (1.2.0)\n",
            "Requirement already satisfied: importlib-resources in /usr/local/lib/python3.7/dist-packages (from tensorflow_datasets) (5.9.0)\n",
            "Requirement already satisfied: numpy in /usr/local/lib/python3.7/dist-packages (from tensorflow_datasets) (1.21.6)\n",
            "Requirement already satisfied: promise in /usr/local/lib/python3.7/dist-packages (from tensorflow_datasets) (2.3)\n",
            "Requirement already satisfied: tensorflow-metadata in /usr/local/lib/python3.7/dist-packages (from tensorflow_datasets) (1.9.0)\n",
            "Requirement already satisfied: typing-extensions in /usr/local/lib/python3.7/dist-packages (from tensorflow_datasets) (4.1.1)\n",
            "Requirement already satisfied: toml in /usr/local/lib/python3.7/dist-packages (from tensorflow_datasets) (0.10.2)\n",
            "Requirement already satisfied: termcolor in /usr/local/lib/python3.7/dist-packages (from tensorflow_datasets) (1.1.0)\n",
            "Requirement already satisfied: tqdm in /usr/local/lib/python3.7/dist-packages (from tensorflow_datasets) (4.64.0)\n",
            "Requirement already satisfied: dill in /usr/local/lib/python3.7/dist-packages (from tensorflow_datasets) (0.3.5.1)\n",
            "Requirement already satisfied: protobuf>=3.12.2 in /usr/local/lib/python3.7/dist-packages (from tensorflow_datasets) (3.17.3)\n",
            "Requirement already satisfied: six in /usr/local/lib/python3.7/dist-packages (from tensorflow_datasets) (1.15.0)\n",
            "Requirement already satisfied: etils[epath] in /usr/local/lib/python3.7/dist-packages (from tensorflow_datasets) (0.6.0)\n",
            "Requirement already satisfied: requests>=2.19.0 in /usr/local/lib/python3.7/dist-packages (from tensorflow_datasets) (2.23.0)\n",
            "Requirement already satisfied: urllib3!=1.25.0,!=1.25.1,<1.26,>=1.21.1 in /usr/local/lib/python3.7/dist-packages (from requests>=2.19.0->tensorflow_datasets) (1.24.3)\n",
            "Requirement already satisfied: certifi>=2017.4.17 in /usr/local/lib/python3.7/dist-packages (from requests>=2.19.0->tensorflow_datasets) (2022.6.15)\n",
            "Requirement already satisfied: idna<3,>=2.5 in /usr/local/lib/python3.7/dist-packages (from requests>=2.19.0->tensorflow_datasets) (2.10)\n",
            "Requirement already satisfied: chardet<4,>=3.0.2 in /usr/local/lib/python3.7/dist-packages (from requests>=2.19.0->tensorflow_datasets) (3.0.4)\n",
            "Requirement already satisfied: zipp in /usr/local/lib/python3.7/dist-packages (from etils[epath]->tensorflow_datasets) (3.8.1)\n",
            "Requirement already satisfied: googleapis-common-protos<2,>=1.52.0 in /usr/local/lib/python3.7/dist-packages (from tensorflow-metadata->tensorflow_datasets) (1.56.4)\n",
            "Looking in indexes: https://pypi.org/simple, https://us-python.pkg.dev/colab-wheels/public/simple/\n",
            "Collecting tensorflow-text==2.8.*\n",
            "  Downloading tensorflow_text-2.8.2-cp37-cp37m-manylinux_2_12_x86_64.manylinux2010_x86_64.whl (4.9 MB)\n",
            "\u001b[K     |████████████████████████████████| 4.9 MB 5.1 MB/s \n",
            "\u001b[?25hRequirement already satisfied: tensorflow<2.9,>=2.8.0 in /usr/local/lib/python3.7/dist-packages (from tensorflow-text==2.8.*) (2.8.2+zzzcolab20220719082949)\n",
            "Requirement already satisfied: tensorflow-hub>=0.8.0 in /usr/local/lib/python3.7/dist-packages (from tensorflow-text==2.8.*) (0.12.0)\n",
            "Requirement already satisfied: google-pasta>=0.1.1 in /usr/local/lib/python3.7/dist-packages (from tensorflow<2.9,>=2.8.0->tensorflow-text==2.8.*) (0.2.0)\n",
            "Requirement already satisfied: keras<2.9,>=2.8.0rc0 in /usr/local/lib/python3.7/dist-packages (from tensorflow<2.9,>=2.8.0->tensorflow-text==2.8.*) (2.8.0)\n",
            "Requirement already satisfied: tensorflow-estimator<2.9,>=2.8 in /usr/local/lib/python3.7/dist-packages (from tensorflow<2.9,>=2.8.0->tensorflow-text==2.8.*) (2.8.0)\n",
            "Requirement already satisfied: setuptools in /usr/local/lib/python3.7/dist-packages (from tensorflow<2.9,>=2.8.0->tensorflow-text==2.8.*) (57.4.0)\n",
            "Requirement already satisfied: keras-preprocessing>=1.1.1 in /usr/local/lib/python3.7/dist-packages (from tensorflow<2.9,>=2.8.0->tensorflow-text==2.8.*) (1.1.2)\n",
            "Requirement already satisfied: grpcio<2.0,>=1.24.3 in /usr/local/lib/python3.7/dist-packages (from tensorflow<2.9,>=2.8.0->tensorflow-text==2.8.*) (1.47.0)\n",
            "Requirement already satisfied: tensorflow-io-gcs-filesystem>=0.23.1 in /usr/local/lib/python3.7/dist-packages (from tensorflow<2.9,>=2.8.0->tensorflow-text==2.8.*) (0.26.0)\n",
            "Requirement already satisfied: wrapt>=1.11.0 in /usr/local/lib/python3.7/dist-packages (from tensorflow<2.9,>=2.8.0->tensorflow-text==2.8.*) (1.14.1)\n",
            "Requirement already satisfied: tensorboard<2.9,>=2.8 in /usr/local/lib/python3.7/dist-packages (from tensorflow<2.9,>=2.8.0->tensorflow-text==2.8.*) (2.8.0)\n",
            "Requirement already satisfied: absl-py>=0.4.0 in /usr/local/lib/python3.7/dist-packages (from tensorflow<2.9,>=2.8.0->tensorflow-text==2.8.*) (1.2.0)\n",
            "Requirement already satisfied: flatbuffers>=1.12 in /usr/local/lib/python3.7/dist-packages (from tensorflow<2.9,>=2.8.0->tensorflow-text==2.8.*) (2.0)\n",
            "Requirement already satisfied: numpy>=1.20 in /usr/local/lib/python3.7/dist-packages (from tensorflow<2.9,>=2.8.0->tensorflow-text==2.8.*) (1.21.6)\n",
            "Requirement already satisfied: termcolor>=1.1.0 in /usr/local/lib/python3.7/dist-packages (from tensorflow<2.9,>=2.8.0->tensorflow-text==2.8.*) (1.1.0)\n",
            "Requirement already satisfied: astunparse>=1.6.0 in /usr/local/lib/python3.7/dist-packages (from tensorflow<2.9,>=2.8.0->tensorflow-text==2.8.*) (1.6.3)\n",
            "Requirement already satisfied: protobuf<3.20,>=3.9.2 in /usr/local/lib/python3.7/dist-packages (from tensorflow<2.9,>=2.8.0->tensorflow-text==2.8.*) (3.17.3)\n",
            "Requirement already satisfied: typing-extensions>=3.6.6 in /usr/local/lib/python3.7/dist-packages (from tensorflow<2.9,>=2.8.0->tensorflow-text==2.8.*) (4.1.1)\n",
            "Requirement already satisfied: six>=1.12.0 in /usr/local/lib/python3.7/dist-packages (from tensorflow<2.9,>=2.8.0->tensorflow-text==2.8.*) (1.15.0)\n",
            "Requirement already satisfied: gast>=0.2.1 in /usr/local/lib/python3.7/dist-packages (from tensorflow<2.9,>=2.8.0->tensorflow-text==2.8.*) (0.5.3)\n",
            "Requirement already satisfied: opt-einsum>=2.3.2 in /usr/local/lib/python3.7/dist-packages (from tensorflow<2.9,>=2.8.0->tensorflow-text==2.8.*) (3.3.0)\n",
            "Requirement already satisfied: h5py>=2.9.0 in /usr/local/lib/python3.7/dist-packages (from tensorflow<2.9,>=2.8.0->tensorflow-text==2.8.*) (3.1.0)\n",
            "Requirement already satisfied: libclang>=9.0.1 in /usr/local/lib/python3.7/dist-packages (from tensorflow<2.9,>=2.8.0->tensorflow-text==2.8.*) (14.0.6)\n",
            "Requirement already satisfied: wheel<1.0,>=0.23.0 in /usr/local/lib/python3.7/dist-packages (from astunparse>=1.6.0->tensorflow<2.9,>=2.8.0->tensorflow-text==2.8.*) (0.37.1)\n",
            "Requirement already satisfied: cached-property in /usr/local/lib/python3.7/dist-packages (from h5py>=2.9.0->tensorflow<2.9,>=2.8.0->tensorflow-text==2.8.*) (1.5.2)\n",
            "Requirement already satisfied: google-auth-oauthlib<0.5,>=0.4.1 in /usr/local/lib/python3.7/dist-packages (from tensorboard<2.9,>=2.8->tensorflow<2.9,>=2.8.0->tensorflow-text==2.8.*) (0.4.6)\n",
            "Requirement already satisfied: werkzeug>=0.11.15 in /usr/local/lib/python3.7/dist-packages (from tensorboard<2.9,>=2.8->tensorflow<2.9,>=2.8.0->tensorflow-text==2.8.*) (1.0.1)\n",
            "Requirement already satisfied: google-auth<3,>=1.6.3 in /usr/local/lib/python3.7/dist-packages (from tensorboard<2.9,>=2.8->tensorflow<2.9,>=2.8.0->tensorflow-text==2.8.*) (1.35.0)\n",
            "Requirement already satisfied: tensorboard-data-server<0.7.0,>=0.6.0 in /usr/local/lib/python3.7/dist-packages (from tensorboard<2.9,>=2.8->tensorflow<2.9,>=2.8.0->tensorflow-text==2.8.*) (0.6.1)\n",
            "Requirement already satisfied: requests<3,>=2.21.0 in /usr/local/lib/python3.7/dist-packages (from tensorboard<2.9,>=2.8->tensorflow<2.9,>=2.8.0->tensorflow-text==2.8.*) (2.23.0)\n",
            "Requirement already satisfied: tensorboard-plugin-wit>=1.6.0 in /usr/local/lib/python3.7/dist-packages (from tensorboard<2.9,>=2.8->tensorflow<2.9,>=2.8.0->tensorflow-text==2.8.*) (1.8.1)\n",
            "Requirement already satisfied: markdown>=2.6.8 in /usr/local/lib/python3.7/dist-packages (from tensorboard<2.9,>=2.8->tensorflow<2.9,>=2.8.0->tensorflow-text==2.8.*) (3.4.1)\n",
            "Requirement already satisfied: pyasn1-modules>=0.2.1 in /usr/local/lib/python3.7/dist-packages (from google-auth<3,>=1.6.3->tensorboard<2.9,>=2.8->tensorflow<2.9,>=2.8.0->tensorflow-text==2.8.*) (0.2.8)\n",
            "Requirement already satisfied: rsa<5,>=3.1.4 in /usr/local/lib/python3.7/dist-packages (from google-auth<3,>=1.6.3->tensorboard<2.9,>=2.8->tensorflow<2.9,>=2.8.0->tensorflow-text==2.8.*) (4.9)\n",
            "Requirement already satisfied: cachetools<5.0,>=2.0.0 in /usr/local/lib/python3.7/dist-packages (from google-auth<3,>=1.6.3->tensorboard<2.9,>=2.8->tensorflow<2.9,>=2.8.0->tensorflow-text==2.8.*) (4.2.4)\n",
            "Requirement already satisfied: requests-oauthlib>=0.7.0 in /usr/local/lib/python3.7/dist-packages (from google-auth-oauthlib<0.5,>=0.4.1->tensorboard<2.9,>=2.8->tensorflow<2.9,>=2.8.0->tensorflow-text==2.8.*) (1.3.1)\n",
            "Requirement already satisfied: importlib-metadata>=4.4 in /usr/local/lib/python3.7/dist-packages (from markdown>=2.6.8->tensorboard<2.9,>=2.8->tensorflow<2.9,>=2.8.0->tensorflow-text==2.8.*) (4.12.0)\n",
            "Requirement already satisfied: zipp>=0.5 in /usr/local/lib/python3.7/dist-packages (from importlib-metadata>=4.4->markdown>=2.6.8->tensorboard<2.9,>=2.8->tensorflow<2.9,>=2.8.0->tensorflow-text==2.8.*) (3.8.1)\n",
            "Requirement already satisfied: pyasn1<0.5.0,>=0.4.6 in /usr/local/lib/python3.7/dist-packages (from pyasn1-modules>=0.2.1->google-auth<3,>=1.6.3->tensorboard<2.9,>=2.8->tensorflow<2.9,>=2.8.0->tensorflow-text==2.8.*) (0.4.8)\n",
            "Requirement already satisfied: certifi>=2017.4.17 in /usr/local/lib/python3.7/dist-packages (from requests<3,>=2.21.0->tensorboard<2.9,>=2.8->tensorflow<2.9,>=2.8.0->tensorflow-text==2.8.*) (2022.6.15)\n",
            "Requirement already satisfied: chardet<4,>=3.0.2 in /usr/local/lib/python3.7/dist-packages (from requests<3,>=2.21.0->tensorboard<2.9,>=2.8->tensorflow<2.9,>=2.8.0->tensorflow-text==2.8.*) (3.0.4)\n",
            "Requirement already satisfied: urllib3!=1.25.0,!=1.25.1,<1.26,>=1.21.1 in /usr/local/lib/python3.7/dist-packages (from requests<3,>=2.21.0->tensorboard<2.9,>=2.8->tensorflow<2.9,>=2.8.0->tensorflow-text==2.8.*) (1.24.3)\n",
            "Requirement already satisfied: idna<3,>=2.5 in /usr/local/lib/python3.7/dist-packages (from requests<3,>=2.21.0->tensorboard<2.9,>=2.8->tensorflow<2.9,>=2.8.0->tensorflow-text==2.8.*) (2.10)\n",
            "Requirement already satisfied: oauthlib>=3.0.0 in /usr/local/lib/python3.7/dist-packages (from requests-oauthlib>=0.7.0->google-auth-oauthlib<0.5,>=0.4.1->tensorboard<2.9,>=2.8->tensorflow<2.9,>=2.8.0->tensorflow-text==2.8.*) (3.2.0)\n",
            "Installing collected packages: tensorflow-text\n",
            "Successfully installed tensorflow-text-2.8.2\n"
          ]
        }
      ],
      "source": [
        "!pip install tensorflow_datasets\n",
        "!pip install -U 'tensorflow-text==2.8.*'"
      ]
    },
    {
      "cell_type": "code",
      "source": [
        "# from google.colab import drive\n",
        "# drive.mount('/content/drive')"
      ],
      "metadata": {
        "id": "ysqFSPM1V0Nd"
      },
      "execution_count": null,
      "outputs": []
    },
    {
      "cell_type": "code",
      "execution_count": null,
      "metadata": {
        "id": "V4d_a5MzJ6xF"
      },
      "outputs": [],
      "source": [
        "import collections\n",
        "import os\n",
        "import pathlib\n",
        "import re\n",
        "import string\n",
        "import sys\n",
        "import tempfile\n",
        "import time\n",
        "\n",
        "import numpy as np\n",
        "import matplotlib.pyplot as plt\n",
        "import tensorflow as tf\n",
        "import tensorflow_text as text\n",
        "import pandas as pd\n",
        "import tensorflow_datasets as tfds\n",
        "from sklearn.model_selection import train_test_split\n",
        "import keras\n",
        "import logging\n",
        "\n"
      ]
    },
    {
      "cell_type": "code",
      "execution_count": null,
      "metadata": {
        "id": "cVwq45G6Kc2Y"
      },
      "outputs": [],
      "source": [
        "\n",
        "logging.getLogger('tensorflow').setLevel(logging.ERROR)  "
      ]
    },
    {
      "cell_type": "code",
      "execution_count": null,
      "metadata": {
        "id": "-0nIQfnyKjok"
      },
      "outputs": [],
      "source": [
        "dataset = pd.read_csv(\"drive/MyDrive/Datasets/data/spoc_cleaned_next.csv\")"
      ]
    },
    {
      "cell_type": "code",
      "execution_count": null,
      "metadata": {
        "id": "J2eI4O97LTkg",
        "colab": {
          "base_uri": "https://localhost:8080/"
        },
        "outputId": "df794553-1a78-41f2-93bb-b37899c30b25"
      },
      "outputs": [
        {
          "output_type": "execute_result",
          "data": {
            "text/plain": [
              "<tf.Tensor: shape=(), dtype=int64, numpy=547>"
            ]
          },
          "metadata": {},
          "execution_count": 6
        }
      ],
      "source": [
        "# train_data = tf.data.Dataset.from_tensor_slices(train_examples)\n",
        "# val_data = tf.data.Dataset.from_tensor_slices(val_examples)\n",
        "# tf.data.experimental.cardinality(val_data)"
      ]
    },
    {
      "cell_type": "code",
      "execution_count": null,
      "metadata": {
        "id": "BE340XTU1OY_",
        "colab": {
          "base_uri": "https://localhost:8080/"
        },
        "outputId": "ce13e022-7e7a-4d65-cd52-f3600dfed895"
      },
      "outputs": [
        {
          "output_type": "stream",
          "name": "stdout",
          "text": [
            "tf.Tensor(547, shape=(), dtype=int64)\n",
            "tf.Tensor(14000, shape=(), dtype=int64)\n"
          ]
        }
      ],
      "source": [
        "# print(tf.data.experimental.cardinality(val_data))\n",
        "# print(tf.data.experimental.cardinality(train_data))"
      ]
    },
    {
      "cell_type": "code",
      "execution_count": null,
      "metadata": {
        "id": "_c7KMYsg8R_-"
      },
      "outputs": [],
      "source": [
        "def dataset_to_tensor(data_examples):\n",
        "  data_prob = []\n",
        "  for i in range(0,len(data_examples)):\n",
        "    data_prob.append(str(data_examples.iloc[i,0]))\n",
        "\n",
        "  # inputs = data_examples['problem']\n",
        "  # print(data_prob[0])\n",
        "  # print(type(data_prob))\n",
        "\n",
        "  data_sol = []\n",
        "  for i in range(0,len(data_examples)):\n",
        "    data_sol.append(str(data_examples.iloc[i,1]))\n",
        "\n",
        "  # inputs = data_examples['solution']\n",
        "  # print(data_sol[0])\n",
        "  # print(type(data_sol))\n",
        "\n",
        "  tensor_prob = tf.convert_to_tensor(data_prob)\n",
        "  tensor_sol = tf.convert_to_tensor(data_sol)\n",
        "\n",
        "  tensor_data = tf.data.Dataset.from_tensor_slices((tensor_prob,tensor_sol))\n",
        "\n",
        "  # tf.data.experimental.cardinality(tensor_data)\n",
        "  return tensor_data, tensor_prob, tensor_sol;"
      ]
    },
    {
      "cell_type": "code",
      "source": [
        "dataset_tensr , prob_tensr, sol_tensr = dataset_to_tensor(dataset)"
      ],
      "metadata": {
        "colab": {
          "base_uri": "https://localhost:8080/"
        },
        "id": "SA7CnysVjoyw",
        "outputId": "83d8b3b2-edd8-4ba3-bb3c-1693d9f05232"
      },
      "execution_count": null,
      "outputs": [
        {
          "output_type": "stream",
          "name": "stdout",
          "text": [
            "if b=1 return a_ else call function gcd(b_ a%b)            n _ nn_ ans = integers with ans =0    Read n    for i=2 to n-1 execute    set nn to n    while nn is not equal to 0_ set ans to ans + nn%i_ and also set nn= nn/i        set o to gcd(ans_ n-2)    print out ans/o \"/\" (n-2)/o            function gcd with integer arguments a and b    return !b ? a : gcd(b_ a % b)            integers n_ nn and ans = 0    read n    for i = 2 to n - 1 inclusive    set nn to n    while nn increment ans by (nn % i) and set nn to nn / i;        integer o = gcd of ans and n - 2    print ans / o_ \"/\"_ (n - 2) / o and \"\\n\"            \n",
            "<class 'list'>\n",
            "return !b ? a : gcd(b_ a % b);    }    int main() {    int n_ nn_ ans = 0;    cin >> n;    for (int i = 2; i <= n - 1; ++i) {    nn = n;    while (nn) ans += nn % i_ nn /= i;    }    int o = gcd(ans_ n - 2);    cout << ans / o << \"/\" << (n - 2) / o << \"\\n\";    return 0;    }    int gcd(int a_ int b) {    return !b ? a : gcd(b_ a % b);    }    int main() {    int n_ nn_ ans = 0;    cin >> n;    for (int i = 2; i <= n - 1; ++i) {    nn = n;    while (nn) ans += nn % i_ nn /= i;    }    int o = gcd(ans_ n - 2);    cout << ans / o << \"/\" << (n - 2) / o << \"\\n\";    return 0;    }    \n",
            "<class 'list'>\n"
          ]
        }
      ]
    },
    {
      "cell_type": "code",
      "source": [
        "print(\"length of dataset tensor: \", tf.data.experimental.cardinality(dataset_tensr))\n",
        "print(\"length of problem attribute tensor: \", len(prob_tensr))\n",
        "print(\"length of solution tensor: \", len(sol_tensr))"
      ],
      "metadata": {
        "colab": {
          "base_uri": "https://localhost:8080/"
        },
        "id": "nIAbJeUhkKfL",
        "outputId": "f07843a0-1c45-4d53-a3f5-86ac592f12ea"
      },
      "execution_count": null,
      "outputs": [
        {
          "output_type": "stream",
          "name": "stdout",
          "text": [
            "length of dataset tensor:  tf.Tensor(14547, shape=(), dtype=int64)\n",
            "length of problem attribute tensor:  14547\n",
            "length of solution tensor:  14547\n"
          ]
        }
      ]
    },
    {
      "cell_type": "code",
      "execution_count": null,
      "metadata": {
        "id": "lYGQGBXYp9Cz"
      },
      "outputs": [],
      "source": [
        "from tensorflow_text.tools.wordpiece_vocab import bert_vocab_from_dataset as bert_vocab"
      ]
    },
    {
      "cell_type": "code",
      "execution_count": null,
      "metadata": {
        "id": "mrC2IZnuqDZi"
      },
      "outputs": [],
      "source": [
        "bert_tokenizer_params=dict(lower_case=True)\n",
        "reserved_tokens=[\"[PAD]\", \"[UNK]\", \"[START]\", \"[END]\"]\n",
        "\n",
        "bert_vocab_args = dict(\n",
        "    # The target vocabulary size\n",
        "    vocab_size = 10000,\n",
        "    # Reserved tokens that must be included in the vocabulary\n",
        "    reserved_tokens=reserved_tokens,\n",
        "    # Arguments for `text.BertTokenizer`\n",
        "    bert_tokenizer_params=bert_tokenizer_params,\n",
        "    # Arguments for `wordpiece_vocab.wordpiece_tokenizer_learner_lib.learn`\n",
        "    learn_params={},\n",
        ")"
      ]
    },
    {
      "cell_type": "code",
      "execution_count": null,
      "metadata": {
        "id": "2CQsEZLDqIO8"
      },
      "outputs": [],
      "source": [
        "train_pb = tf.data.Dataset.from_tensor_slices(prob_tensr)\n",
        "train_sl = tf.data.Dataset.from_tensor_slices(sol_tensr)"
      ]
    },
    {
      "cell_type": "code",
      "execution_count": null,
      "metadata": {
        "id": "6VmhjxuMqMdu",
        "colab": {
          "base_uri": "https://localhost:8080/"
        },
        "outputId": "3cbaf199-06ca-4605-999c-757b1b859abd"
      },
      "outputs": [
        {
          "output_type": "stream",
          "name": "stdout",
          "text": [
            "CPU times: user 28.1 s, sys: 112 ms, total: 28.2 s\n",
            "Wall time: 28.6 s\n"
          ]
        }
      ],
      "source": [
        "%%time\n",
        "prob_vocab = bert_vocab.bert_vocab_from_dataset(\n",
        "    train_pb.batch(2000).prefetch(20),\n",
        "    **bert_vocab_args\n",
        ")\n",
        "sol_vocab = bert_vocab.bert_vocab_from_dataset(\n",
        "    train_sl.batch(2000).prefetch(20),\n",
        "    **bert_vocab_args\n",
        ")"
      ]
    },
    {
      "cell_type": "code",
      "execution_count": null,
      "metadata": {
        "id": "HcH1eWTfqSiZ",
        "colab": {
          "base_uri": "https://localhost:8080/"
        },
        "outputId": "cedb89c2-ddd4-411d-e63c-ebbd37c74981"
      },
      "outputs": [
        {
          "output_type": "stream",
          "name": "stdout",
          "text": [
            "['[PAD]', '[UNK]', '[START]', '[END]', '!', '\"', '#', '$', '%', '&']\n",
            "['new', 'array', 'be', 'inclusive', 'value', 'while', 'greater', 'loop', 'or', 'less']\n",
            "['201', 'cup', 'fx', 'goto', 'incremented', 'itr', 'menor', 'p4', 'program', 'register']\n",
            "['##[', '##\\\\', '##]', '##^', '##_', '##`', '##{', '##|', '##}', '##~']\n",
            "\n",
            "['[PAD]', '[UNK]', '[START]', '[END]', '!', '\"', '#', '$', '%', '&']\n",
            "['temp', 's1', 'true', 'abs', 'bool', 's2', 'push', 'false', 'sort', 'vector']\n",
            "['##[', '##\\\\', '##]', '##^', '##_', '##`', '##{', '##|', '##}', '##~']\n"
          ]
        }
      ],
      "source": [
        "print(prob_vocab[:10])\n",
        "print(prob_vocab[100:110])\n",
        "print(prob_vocab[1000:1010])\n",
        "print(prob_vocab[-10:])\n",
        "print()\n",
        "print(sol_vocab[:10])\n",
        "print(sol_vocab[100:110])\n",
        "# print(sol_vocab[1000:1010])\n",
        "print(sol_vocab[-10:])"
      ]
    },
    {
      "cell_type": "code",
      "execution_count": null,
      "metadata": {
        "id": "cGbxUfKXqZTT"
      },
      "outputs": [],
      "source": [
        "def write_vocab_file(filepath, vocab):\n",
        "  with open(filepath, 'w') as f:\n",
        "    for token in vocab:\n",
        "      print(token, file=f)"
      ]
    },
    {
      "cell_type": "code",
      "execution_count": null,
      "metadata": {
        "id": "GNmXBjOLqfFQ"
      },
      "outputs": [],
      "source": [
        "write_vocab_file('prob_vocab.txt', prob_vocab)\n",
        "write_vocab_file('sol_vocab.txt', sol_vocab)"
      ]
    },
    {
      "cell_type": "code",
      "execution_count": null,
      "metadata": {
        "id": "nhotqCHTOeAF"
      },
      "outputs": [],
      "source": [
        "write_vocab_file('drive/MyDrive/Datasets/data/prob_vocab.txt', prob_vocab)\n",
        "write_vocab_file('drive/MyDrive/Datasets/data/sol_vocab.txt', sol_vocab)"
      ]
    },
    {
      "cell_type": "code",
      "execution_count": null,
      "metadata": {
        "id": "gs5AHm0TvMaP",
        "colab": {
          "base_uri": "https://localhost:8080/"
        },
        "outputId": "3c7d3dd4-3c3e-4f6d-aa1f-079b7e6aacf5"
      },
      "outputs": [
        {
          "output_type": "stream",
          "name": "stdout",
          "text": [
            "prob_vocab.txt\tsol_vocab.txt\n"
          ]
        }
      ],
      "source": [
        "!ls *.txt"
      ]
    },
    {
      "cell_type": "code",
      "execution_count": null,
      "metadata": {
        "id": "zCSO0qbUqilA"
      },
      "outputs": [],
      "source": [
        "prob_tokenizer = text.BertTokenizer('/content/prob_vocab.txt', **bert_tokenizer_params)\n",
        "sol_tokenizer = text.BertTokenizer('/content/sol_vocab.txt', **bert_tokenizer_params)\n"
      ]
    },
    {
      "cell_type": "code",
      "execution_count": null,
      "metadata": {
        "id": "gh2TAbG8q2D1",
        "colab": {
          "base_uri": "https://localhost:8080/"
        },
        "outputId": "3a77b47b-01c2-40d1-ef04-b5221c00b86b"
      },
      "outputs": [
        {
          "output_type": "stream",
          "name": "stdout",
          "text": [
            "b'if b=1 return a_ else call function gcd(b_ a%b)            n _ nn_ ans = integers with ans =0    Read n    for i=2 to n-1 execute    set nn to n    while nn is not equal to 0_ set ans to ans + nn%i_ and also set nn= nn/i        set o to gcd(ans_ n-2)    print out ans/o \"/\" (n-2)/o            function gcd with integer arguments a and b    return !b ? a : gcd(b_ a % b)            integers n_ nn and ans = 0    read n    for i = 2 to n - 1 inclusive    set nn to n    while nn increment ans by (nn % i) and set nn to nn / i;        integer o = gcd of ans and n - 2    print ans / o_ \"/\"_ (n - 2) / o and \"\\\\n\"            '\n",
            "b'let a and b be strings    n = integer    st = set of strings    read n    for integer i = 0 to n exclusive    read a and b    insert a + \" \" + b into st        print size of st and a new line            '\n",
            "\n",
            "b'return !b ? a : gcd(b_ a % b);    }    int main() {    int n_ nn_ ans = 0;    cin >> n;    for (int i = 2; i <= n - 1; ++i) {    nn = n;    while (nn) ans += nn % i_ nn /= i;    }    int o = gcd(ans_ n - 2);    cout << ans / o << \"/\" << (n - 2) / o << \"\\\\n\";    return 0;    }    int gcd(int a_ int b) {    return !b ? a : gcd(b_ a % b);    }    int main() {    int n_ nn_ ans = 0;    cin >> n;    for (int i = 2; i <= n - 1; ++i) {    nn = n;    while (nn) ans += nn % i_ nn /= i;    }    int o = gcd(ans_ n - 2);    cout << ans / o << \"/\" << (n - 2) / o << \"\\\\n\";    return 0;    }    '\n",
            "b'string a_ b;    int n;    set<string> st;    cin >> n;    for (int i = 0; i < n; i++) {    cin >> a >> b;    st.insert(a + \" \" + b);    }    cout << st.size() << endl;    return 0;    }    '\n"
          ]
        }
      ],
      "source": [
        "for pb_examples in train_pb.batch(2).take(1):\n",
        "  for ex in pb_examples:\n",
        "    print(ex.numpy())\n",
        "print()\n",
        "for sol_examples in train_sl.batch(2).take(1):\n",
        "  for ex in sol_examples:\n",
        "    print(ex.numpy())"
      ]
    },
    {
      "cell_type": "code",
      "execution_count": null,
      "metadata": {
        "id": "huUILjAIxKoE"
      },
      "outputs": [],
      "source": [
        "# prob_lookup = tf.lookup.StaticVocabularyTable(\n",
        "#     num_oov_buckets=1,\n",
        "#     initializer=tf.lookup.TextFileInitializer(\n",
        "#         filename='/content/prob_vocab.txt',\n",
        "#         key_dtype=tf.string,\n",
        "#         key_index = tf.lookup.TextFileIndex.WHOLE_LINE,\n",
        "#         value_dtype = tf.int64,\n",
        "#         value_index=tf.lookup.TextFileIndex.LINE_NUMBER)) \n",
        "# prob_tokenizer = text.BertTokenizer(prob_lookup)"
      ]
    },
    {
      "cell_type": "code",
      "execution_count": null,
      "metadata": {
        "id": "SAx7Ixv4xSPm"
      },
      "outputs": [],
      "source": [
        "# sol_lookup = tf.lookup.StaticVocabularyTable(\n",
        "#     num_oov_buckets=1,\n",
        "#     initializer=tf.lookup.TextFileInitializer(\n",
        "#         filename='sol_vocab.txt',\n",
        "#         key_dtype=tf.string,\n",
        "#         key_index = tf.lookup.TextFileIndex.WHOLE_LINE,\n",
        "#         value_dtype = tf.int64,\n",
        "#         value_index=tf.lookup.TextFileIndex.LINE_NUMBER)) \n",
        "# sol_tokenizer = text.BertTokenizer(sol_lookup)"
      ]
    },
    {
      "cell_type": "markdown",
      "metadata": {
        "id": "xwkVvtB2sZg1"
      },
      "source": [
        ""
      ]
    },
    {
      "cell_type": "code",
      "execution_count": null,
      "metadata": {
        "id": "egr09MG6yFdS",
        "colab": {
          "base_uri": "https://localhost:8080/"
        },
        "outputId": "fc7c82c6-781c-44ac-bc51-c804522269a4"
      },
      "outputs": [
        {
          "output_type": "stream",
          "name": "stdout",
          "text": [
            "[72, 42, 31, 19, 111, 41, 39, 82, 185, 126, 182, 11, 42, 39, 41, 8, 42, 12, 54, 39, 532, 39, 86, 31, 94, 83, 86, 31, 18, 76, 54, 77, 49, 31, 20, 71, 54, 15, 19, 896, 79, 532, 71, 54, 105, 532, 73, 112, 90, 71, 18, 39, 79, 86, 71, 86, 14, 532, 8, 49, 39, 75, 41, 282, 174, 329, 79, 532, 31, 532, 17, 49, 79, 55, 71, 182, 11, 86, 39, 54, 15, 20, 12, 74, 324, 86, 17, 55, 5, 17, 5, 11, 54, 15, 20, 12, 17, 55, 126, 182, 83, 80, 162, 41, 75, 42, 111, 4, 42, 33, 41, 28, 182, 11, 42, 39, 41, 8, 42, 12, 94, 54, 39, 532, 75, 86, 31, 18, 76, 54, 77, 49, 31, 20, 71, 54, 15, 19, 103, 79, 532, 71, 54, 105, 532, 87, 86, 91, 11, 532, 8, 49, 12, 75, 79, 532, 71, 532, 17, 49, 29, 80, 55, 31, 182, 78, 86, 75, 54, 15, 20, 74, 86, 17, 55, 39, 5, 17, 5, 39, 11, 54, 15, 20, 12, 17, 55, 75, 5, 36, 54, 5]\n",
            "[96, 41, 75, 42, 102, 179, 54, 31, 80, 192, 31, 79, 78, 179, 76, 54, 77, 80, 49, 31, 18, 71, 54, 84, 76, 41, 75, 42, 227, 41, 14, 5, 5, 14, 42, 156, 192, 74, 97, 78, 192, 75, 41, 100, 114]\n"
          ]
        }
      ],
      "source": [
        "# Tokenize the examples -> (batch, word, word-piece)\n",
        "token_batch_prob = prob_tokenizer.tokenize(pb_examples)\n",
        "# Merge the word and word-piece axes -> (batch, tokens)\n",
        "token_batch_prob = token_batch_prob.merge_dims(-2,-1)\n",
        "\n",
        "for ex in token_batch_prob.to_list():\n",
        "  print(ex)"
      ]
    },
    {
      "cell_type": "code",
      "execution_count": null,
      "metadata": {
        "id": "cmqe9R-0q3If",
        "colab": {
          "base_uri": "https://localhost:8080/"
        },
        "outputId": "e0e2a106-9d43-4447-fa70-4a670d612ef4"
      },
      "outputs": [
        {
          "output_type": "stream",
          "name": "stdout",
          "text": [
            "[78, 4, 42, 33, 41, 28, 121, 11, 42, 39, 41, 8, 42, 12, 29, 69, 71, 81, 11, 12, 67, 71, 54, 39, 420, 39, 80, 31, 18, 29, 74, 32, 32, 54, 29, 75, 11, 71, 49, 31, 20, 29, 49, 30, 31, 54, 15, 19, 29, 14, 14, 49, 12, 67, 420, 31, 54, 29, 82, 11, 420, 12, 80, 14, 31, 420, 8, 49, 39, 420, 17, 31, 49, 29, 69, 71, 55, 31, 121, 11, 80, 39, 54, 15, 20, 12, 29, 73, 30, 30, 80, 17, 55, 30, 30, 5, 17, 5, 30, 30, 11, 54, 15, 20, 12, 17, 55, 30, 30, 5, 36, 54, 5, 29, 78, 18, 29, 69, 71, 121, 11, 71, 41, 39, 71, 42, 12, 67, 78, 4, 42, 33, 41, 28, 121, 11, 42, 39, 41, 8, 42, 12, 29, 69, 71, 81, 11, 12, 67, 71, 54, 39, 420, 39, 80, 31, 18, 29, 74, 32, 32, 54, 29, 75, 11, 71, 49, 31, 20, 29, 49, 30, 31, 54, 15, 19, 29, 14, 14, 49, 12, 67, 420, 31, 54, 29, 82, 11, 420, 12, 80, 14, 31, 420, 8, 49, 39, 420, 17, 31, 49, 29, 69, 71, 55, 31, 121, 11, 80, 39, 54, 15, 20, 12, 29, 73, 30, 30, 80, 17, 55, 30, 30, 5, 17, 5, 30, 30, 11, 54, 15, 20, 12, 17, 55, 30, 30, 5, 36, 54, 5, 29, 78, 18, 29, 69]\n",
            "[84, 41, 39, 42, 29, 71, 54, 29, 163, 30, 84, 32, 127, 29, 74, 32, 32, 54, 29, 75, 11, 71, 49, 31, 18, 29, 49, 30, 54, 29, 49, 14, 14, 12, 67, 74, 32, 32, 41, 32, 32, 42, 29, 127, 16, 153, 11, 41, 14, 5, 5, 14, 42, 12, 29, 69, 73, 30, 30, 127, 16, 86, 11, 12, 30, 30, 77, 29, 78, 18, 29, 69]\n"
          ]
        }
      ],
      "source": [
        "\n",
        "\n",
        "# Tokenize the examples -> (batch, word, word-piece)\n",
        "token_batch_sol = sol_tokenizer.tokenize(sol_examples)\n",
        "# Merge the word and word-piece axes -> (batch, tokens)\n",
        "token_batch_sol = token_batch_sol.merge_dims(-2,-1)\n",
        "\n",
        "for ex in token_batch_sol.to_list():\n",
        "  print(ex)"
      ]
    },
    {
      "cell_type": "code",
      "execution_count": null,
      "metadata": {
        "id": "Tok5EZJIq8L4",
        "colab": {
          "base_uri": "https://localhost:8080/"
        },
        "outputId": "d67fe6e5-c8b7-44fc-b12b-a5eef1cb4659"
      },
      "outputs": [
        {
          "output_type": "execute_result",
          "data": {
            "text/plain": [
              "<tf.Tensor: shape=(2,), dtype=string, numpy=\n",
              "array([b'if b = 1 return a _ else call function gcd ( b _ a % b ) n _ nn _ ans = integers with ans = 0 read n for i = 2 to n - 1 execute set nn to n while nn is not equal to 0 _ set ans to ans + nn % i _ and a ##l ##s ##o set nn = nn / i set o to gcd ( ans _ n - 2 ) print out ans / o \" / \" ( n - 2 ) / o function gcd with integer arguments a and b return ! b ? a : gcd ( b _ a % b ) integers n _ nn and ans = 0 read n for i = 2 to n - 1 inclusive set nn to n while nn increment ans by ( nn % i ) and set nn to nn / i ; integer o = gcd of ans and n - 2 print ans / o _ \" / \" _ ( n - 2 ) / o and \" \\\\ n \"',\n",
              "       b'let a and b be strings n = integer st = set of strings read n for integer i = 0 to n exclusive read a and b insert a + \" \" + b into st print size of st and a new line'],\n",
              "      dtype=object)>"
            ]
          },
          "metadata": {},
          "execution_count": 22
        }
      ],
      "source": [
        "# Lookup each token id in the vocabulary.\n",
        "txt_tokens_prob = tf.gather(prob_vocab, token_batch_prob)\n",
        "# Join with spaces.\n",
        "tf.strings.reduce_join(txt_tokens_prob, separator=' ', axis=-1)\n",
        "\n"
      ]
    },
    {
      "cell_type": "code",
      "execution_count": null,
      "metadata": {
        "id": "86JBqdnJq_Il",
        "colab": {
          "base_uri": "https://localhost:8080/"
        },
        "outputId": "16fb2ab2-4282-4d3e-c846-9766529aaab8"
      },
      "outputs": [
        {
          "output_type": "execute_result",
          "data": {
            "text/plain": [
              "<tf.Tensor: shape=(2,), dtype=string, numpy=\n",
              "array([b'return ! b ? a : gcd ( b _ a % b ) ; } int main ( ) { int n _ nn _ ans = 0 ; cin > > n ; for ( int i = 2 ; i < = n - 1 ; + + i ) { nn = n ; while ( nn ) ans + = nn % i _ nn / = i ; } int o = gcd ( ans _ n - 2 ) ; cout < < ans / o < < \" / \" < < ( n - 2 ) / o < < \" \\\\ n \" ; return 0 ; } int gcd ( int a _ int b ) { return ! b ? a : gcd ( b _ a % b ) ; } int main ( ) { int n _ nn _ ans = 0 ; cin > > n ; for ( int i = 2 ; i < = n - 1 ; + + i ) { nn = n ; while ( nn ) ans + = nn % i _ nn / = i ; } int o = gcd ( ans _ n - 2 ) ; cout < < ans / o < < \" / \" < < ( n - 2 ) / o < < \" \\\\ n \" ; return 0 ; }',\n",
              "       b'string a _ b ; int n ; set < string > st ; cin > > n ; for ( int i = 0 ; i < n ; i + + ) { cin > > a > > b ; st . insert ( a + \" \" + b ) ; } cout < < st . size ( ) < < endl ; return 0 ; }'],\n",
              "      dtype=object)>"
            ]
          },
          "metadata": {},
          "execution_count": 23
        }
      ],
      "source": [
        "# Lookup each token id in the vocabulary.\n",
        "txt_tokens_sol = tf.gather(sol_vocab, token_batch_sol)\n",
        "# Join with spaces.\n",
        "tf.strings.reduce_join(txt_tokens_sol, separator=' ', axis=-1)"
      ]
    },
    {
      "cell_type": "code",
      "execution_count": null,
      "metadata": {
        "id": "D-Spm6HtrBOl",
        "colab": {
          "base_uri": "https://localhost:8080/"
        },
        "outputId": "99c8529e-7a78-4b4d-9705-ab0d7bfa67ba"
      },
      "outputs": [
        {
          "output_type": "execute_result",
          "data": {
            "text/plain": [
              "<tf.Tensor: shape=(2,), dtype=string, numpy=\n",
              "array([b'return ! b ? a : gcd ( b _ a % b ) ; } int main ( ) { int n _ nn _ ans = 0 ; cin > > n ; for ( int i = 2 ; i < = n - 1 ; + + i ) { nn = n ; while ( nn ) ans + = nn % i _ nn / = i ; } int o = gcd ( ans _ n - 2 ) ; cout < < ans / o < < \" / \" < < ( n - 2 ) / o < < \" \\\\ n \" ; return 0 ; } int gcd ( int a _ int b ) { return ! b ? a : gcd ( b _ a % b ) ; } int main ( ) { int n _ nn _ ans = 0 ; cin > > n ; for ( int i = 2 ; i < = n - 1 ; + + i ) { nn = n ; while ( nn ) ans + = nn % i _ nn / = i ; } int o = gcd ( ans _ n - 2 ) ; cout < < ans / o < < \" / \" < < ( n - 2 ) / o < < \" \\\\ n \" ; return 0 ; }',\n",
              "       b'string a _ b ; int n ; set < string > st ; cin > > n ; for ( int i = 0 ; i < n ; i + + ) { cin > > a > > b ; st . insert ( a + \" \" + b ) ; } cout < < st . size ( ) < < endl ; return 0 ; }'],\n",
              "      dtype=object)>"
            ]
          },
          "metadata": {},
          "execution_count": 24
        }
      ],
      "source": [
        "prob_words = prob_tokenizer.detokenize(token_batch_prob)\n",
        "tf.strings.reduce_join(prob_words, separator=' ', axis=-1)\n",
        "\n",
        "sol_words = sol_tokenizer.detokenize(token_batch_sol)\n",
        "tf.strings.reduce_join(sol_words, separator=' ', axis=-1)"
      ]
    },
    {
      "cell_type": "code",
      "execution_count": null,
      "metadata": {
        "id": "XZX5f4QfrGGS"
      },
      "outputs": [],
      "source": [
        "START = tf.argmax(tf.constant(reserved_tokens) == \"[START]\")\n",
        "END = tf.argmax(tf.constant(reserved_tokens) == \"[END]\")\n",
        "\n",
        "def add_start_end(ragged):\n",
        "  count = ragged.bounding_shape()[0]\n",
        "  starts = tf.fill([count,1], START)\n",
        "  ends = tf.fill([count,1], END)\n",
        "  return tf.concat([starts, ragged, ends], axis=1)"
      ]
    },
    {
      "cell_type": "code",
      "execution_count": null,
      "metadata": {
        "id": "RxDkRiARSHIn",
        "colab": {
          "base_uri": "https://localhost:8080/"
        },
        "outputId": "ceafd214-4454-4494-fa8d-e64baa65fbcb"
      },
      "outputs": [
        {
          "output_type": "execute_result",
          "data": {
            "text/plain": [
              "<tf.Tensor: shape=(2,), dtype=string, numpy=\n",
              "array([b'[START] if b = 1 return a _ else call function gcd ( b _ a % b ) n _ nn _ ans = integers with ans = 0 read n for i = 2 to n - 1 execute set nn to n while nn is not equal to 0 _ set ans to ans + nn % i _ and also set nn = nn / i set o to gcd ( ans _ n - 2 ) print out ans / o \" / \" ( n - 2 ) / o function gcd with integer arguments a and b return ! b ? a : gcd ( b _ a % b ) integers n _ nn and ans = 0 read n for i = 2 to n - 1 inclusive set nn to n while nn increment ans by ( nn % i ) and set nn to nn / i ; integer o = gcd of ans and n - 2 print ans / o _ \" / \" _ ( n - 2 ) / o and \" \\\\ n \" [END]',\n",
              "       b'[START] let a and b be strings n = integer st = set of strings read n for integer i = 0 to n exclusive read a and b insert a + \" \" + b into st print size of st and a new line [END]'],\n",
              "      dtype=object)>"
            ]
          },
          "metadata": {},
          "execution_count": 26
        }
      ],
      "source": [
        "prob_words = prob_tokenizer.detokenize(add_start_end(token_batch_prob))\n",
        "tf.strings.reduce_join(prob_words, separator=' ', axis=-1)"
      ]
    },
    {
      "cell_type": "code",
      "execution_count": null,
      "metadata": {
        "id": "eIOn2I4SSxzk",
        "colab": {
          "base_uri": "https://localhost:8080/"
        },
        "outputId": "b8d34c7a-2b21-4c84-df65-262a8b81689f"
      },
      "outputs": [
        {
          "output_type": "execute_result",
          "data": {
            "text/plain": [
              "<tf.Tensor: shape=(2,), dtype=string, numpy=\n",
              "array([b'[START] return ! b ? a : gcd ( b _ a % b ) ; } int main ( ) { int n _ nn _ ans = 0 ; cin > > n ; for ( int i = 2 ; i < = n - 1 ; + + i ) { nn = n ; while ( nn ) ans + = nn % i _ nn / = i ; } int o = gcd ( ans _ n - 2 ) ; cout < < ans / o < < \" / \" < < ( n - 2 ) / o < < \" \\\\ n \" ; return 0 ; } int gcd ( int a _ int b ) { return ! b ? a : gcd ( b _ a % b ) ; } int main ( ) { int n _ nn _ ans = 0 ; cin > > n ; for ( int i = 2 ; i < = n - 1 ; + + i ) { nn = n ; while ( nn ) ans + = nn % i _ nn / = i ; } int o = gcd ( ans _ n - 2 ) ; cout < < ans / o < < \" / \" < < ( n - 2 ) / o < < \" \\\\ n \" ; return 0 ; } [END]',\n",
              "       b'[START] string a _ b ; int n ; set < string > st ; cin > > n ; for ( int i = 0 ; i < n ; i + + ) { cin > > a > > b ; st . insert ( a + \" \" + b ) ; } cout < < st . size ( ) < < endl ; return 0 ; } [END]'],\n",
              "      dtype=object)>"
            ]
          },
          "metadata": {},
          "execution_count": 27
        }
      ],
      "source": [
        "sol_words = sol_tokenizer.detokenize(add_start_end(token_batch_sol))\n",
        "tf.strings.reduce_join(sol_words, separator=' ', axis=-1)"
      ]
    },
    {
      "cell_type": "code",
      "execution_count": null,
      "metadata": {
        "id": "q1XPpqHBrJG0"
      },
      "outputs": [],
      "source": [
        "def cleanup_text(reserved_tokens, token_txt):\n",
        "  # Drop the reserved tokens, except for \"[UNK]\".\n",
        "  bad_tokens = [re.escape(tok) for tok in reserved_tokens if tok != \"[UNK]\"]\n",
        "  bad_token_re = \"|\".join(bad_tokens)\n",
        "    \n",
        "  bad_cells = tf.strings.regex_full_match(token_txt, bad_token_re)\n",
        "  result = tf.ragged.boolean_mask(token_txt, ~bad_cells)\n",
        "\n",
        "  # Join them into strings.\n",
        "  result = tf.strings.reduce_join(result, separator=' ', axis=-1)\n",
        "\n",
        "  return result"
      ]
    },
    {
      "cell_type": "code",
      "execution_count": null,
      "metadata": {
        "id": "5sJTDXpFTAyS",
        "colab": {
          "base_uri": "https://localhost:8080/"
        },
        "outputId": "faa1d65a-3135-4883-b2e4-7aba4525b3a7"
      },
      "outputs": [
        {
          "output_type": "execute_result",
          "data": {
            "text/plain": [
              "<tf.RaggedTensor [[b'return', b'!', b'b', b'?', b'a', b':', b'gcd', b'(', b'b', b'_', b'a',\n",
              "  b'%', b'b', b')', b';', b'}', b'int', b'main', b'(', b')', b'{', b'int',\n",
              "  b'n', b'_', b'nn', b'_', b'ans', b'=', b'0', b';', b'cin', b'>', b'>',\n",
              "  b'n', b';', b'for', b'(', b'int', b'i', b'=', b'2', b';', b'i', b'<',\n",
              "  b'=', b'n', b'-', b'1', b';', b'+', b'+', b'i', b')', b'{', b'nn', b'=',\n",
              "  b'n', b';', b'while', b'(', b'nn', b')', b'ans', b'+', b'=', b'nn', b'%',\n",
              "  b'i', b'_', b'nn', b'/', b'=', b'i', b';', b'}', b'int', b'o', b'=',\n",
              "  b'gcd', b'(', b'ans', b'_', b'n', b'-', b'2', b')', b';', b'cout', b'<',\n",
              "  b'<', b'ans', b'/', b'o', b'<', b'<', b'\"', b'/', b'\"', b'<', b'<', b'(',\n",
              "  b'n', b'-', b'2', b')', b'/', b'o', b'<', b'<', b'\"', b'\\\\', b'n', b'\"',\n",
              "  b';', b'return', b'0', b';', b'}', b'int', b'gcd', b'(', b'int', b'a',\n",
              "  b'_', b'int', b'b', b')', b'{', b'return', b'!', b'b', b'?', b'a', b':',\n",
              "  b'gcd', b'(', b'b', b'_', b'a', b'%', b'b', b')', b';', b'}', b'int',\n",
              "  b'main', b'(', b')', b'{', b'int', b'n', b'_', b'nn', b'_', b'ans', b'=',\n",
              "  b'0', b';', b'cin', b'>', b'>', b'n', b';', b'for', b'(', b'int', b'i',\n",
              "  b'=', b'2', b';', b'i', b'<', b'=', b'n', b'-', b'1', b';', b'+', b'+',\n",
              "  b'i', b')', b'{', b'nn', b'=', b'n', b';', b'while', b'(', b'nn', b')',\n",
              "  b'ans', b'+', b'=', b'nn', b'%', b'i', b'_', b'nn', b'/', b'=', b'i',\n",
              "  b';', b'}', b'int', b'o', b'=', b'gcd', b'(', b'ans', b'_', b'n', b'-',\n",
              "  b'2', b')', b';', b'cout', b'<', b'<', b'ans', b'/', b'o', b'<', b'<',\n",
              "  b'\"', b'/', b'\"', b'<', b'<', b'(', b'n', b'-', b'2', b')', b'/', b'o',\n",
              "  b'<', b'<', b'\"', b'\\\\', b'n', b'\"', b';', b'return', b'0', b';', b'}']  ,\n",
              " [b'string', b'a', b'_', b'b', b';', b'int', b'n', b';', b'set', b'<',\n",
              "  b'string', b'>', b'st', b';', b'cin', b'>', b'>', b'n', b';', b'for',\n",
              "  b'(', b'int', b'i', b'=', b'0', b';', b'i', b'<', b'n', b';', b'i', b'+',\n",
              "  b'+', b')', b'{', b'cin', b'>', b'>', b'a', b'>', b'>', b'b', b';', b'st',\n",
              "  b'.', b'insert', b'(', b'a', b'+', b'\"', b'\"', b'+', b'b', b')', b';',\n",
              "  b'}', b'cout', b'<', b'<', b'st', b'.', b'size', b'(', b')', b'<', b'<',\n",
              "  b'endl', b';', b'return', b'0', b';', b'}']                               ]>"
            ]
          },
          "metadata": {},
          "execution_count": 29
        }
      ],
      "source": [
        "token_batch = sol_tokenizer.tokenize(sol_examples).merge_dims(-2,-1)\n",
        "words =sol_tokenizer.detokenize(token_batch)\n",
        "words"
      ]
    },
    {
      "cell_type": "code",
      "execution_count": null,
      "metadata": {
        "id": "Rn9Nt4y0THbS",
        "colab": {
          "base_uri": "https://localhost:8080/"
        },
        "outputId": "893f9026-e2cf-4906-d44d-ea12df97f67a"
      },
      "outputs": [
        {
          "output_type": "execute_result",
          "data": {
            "text/plain": [
              "array([b'return ! b ? a : gcd ( b _ a % b ) ; } int main ( ) { int n _ nn _ ans = 0 ; cin > > n ; for ( int i = 2 ; i < = n - 1 ; + + i ) { nn = n ; while ( nn ) ans + = nn % i _ nn / = i ; } int o = gcd ( ans _ n - 2 ) ; cout < < ans / o < < \" / \" < < ( n - 2 ) / o < < \" \\\\ n \" ; return 0 ; } int gcd ( int a _ int b ) { return ! b ? a : gcd ( b _ a % b ) ; } int main ( ) { int n _ nn _ ans = 0 ; cin > > n ; for ( int i = 2 ; i < = n - 1 ; + + i ) { nn = n ; while ( nn ) ans + = nn % i _ nn / = i ; } int o = gcd ( ans _ n - 2 ) ; cout < < ans / o < < \" / \" < < ( n - 2 ) / o < < \" \\\\ n \" ; return 0 ; }',\n",
              "       b'string a _ b ; int n ; set < string > st ; cin > > n ; for ( int i = 0 ; i < n ; i + + ) { cin > > a > > b ; st . insert ( a + \" \" + b ) ; } cout < < st . size ( ) < < endl ; return 0 ; }'],\n",
              "      dtype=object)"
            ]
          },
          "metadata": {},
          "execution_count": 30
        }
      ],
      "source": [
        "cleanup_text(reserved_tokens, words).numpy()"
      ]
    },
    {
      "cell_type": "code",
      "execution_count": null,
      "metadata": {
        "id": "j8JuhlqZrP7i"
      },
      "outputs": [],
      "source": [
        "class CustomTokenizer(tf.Module):\n",
        "  def __init__(self, reserved_tokens, vocab_path):\n",
        "    self.tokenizer = text.BertTokenizer(vocab_path, lower_case=True)\n",
        "    self._reserved_tokens = reserved_tokens\n",
        "    self._vocab_path = tf.saved_model.Asset(vocab_path)\n",
        "\n",
        "    vocab = pathlib.Path(vocab_path).read_text().splitlines()\n",
        "    self.vocab = tf.Variable(vocab)\n",
        "\n",
        "    ## Create the signatures for export:   \n",
        "\n",
        "    # Include a tokenize signature for a batch of strings. \n",
        "    self.tokenize.get_concrete_function(\n",
        "        tf.TensorSpec(shape=[None], dtype=tf.string))\n",
        "\n",
        "    # Include `detokenize` and `lookup` signatures for:\n",
        "    #   * `Tensors` with shapes [tokens] and [batch, tokens]\n",
        "    #   * `RaggedTensors` with shape [batch, tokens]\n",
        "    self.detokenize.get_concrete_function(\n",
        "        tf.TensorSpec(shape=[None, None], dtype=tf.int64))\n",
        "    self.detokenize.get_concrete_function(\n",
        "          tf.RaggedTensorSpec(shape=[None, None], dtype=tf.int64))\n",
        "\n",
        "    self.lookup.get_concrete_function(\n",
        "        tf.TensorSpec(shape=[None, None], dtype=tf.int64))\n",
        "    self.lookup.get_concrete_function(\n",
        "          tf.RaggedTensorSpec(shape=[None, None], dtype=tf.int64))\n",
        "\n",
        "    # These `get_*` methods take no arguments\n",
        "    self.get_vocab_size.get_concrete_function()\n",
        "    self.get_vocab_path.get_concrete_function()\n",
        "    self.get_reserved_tokens.get_concrete_function()\n",
        "\n",
        "  @tf.function\n",
        "  def tokenize(self, strings):\n",
        "    enc = self.tokenizer.tokenize(strings)\n",
        "    # Merge the `word` and `word-piece` axes.\n",
        "    enc = enc.merge_dims(-2,-1)\n",
        "    enc = add_start_end(enc)\n",
        "    return enc\n",
        "\n",
        "  @tf.function\n",
        "  def detokenize(self, tokenized):\n",
        "    words = self.tokenizer.detokenize(tokenized)\n",
        "    return cleanup_text(self._reserved_tokens, words)\n",
        "\n",
        "  @tf.function\n",
        "  def lookup(self, token_ids):\n",
        "    return tf.gather(self.vocab, token_ids)\n",
        "\n",
        "  @tf.function\n",
        "  def get_vocab_size(self):\n",
        "    return tf.shape(self.vocab)[0]\n",
        "\n",
        "  @tf.function\n",
        "  def get_vocab_path(self):\n",
        "    return self._vocab_path\n",
        "\n",
        "  @tf.function\n",
        "  def get_reserved_tokens(self):\n",
        "    return tf.constant(self._reserved_tokens)"
      ]
    },
    {
      "cell_type": "code",
      "execution_count": null,
      "metadata": {
        "id": "tnjtn6MMrXK_"
      },
      "outputs": [],
      "source": [
        "tokenizers = tf.Module()\n",
        "tokenizers.prob = CustomTokenizer(reserved_tokens, '/content/prob_vocab.txt')\n",
        "tokenizers.sol = CustomTokenizer(reserved_tokens, '/content/sol_vocab.txt')"
      ]
    },
    {
      "cell_type": "code",
      "execution_count": null,
      "metadata": {
        "id": "MEuIW9TPrX-U"
      },
      "outputs": [],
      "source": [
        "model_name = 'spoc_pseudocode_to_code_converter'\n",
        "tf.saved_model.save(tokenizers, model_name)\n"
      ]
    },
    {
      "cell_type": "code",
      "source": [
        "!zip -r {model_name}.zip {model_name}"
      ],
      "metadata": {
        "id": "3Y1dIFDo1qg8",
        "colab": {
          "base_uri": "https://localhost:8080/"
        },
        "outputId": "36ef641f-b30f-43d3-f0c3-86a99eec101f"
      },
      "execution_count": null,
      "outputs": [
        {
          "output_type": "stream",
          "name": "stdout",
          "text": [
            "  adding: spoc_pseudocode_to_code_converter/ (stored 0%)\n",
            "  adding: spoc_pseudocode_to_code_converter/saved_model.pb (deflated 91%)\n",
            "  adding: spoc_pseudocode_to_code_converter/assets/ (stored 0%)\n",
            "  adding: spoc_pseudocode_to_code_converter/assets/prob_vocab.txt (deflated 47%)\n",
            "  adding: spoc_pseudocode_to_code_converter/assets/sol_vocab.txt (deflated 46%)\n",
            "  adding: spoc_pseudocode_to_code_converter/variables/ (stored 0%)\n",
            "  adding: spoc_pseudocode_to_code_converter/variables/variables.data-00000-of-00001 (deflated 47%)\n",
            "  adding: spoc_pseudocode_to_code_converter/variables/variables.index (deflated 32%)\n"
          ]
        }
      ]
    },
    {
      "cell_type": "code",
      "execution_count": null,
      "metadata": {
        "id": "TcbT6q5oRUlW"
      },
      "outputs": [],
      "source": [
        "# !unzip 'spoc_pseudocode_to_code_converter.zip'"
      ]
    },
    {
      "cell_type": "code",
      "execution_count": null,
      "metadata": {
        "id": "GTtbrqnWOASY"
      },
      "outputs": [],
      "source": [
        "# model_name = 'spoc_pseudocode_to_code_converter'\n"
      ]
    },
    {
      "cell_type": "code",
      "execution_count": null,
      "metadata": {
        "id": "VgcrGfh_Lh-o",
        "colab": {
          "base_uri": "https://localhost:8080/"
        },
        "outputId": "c3883420-b099-4141-ba79-bf0f49d7dc87"
      },
      "outputs": [
        {
          "output_type": "stream",
          "name": "stdout",
          "text": [
            "2322\n",
            "2153\n"
          ]
        }
      ],
      "source": [
        "tokenizers = tf.saved_model.load(model_name)\n",
        "print(tokenizers.prob.get_vocab_size().numpy())\n",
        "print(tokenizers.sol.get_vocab_size().numpy())"
      ]
    },
    {
      "cell_type": "code",
      "execution_count": null,
      "metadata": {
        "id": "vcswJKG4R6Wp"
      },
      "outputs": [],
      "source": [
        "# investigate the distribution of tokens per example in the dataset:\n",
        "\n",
        "lengths = []\n",
        "\n",
        "for p, s in dataset_tensr.batch(1024):\n",
        "  \n",
        "  prob_tokens = tokenizers.sol.tokenize(p)\n",
        "  lengths.append(prob_tokens.row_lengths())\n",
        "\n",
        "  sol_tokens = tokenizers.sol.tokenize(s)\n",
        "  lengths.append(sol_tokens.row_lengths())\n",
        "  # print('.', end='', flush=True)\n",
        "\n"
      ]
    },
    {
      "cell_type": "code",
      "execution_count": null,
      "metadata": {
        "id": "gRuXpQjM5tCy",
        "colab": {
          "base_uri": "https://localhost:8080/",
          "height": 281
        },
        "outputId": "e603a0f2-0ce4-43fa-bf54-dcf99311c5a7"
      },
      "outputs": [
        {
          "output_type": "display_data",
          "data": {
            "text/plain": [
              "<Figure size 432x288 with 1 Axes>"
            ],
            "image/png": "[encoded data removed]"
          },
          "metadata": {
            "needs_background": "light"
          }
        }
      ],
      "source": [
        "all_lengths = np.concatenate(lengths)\n",
        "\n",
        "plt.hist(all_lengths, np.linspace(0, 10000, 1000))\n",
        "plt.ylim(plt.ylim())\n",
        "max_length = max(all_lengths)\n",
        "plt.plot([max_length, max_length], plt.ylim())\n",
        "plt.title(f'Max tokens per example: {max_length}');\n",
        "\n"
      ]
    },
    {
      "cell_type": "code",
      "execution_count": null,
      "metadata": {
        "id": "amsq-daBVEqI"
      },
      "outputs": [],
      "source": [
        "# from above figure\n",
        "MAX_TOKENS = 500"
      ]
    },
    {
      "cell_type": "code",
      "execution_count": null,
      "metadata": {
        "id": "F64fj1cIWkGh"
      },
      "outputs": [],
      "source": [
        "#  a function to drop the examples longer than MAX_TOKENS:\n",
        "def filter_max_tokens(prob, sol):\n",
        "  num_tokens = tf.maximum(tf.shape(prob)[1],tf.shape(sol)[1])\n",
        "  return num_tokens < MAX_TOKENS"
      ]
    },
    {
      "cell_type": "code",
      "execution_count": null,
      "metadata": {
        "id": "Y1g-4oR3W2RG"
      },
      "outputs": [],
      "source": [
        "# a function that tokenizes the batches of raw text\n",
        "def tokenize_pairs(prob, sol):\n",
        "    prob = tokenizers.prob.tokenize(prob)\n",
        "    # Convert from ragged to dense, padding with zeros.\n",
        "    prob = prob.to_tensor()\n",
        "\n",
        "    sol = tokenizers.sol.tokenize(sol)\n",
        "    # Convert from ragged to dense, padding with zeros.\n",
        "    sol = sol.to_tensor()\n",
        "    return prob, sol"
      ]
    },
    {
      "cell_type": "code",
      "source": [
        "#k fold split by default k =10\n",
        "\n",
        "def split_func(i , data):\n",
        "  \n",
        "  validation_ls = []\n",
        "  training_ls = []\n",
        "\n",
        "  r = int(len(data)/i)\n",
        "  extra = len(data) - r*i\n",
        "\n",
        "  data = data[:-extra]\n",
        "\n",
        "  for k in range(0, len(data), r):\n",
        "    val_ls = data[k:k+r]\n",
        "    train1 = data[0:k]\n",
        "    train2 = data[k+r:]\n",
        "    \n",
        "    if (len(val_ls)== 0): continue\n",
        "    else: validation_ls.append(val_ls)\n",
        "\n",
        "    if (len(train1)== 0): training_ls.append(train2)\n",
        "    elif(len(train2)==0): training_ls.append(train1)\n",
        "    else: \n",
        "      train_ls = train1.append(train2)\n",
        "      training_ls.append(train_ls)\n",
        "  return validation_ls, training_ls\n",
        "\n"
      ],
      "metadata": {
        "id": "0epGEQXklbpD"
      },
      "execution_count": null,
      "outputs": []
    },
    {
      "cell_type": "code",
      "source": [
        "# k fold\n",
        "k_fold = 5\n",
        "val_data_list, train_data_list = split_func(k_fold,dataset)"
      ],
      "metadata": {
        "id": "sqvsrt5kqe2j"
      },
      "execution_count": null,
      "outputs": []
    },
    {
      "cell_type": "code",
      "source": [
        "print(len(val_data_list))\n",
        "print(len(train_data_list))\n",
        "print(train_data_list[0].shape)\n",
        "print(val_data_list[0].shape)\n"
      ],
      "metadata": {
        "colab": {
          "base_uri": "https://localhost:8080/"
        },
        "id": "kqiAt1px6uGu",
        "outputId": "f2c5a93c-5cbe-471c-b2e9-b13d664cc498"
      },
      "execution_count": null,
      "outputs": [
        {
          "output_type": "stream",
          "name": "stdout",
          "text": [
            "5\n",
            "5\n",
            "(11636, 2)\n",
            "(2909, 2)\n"
          ]
        }
      ]
    },
    {
      "cell_type": "code",
      "source": [
        "print(train_data_list[4])\n",
        "  "
      ],
      "metadata": {
        "colab": {
          "base_uri": "https://localhost:8080/"
        },
        "id": "Wa5tkK9zAm40",
        "outputId": "b16aabfa-8742-4547-dc78-df13851f1452"
      },
      "execution_count": null,
      "outputs": [
        {
          "output_type": "stream",
          "name": "stdout",
          "text": [
            "                                              pseudocode  \\\n",
            "0      if b=1 return a_ else call function gcd(b_ a%b...   \n",
            "1      let a and b be strings    n = integer    st = ...   \n",
            "2      declare integers n_ m_ su = 0_ su2 = 0_ a_ b a...   \n",
            "3      if a is 0_ return b from function    return re...   \n",
            "4      create map iterator it from string to integer ...   \n",
            "...                                                  ...   \n",
            "11631  declare integer i    declare string a    read ...   \n",
            "11632  let n and k be ints    let a be an int array o...   \n",
            "11633  if x is equal to 0 and s % 2 is odd        els...   \n",
            "11634  create string s    read s    set k to size of ...   \n",
            "11635  let r_ c be integers    read r_ c    s = array...   \n",
            "\n",
            "                                                    code  \n",
            "0      return !b ? a : gcd(b_ a % b);    }    int mai...  \n",
            "1      string a_ b;    int n;    set<string> st;    c...  \n",
            "2      int n_ m_ su = 0_ su2 = 0_ a_ b_ c;    cin >> ...  \n",
            "3      if (a == 0) return b;    return gcd1(b % a_ a)...  \n",
            "4      map<string_ int>::iterator it;    int main() {...  \n",
            "...                                                  ...  \n",
            "11631  int i;    string a;    cin >> a;    for (i = 0...  \n",
            "11632  int n_ k;    int a[105] = {12_ 13};    cin >> ...  \n",
            "11633  if (x == 0 && s % 2 == 1)    return 0;    else...  \n",
            "11634  string s;    cin >> s;    long long k = s.size...  \n",
            "11635  int r_ c;    cin >> r >> c;    string s[r];   ...  \n",
            "\n",
            "[11636 rows x 2 columns]\n"
          ]
        }
      ]
    },
    {
      "cell_type": "code",
      "execution_count": null,
      "metadata": {
        "id": "a4auvD654YY7"
      },
      "outputs": [],
      "source": [
        ""
      ]
    },
    {
      "cell_type": "code",
      "execution_count": null,
      "metadata": {
        "id": "LfZXRYTzXlCG"
      },
      "outputs": [],
      "source": [
        "# for p , s in train_data:\n",
        "#   print(p)\n",
        "#   print(s)"
      ]
    },
    {
      "cell_type": "code",
      "execution_count": null,
      "metadata": {
        "id": "BRM6rqwiXs2C"
      },
      "outputs": [],
      "source": [
        "# input pipeline that processes, shuffles and batches the data\n",
        "\n",
        "BUFFER_SIZE = 20000\n",
        "BATCH_SIZE = 64\n",
        "\n",
        "def make_batches(ds):\n",
        "  return (\n",
        "      ds\n",
        "      .cache()\n",
        "      .shuffle(BUFFER_SIZE)\n",
        "      .batch(BATCH_SIZE)\n",
        "      .map(tokenize_pairs, num_parallel_calls=tf.data.AUTOTUNE)\n",
        "      .filter(filter_max_tokens)\n",
        "      .prefetch(tf.data.AUTOTUNE))\n",
        "\n"
      ]
    },
    {
      "cell_type": "code",
      "execution_count": null,
      "metadata": {
        "id": "cIkctKct1jIe"
      },
      "outputs": [],
      "source": [
        ""
      ]
    },
    {
      "cell_type": "code",
      "execution_count": null,
      "metadata": {
        "id": "7D1NwpDc1kuW"
      },
      "outputs": [],
      "source": [
        ""
      ]
    },
    {
      "cell_type": "code",
      "execution_count": null,
      "metadata": {
        "id": "2EZnnCteaSGi"
      },
      "outputs": [],
      "source": [
        "#positional encoding\n",
        "def get_angles(pos, i, d_model):\n",
        "  angle_rates = 1 / np.power(10000, (2 * (i//2)) / np.float32(d_model))\n",
        "  return pos * angle_rates"
      ]
    },
    {
      "cell_type": "code",
      "execution_count": null,
      "metadata": {
        "id": "PD8eUmLBae9Z"
      },
      "outputs": [],
      "source": [
        "def positional_encoding(position, d_model):\n",
        "  angle_rads = get_angles(np.arange(position)[:, np.newaxis],\n",
        "                          np.arange(d_model)[np.newaxis, :],\n",
        "                          d_model)\n",
        "\n",
        "  # apply sin to even indices in the array; 2i\n",
        "  angle_rads[:, 0::2] = np.sin(angle_rads[:, 0::2])\n",
        "\n",
        "  # apply cos to odd indices in the array; 2i+1\n",
        "  angle_rads[:, 1::2] = np.cos(angle_rads[:, 1::2])\n",
        "\n",
        "  pos_encoding = angle_rads[np.newaxis, ...]\n",
        "\n",
        "  return tf.cast(pos_encoding, dtype=tf.float32)"
      ]
    },
    {
      "cell_type": "code",
      "execution_count": null,
      "metadata": {
        "id": "DvNpwKNyakDa",
        "colab": {
          "base_uri": "https://localhost:8080/",
          "height": 300
        },
        "outputId": "2de65dbd-5c3b-457b-ff8a-8cb70fabbc33"
      },
      "outputs": [
        {
          "output_type": "stream",
          "name": "stdout",
          "text": [
            "(1, 2048, 512)\n"
          ]
        },
        {
          "output_type": "display_data",
          "data": {
            "text/plain": [
              "<Figure size 432x288 with 2 Axes>"
            ],
            "image/png": "[encoded data removed]"
          },
          "metadata": {
            "needs_background": "light"
          }
        }
      ],
      "source": [
        "n, d = 2048, 512\n",
        "pos_encoding = positional_encoding(n, d)\n",
        "print(pos_encoding.shape)\n",
        "pos_encoding = pos_encoding[0]\n",
        "\n",
        "# Juggle the dimensions for the plot\n",
        "pos_encoding = tf.reshape(pos_encoding, (n, d//2, 2))\n",
        "pos_encoding = tf.transpose(pos_encoding, (2, 1, 0))\n",
        "pos_encoding = tf.reshape(pos_encoding, (d, n))\n",
        "\n",
        "plt.pcolormesh(pos_encoding, cmap='RdBu')\n",
        "plt.ylabel('Depth')\n",
        "plt.xlabel('Position')\n",
        "plt.colorbar()\n",
        "plt.show()"
      ]
    },
    {
      "cell_type": "code",
      "execution_count": null,
      "metadata": {
        "id": "8sN6G8q6arIb"
      },
      "outputs": [],
      "source": [
        "#Masking\n",
        "# Mask all the pad tokens in the batch of sequence. \n",
        "# It ensures that the model does not treat padding as the input. \n",
        "# The mask indicates where pad value 0 is present:\n",
        "#  it outputs a 1 at those locations, and a 0 otherwise.\n",
        "def create_padding_mask(seq):\n",
        "  seq = tf.cast(tf.math.equal(seq, 0), tf.float32)\n",
        "\n",
        "  # add extra dimensions to add the padding\n",
        "  # to the attention logits.\n",
        "  return seq[:, tf.newaxis, tf.newaxis, :]  # (batch_size, 1"
      ]
    },
    {
      "cell_type": "code",
      "execution_count": null,
      "metadata": {
        "id": "KsxLgXo6V2Zd"
      },
      "outputs": [],
      "source": [
        "# !pip install tensorflow-probability"
      ]
    },
    {
      "cell_type": "code",
      "execution_count": null,
      "metadata": {
        "id": "HvEG4D1gV7uc"
      },
      "outputs": [],
      "source": [
        "# import tensorflow_probability as tfp"
      ]
    },
    {
      "cell_type": "code",
      "execution_count": null,
      "metadata": {
        "id": "GE_G2ZzIbLHS"
      },
      "outputs": [],
      "source": [
        "# The look-ahead mask is used to mask the future tokens in a sequence.\n",
        "#  In other words, the mask indicates which entries should not be used.\n",
        "\n",
        "# This means that to predict the third token, only the first and second token\n",
        "#  will be used. Similarly to predict the fourth token, only the first,\n",
        "#   second and the third tokens will be used and so on.\n",
        "\n",
        "def create_look_ahead_mask(size):\n",
        "  mask = 1 - tf.linalg.band_part(tf.ones((size, size)), -1, 0)\n",
        "  return mask  # (seq_len, seq_len)\n",
        "\n",
        "\n",
        "# def create_look_ahead_mask(size):\n",
        "#     n = int(size * (size+1) / 2)\n",
        "#     mask = tfp.math.fill_triangular(tf.ones((n,), dtype=tf.int32), upper=False)"
      ]
    },
    {
      "cell_type": "code",
      "execution_count": null,
      "metadata": {
        "id": "dpO9BvBsblW6"
      },
      "outputs": [],
      "source": [
        "def scaled_dot_product_attention(q, k, v, mask):\n",
        "  \"\"\"Calculate the attention weights.\n",
        "  q, k, v must have matching leading dimensions.\n",
        "  k, v must have matching penultimate dimension, i.e.: seq_len_k = seq_len_v.\n",
        "  The mask has different shapes depending on its type(padding or look ahead)\n",
        "  but it must be broadcastable for addition.\n",
        "\n",
        "  Args:\n",
        "    q: query shape == (..., seq_len_q, depth)\n",
        "    k: key shape == (..., seq_len_k, depth)\n",
        "    v: value shape == (..., seq_len_v, depth_v)\n",
        "    mask: Float tensor with shape broadcastable\n",
        "          to (..., seq_len_q, seq_len_k). Defaults to None.\n",
        "\n",
        "  Returns:\n",
        "    output, attention_weights\n",
        "  \"\"\"\n",
        "\n",
        "  matmul_qk = tf.matmul(q, k, transpose_b=True)  # (..., seq_len_q, seq_len_k)\n",
        "\n",
        "  # scale matmul_qk\n",
        "  dk = tf.cast(tf.shape(k)[-1], tf.float32)\n",
        "  scaled_attention_logits = matmul_qk / tf.math.sqrt(dk)\n",
        "\n",
        "  # add the mask to the scaled tensor.\n",
        "  if mask is not None:\n",
        "    scaled_attention_logits += (mask * -1e9)\n",
        "\n",
        "  # softmax is normalized on the last axis (seq_len_k) so that the scores\n",
        "  # add up to 1.\n",
        "  attention_weights = tf.nn.softmax(scaled_attention_logits, axis=-1)  # (..., seq_len_q, seq_len_k)\n",
        "\n",
        "  output = tf.matmul(attention_weights, v)  # (..., seq_len_q, depth_v)\n",
        "\n",
        "  return output, attention_weights"
      ]
    },
    {
      "cell_type": "code",
      "execution_count": null,
      "metadata": {
        "id": "AhcCPlE0bqbJ"
      },
      "outputs": [],
      "source": [
        "def print_out(q, k, v):\n",
        "  temp_out, temp_attn = scaled_dot_product_attention(\n",
        "      q, k, v, None)\n",
        "  print('Attention weights are:')\n",
        "  print(temp_attn)\n",
        "  print('Output is:')\n",
        "  print(temp_out)"
      ]
    },
    {
      "cell_type": "code",
      "execution_count": null,
      "metadata": {
        "id": "yTX6u3doZaKI",
        "colab": {
          "base_uri": "https://localhost:8080/"
        },
        "outputId": "09d9515a-63d5-4b53-b0ef-39bf193004dc"
      },
      "outputs": [
        {
          "output_type": "stream",
          "name": "stdout",
          "text": [
            "Attention weights are:\n",
            "tf.Tensor([[0. 1. 0. 0.]], shape=(1, 4), dtype=float32)\n",
            "Output is:\n",
            "tf.Tensor([[10.  0.]], shape=(1, 2), dtype=float32)\n"
          ]
        }
      ],
      "source": [
        "np.set_printoptions(suppress=True)\n",
        "\n",
        "temp_k = tf.constant([[10, 0, 0],\n",
        "                      [0, 10, 0],\n",
        "                      [0, 0, 10],\n",
        "                      [0, 0, 10]], dtype=tf.float32)  # (4, 3)\n",
        "\n",
        "temp_v = tf.constant([[1, 0],\n",
        "                      [10, 0],\n",
        "                      [100, 5],\n",
        "                      [1000, 6]], dtype=tf.float32)  # (4, 2)\n",
        "\n",
        "# This `query` aligns with the second `key`,\n",
        "# so the second `value` is returned.\n",
        "temp_q = tf.constant([[0, 10, 0]], dtype=tf.float32)  # (1, 3)\n",
        "print_out(temp_q, temp_k, temp_v)"
      ]
    },
    {
      "cell_type": "code",
      "execution_count": null,
      "metadata": {
        "id": "jWVoYoYtb7dm"
      },
      "outputs": [],
      "source": [
        "class MultiHeadAttention(keras.layers.Layer):\n",
        "  def __init__(self,*, d_model, num_heads):\n",
        "    super(MultiHeadAttention, self).__init__()\n",
        "    self.num_heads = num_heads\n",
        "    self.d_model = d_model\n",
        "\n",
        "    assert d_model % self.num_heads == 0\n",
        "\n",
        "    self.depth = d_model // self.num_heads\n",
        "\n",
        "    self.wq = keras.layers.Dense(d_model)\n",
        "    self.wk = keras.layers.Dense(d_model)\n",
        "    self.wv = keras.layers.Dense(d_model)\n",
        "\n",
        "    self.dense = keras.layers.Dense(d_model)\n",
        "\n",
        "  def split_heads(self, x, batch_size):\n",
        "    \"\"\"Split the last dimension into (num_heads, depth).\n",
        "    Transpose the result such that the shape is (batch_size, num_heads, seq_len, depth)\n",
        "    \"\"\"\n",
        "    x = tf.reshape(x, (batch_size, -1, self.num_heads, self.depth))\n",
        "    return tf.transpose(x, perm=[0, 2, 1, 3])\n",
        "\n",
        "  def call(self, v, k, q, mask):\n",
        "    batch_size = tf.shape(q)[0]\n",
        "\n",
        "    q = self.wq(q)  # (batch_size, seq_len, d_model)\n",
        "    k = self.wk(k)  # (batch_size, seq_len, d_model)\n",
        "    v = self.wv(v)  # (batch_size, seq_len, d_model)\n",
        "\n",
        "    q = self.split_heads(q, batch_size)  # (batch_size, num_heads, seq_len_q, depth)\n",
        "    k = self.split_heads(k, batch_size)  # (batch_size, num_heads, seq_len_k, depth)\n",
        "    v = self.split_heads(v, batch_size)  # (batch_size, num_heads, seq_len_v, depth)\n",
        "\n",
        "    # scaled_attention.shape == (batch_size, num_heads, seq_len_q, depth)\n",
        "    # attention_weights.shape == (batch_size, num_heads, seq_len_q, seq_len_k)\n",
        "    scaled_attention, attention_weights = scaled_dot_product_attention(\n",
        "        q, k, v, mask)\n",
        "\n",
        "    scaled_attention = tf.transpose(scaled_attention, perm=[0, 2, 1, 3])  # (batch_size, seq_len_q, num_heads, depth)\n",
        "\n",
        "    concat_attention = tf.reshape(scaled_attention,\n",
        "                                  (batch_size, -1, self.d_model))  # (batch_size, seq_len_q, d_model)\n",
        "\n",
        "    output = self.dense(concat_attention)  # (batch_size, seq_len_q, d_model)\n",
        "\n",
        "    return output, attention_weights"
      ]
    },
    {
      "cell_type": "code",
      "execution_count": null,
      "metadata": {
        "id": "3uZFuSCGZ625",
        "colab": {
          "base_uri": "https://localhost:8080/"
        },
        "outputId": "7510927f-75f2-4566-9c0b-a8d823bd5e34"
      },
      "outputs": [
        {
          "output_type": "execute_result",
          "data": {
            "text/plain": [
              "(TensorShape([1, 60, 512]), TensorShape([1, 8, 60, 60]))"
            ]
          },
          "metadata": {},
          "execution_count": 98
        }
      ],
      "source": [
        "temp_mha = MultiHeadAttention(d_model=512, num_heads=8)\n",
        "y = tf.random.uniform((1, 60, 512))  # (batch_size, encoder_sequence, d_model)\n",
        "out, attn = temp_mha(y, k=y, q=y, mask=None)\n",
        "out.shape, attn.shape"
      ]
    },
    {
      "cell_type": "code",
      "execution_count": null,
      "metadata": {
        "id": "aKcAvTVYb-hK"
      },
      "outputs": [],
      "source": [
        "def point_wise_feed_forward_network(d_model, dff):\n",
        "  return keras.Sequential([\n",
        "      keras.layers.Dense(dff, activation='relu'),  # (batch_size, seq_len, dff)\n",
        "      keras.layers.Dense(d_model)  # (batch_size, seq_len, d_model)\n",
        "  ])"
      ]
    },
    {
      "cell_type": "code",
      "execution_count": null,
      "metadata": {
        "id": "OycqMgttaC3g",
        "colab": {
          "base_uri": "https://localhost:8080/"
        },
        "outputId": "a90fa304-dfb5-47f4-f50b-b8cff0e5332f"
      },
      "outputs": [
        {
          "output_type": "execute_result",
          "data": {
            "text/plain": [
              "TensorShape([64, 50, 512])"
            ]
          },
          "metadata": {},
          "execution_count": 100
        }
      ],
      "source": [
        "sample_ffn = point_wise_feed_forward_network(512, 2048)\n",
        "sample_ffn(tf.random.uniform((64, 50, 512))).shape"
      ]
    },
    {
      "cell_type": "code",
      "execution_count": null,
      "metadata": {
        "id": "xfQcBvNfcIjp"
      },
      "outputs": [],
      "source": [
        "class EncoderLayer(keras.layers.Layer):\n",
        "  def __init__(self,*, d_model, num_heads, dff, rate=0.1):\n",
        "    super(EncoderLayer, self).__init__()\n",
        "\n",
        "    self.mha = MultiHeadAttention(d_model=d_model, num_heads=num_heads)\n",
        "    self.ffn = point_wise_feed_forward_network(d_model, dff)\n",
        "\n",
        "    self.layernorm1 = keras.layers.LayerNormalization(epsilon=1e-6)\n",
        "    self.layernorm2 = keras.layers.LayerNormalization(epsilon=1e-6)\n",
        "\n",
        "    self.dropout1 = keras.layers.Dropout(rate)\n",
        "    self.dropout2 = keras.layers.Dropout(rate)\n",
        "\n",
        "  def call(self, x, training, mask):\n",
        "\n",
        "    attn_output, _ = self.mha(x, x, x, mask)  # (batch_size, input_seq_len, d_model)\n",
        "    attn_output = self.dropout1(attn_output, training=training)\n",
        "    out1 = self.layernorm1(x + attn_output)  # (batch_size, input_seq_len, d_model)\n",
        "\n",
        "    ffn_output = self.ffn(out1)  # (batch_size, input_seq_len, d_model)\n",
        "    ffn_output = self.dropout2(ffn_output, training=training)\n",
        "    out2 = self.layernorm2(out1 + ffn_output)  # (batch_size, input_seq_len, d_model)\n",
        "\n",
        "    return out2"
      ]
    },
    {
      "cell_type": "code",
      "execution_count": null,
      "metadata": {
        "id": "9b539005wvfT",
        "colab": {
          "base_uri": "https://localhost:8080/"
        },
        "outputId": "1922f788-8318-40fc-8116-7ce820e1caa0"
      },
      "outputs": [
        {
          "output_type": "execute_result",
          "data": {
            "text/plain": [
              "TensorShape([64, 43, 512])"
            ]
          },
          "metadata": {},
          "execution_count": 102
        }
      ],
      "source": [
        "sample_encoder_layer = EncoderLayer(d_model=512, num_heads=8, dff=2048)\n",
        "\n",
        "sample_encoder_layer_output = sample_encoder_layer(\n",
        "    tf.random.uniform((64, 43, 512)), False, None)\n",
        "\n",
        "sample_encoder_layer_output.shape  # (batch_size, input_seq_len, d_model)"
      ]
    },
    {
      "cell_type": "code",
      "execution_count": null,
      "metadata": {
        "id": "g1UvuOj_cToI"
      },
      "outputs": [],
      "source": [
        "class DecoderLayer(keras.layers.Layer):\n",
        "  def __init__(self,*, d_model, num_heads, dff, rate=0.1):\n",
        "    super(DecoderLayer, self).__init__()\n",
        "\n",
        "    self.mha1 = MultiHeadAttention(d_model=d_model, num_heads=num_heads)\n",
        "    self.mha2 = MultiHeadAttention(d_model=d_model, num_heads=num_heads)\n",
        "\n",
        "    self.ffn = point_wise_feed_forward_network(d_model, dff)\n",
        "\n",
        "    self.layernorm1 = keras.layers.LayerNormalization(epsilon=1e-6)\n",
        "    self.layernorm2 = keras.layers.LayerNormalization(epsilon=1e-6)\n",
        "    self.layernorm3 = keras.layers.LayerNormalization(epsilon=1e-6)\n",
        "\n",
        "    self.dropout1 = keras.layers.Dropout(rate)\n",
        "    self.dropout2 = keras.layers.Dropout(rate)\n",
        "    self.dropout3 = keras.layers.Dropout(rate)\n",
        "\n",
        "  def call(self, x, enc_output, training,\n",
        "           look_ahead_mask, padding_mask):\n",
        "    # enc_output.shape == (batch_size, input_seq_len, d_model)\n",
        "\n",
        "    attn1, attn_weights_block1 = self.mha1(x, x, x, look_ahead_mask)  # (batch_size, target_seq_len, d_model)\n",
        "    attn1 = self.dropout1(attn1, training=training)\n",
        "    out1 = self.layernorm1(attn1 + x)\n",
        "\n",
        "    attn2, attn_weights_block2 = self.mha2(\n",
        "        enc_output, enc_output, out1, padding_mask)  # (batch_size, target_seq_len, d_model)\n",
        "    attn2 = self.dropout2(attn2, training=training)\n",
        "    out2 = self.layernorm2(attn2 + out1)  # (batch_size, target_seq_len, d_model)\n",
        "\n",
        "    ffn_output = self.ffn(out2)  # (batch_size, target_seq_len, d_model)\n",
        "    ffn_output = self.dropout3(ffn_output, training=training)\n",
        "    out3 = self.layernorm3(ffn_output + out2)  # (batch_size, target_seq_len, d_model)\n",
        "\n",
        "    return out3, attn_weights_block1, attn_weights_block2"
      ]
    },
    {
      "cell_type": "code",
      "execution_count": null,
      "metadata": {
        "id": "Umv2JJcwxK56",
        "colab": {
          "base_uri": "https://localhost:8080/"
        },
        "outputId": "b37c062f-e061-4cd5-d154-c5eb80580c2d"
      },
      "outputs": [
        {
          "output_type": "execute_result",
          "data": {
            "text/plain": [
              "TensorShape([64, 50, 512])"
            ]
          },
          "metadata": {},
          "execution_count": 104
        }
      ],
      "source": [
        "sample_decoder_layer = DecoderLayer(d_model=512, num_heads=8, dff=2048)\n",
        "\n",
        "sample_decoder_layer_output, _, _ = sample_decoder_layer(\n",
        "    tf.random.uniform((64, 50, 512)), sample_encoder_layer_output,\n",
        "    False, None, None)\n",
        "\n",
        "sample_decoder_layer_output.shape  # (batch_size, target_seq_len, d_model)"
      ]
    },
    {
      "cell_type": "code",
      "execution_count": null,
      "metadata": {
        "id": "inLaFpYucY6e"
      },
      "outputs": [],
      "source": [
        "\n",
        "#encoder consists of input embedding , positional encoding and n encoder layers\n",
        "\n",
        "class Encoder(keras.layers.Layer):\n",
        "  def __init__(self,*, num_layers, d_model, num_heads, dff, input_vocab_size,\n",
        "               rate=0.1):\n",
        "    super(Encoder, self).__init__()\n",
        "\n",
        "    self.d_model = d_model\n",
        "    self.num_layers = num_layers\n",
        "\n",
        "    self.embedding = keras.layers.Embedding(input_vocab_size, d_model)\n",
        "    self.pos_encoding = positional_encoding(MAX_TOKENS, self.d_model)\n",
        "\n",
        "    self.enc_layers = [\n",
        "        EncoderLayer(d_model=d_model, num_heads=num_heads, dff=dff, rate=rate)\n",
        "        for _ in range(num_layers)]\n",
        "\n",
        "    self.dropout = keras.layers.Dropout(rate)\n",
        "\n",
        "  def call(self, x, training, mask):\n",
        "\n",
        "    seq_len = tf.shape(x)[1]\n",
        "\n",
        "    # adding embedding and position encoding.\n",
        "    x = self.embedding(x)  # (batch_size, input_seq_len, d_model)\n",
        "    x *= tf.math.sqrt(tf.cast(self.d_model, tf.float32))\n",
        "    x += self.pos_encoding[:, :seq_len, :]\n",
        "\n",
        "    x = self.dropout(x, training=training)\n",
        "\n",
        "    for i in range(self.num_layers):\n",
        "      x = self.enc_layers[i](x, training, mask)\n",
        "\n",
        "    return x  # (batch_size, input_seq_len, d_model)"
      ]
    },
    {
      "cell_type": "code",
      "execution_count": null,
      "metadata": {
        "id": "OxdLBeF4xevQ",
        "colab": {
          "base_uri": "https://localhost:8080/"
        },
        "outputId": "a5782a47-8c5d-4d9d-d784-7324c3568785"
      },
      "outputs": [
        {
          "output_type": "stream",
          "name": "stdout",
          "text": [
            "(64, 62, 512)\n"
          ]
        }
      ],
      "source": [
        "sample_encoder = Encoder(num_layers=2, d_model=512, num_heads=8,\n",
        "                         dff=2048, input_vocab_size=8500)\n",
        "temp_input = tf.random.uniform((64, 62), dtype=tf.int64, minval=0, maxval=200)\n",
        "\n",
        "sample_encoder_output = sample_encoder(temp_input, training=False, mask=None)\n",
        "\n",
        "print(sample_encoder_output.shape)  # (batch_size, input_seq_len, d_model)"
      ]
    },
    {
      "cell_type": "code",
      "execution_count": null,
      "metadata": {
        "id": "oqEHwIV8cmPb"
      },
      "outputs": [],
      "source": [
        "class Decoder(keras.layers.Layer):\n",
        "  def __init__(self,*, num_layers, d_model, num_heads, dff, target_vocab_size,\n",
        "               rate=0.1):\n",
        "    super(Decoder, self).__init__()\n",
        "\n",
        "    self.d_model = d_model\n",
        "    self.num_layers = num_layers\n",
        "\n",
        "    self.embedding = keras.layers.Embedding(target_vocab_size, d_model)\n",
        "    self.pos_encoding = positional_encoding(MAX_TOKENS, d_model)\n",
        "\n",
        "    self.dec_layers = [\n",
        "        DecoderLayer(d_model=d_model, num_heads=num_heads, dff=dff, rate=rate)\n",
        "        for _ in range(num_layers)]\n",
        "    self.dropout = keras.layers.Dropout(rate)\n",
        "\n",
        "  def call(self, x, enc_output, training,\n",
        "           look_ahead_mask, padding_mask):\n",
        "\n",
        "    seq_len = tf.shape(x)[1]\n",
        "    attention_weights = {}\n",
        "\n",
        "    x = self.embedding(x)  # (batch_size, target_seq_len, d_model)\n",
        "    x *= tf.math.sqrt(tf.cast(self.d_model, tf.float32))\n",
        "    x += self.pos_encoding[:, :seq_len, :]\n",
        "\n",
        "    x = self.dropout(x, training=training)\n",
        "\n",
        "    for i in range(self.num_layers):\n",
        "      x, block1, block2 = self.dec_layers[i](x, enc_output, training,\n",
        "                                             look_ahead_mask, padding_mask)\n",
        "\n",
        "      attention_weights[f'decoder_layer{i+1}_block1'] = block1\n",
        "      attention_weights[f'decoder_layer{i+1}_block2'] = block2\n",
        "\n",
        "    # x.shape == (batch_size, target_seq_len, d_model)\n",
        "    return x, attention_weights"
      ]
    },
    {
      "cell_type": "code",
      "execution_count": null,
      "metadata": {
        "id": "xovgZHHcxrMC",
        "colab": {
          "base_uri": "https://localhost:8080/"
        },
        "outputId": "6bac95c8-ee56-41b3-f728-ebfa2c5069ba"
      },
      "outputs": [
        {
          "output_type": "execute_result",
          "data": {
            "text/plain": [
              "(TensorShape([64, 26, 512]), TensorShape([64, 8, 26, 62]))"
            ]
          },
          "metadata": {},
          "execution_count": 108
        }
      ],
      "source": [
        "sample_decoder = Decoder(num_layers=2, d_model=512, num_heads=8,\n",
        "                         dff=2048, target_vocab_size=8000)\n",
        "temp_input = tf.random.uniform((64, 26), dtype=tf.int64, minval=0, maxval=200)\n",
        "\n",
        "output, attn = sample_decoder(temp_input,\n",
        "                              enc_output=sample_encoder_output,\n",
        "                              training=False,\n",
        "                              look_ahead_mask=None,\n",
        "                              padding_mask=None)\n",
        "\n",
        "output.shape, attn['decoder_layer2_block2'].shape"
      ]
    },
    {
      "cell_type": "code",
      "execution_count": null,
      "metadata": {
        "id": "Quq48WxxcsCV"
      },
      "outputs": [],
      "source": [
        "class Transformer(keras.Model):\n",
        "  def __init__(self,*, num_layers, d_model, num_heads, dff, input_vocab_size,\n",
        "               target_vocab_size, rate=0.1):\n",
        "    super().__init__()\n",
        "    self.encoder = Encoder(num_layers=num_layers, d_model=d_model,\n",
        "                           num_heads=num_heads, dff=dff,\n",
        "                           input_vocab_size=input_vocab_size, rate=rate)\n",
        "\n",
        "    self.decoder = Decoder(num_layers=num_layers, d_model=d_model,\n",
        "                           num_heads=num_heads, dff=dff,\n",
        "                           target_vocab_size=target_vocab_size, rate=rate)\n",
        "\n",
        "    self.final_layer = keras.layers.Dense(target_vocab_size)\n",
        "\n",
        "  def call(self, inputs, training):\n",
        "    # Keras models prefer if you pass all your inputs in the first argument\n",
        "    inp, tar = inputs\n",
        "\n",
        "    padding_mask, look_ahead_mask = self.create_masks(inp, tar)\n",
        "\n",
        "    enc_output = self.encoder(inp, training, padding_mask)  # (batch_size, inp_seq_len, d_model)\n",
        "\n",
        "    # dec_output.shape == (batch_size, tar_seq_len, d_model)\n",
        "    dec_output, attention_weights = self.decoder(\n",
        "        tar, enc_output, training, look_ahead_mask, padding_mask)\n",
        "\n",
        "    final_output = self.final_layer(dec_output)  # (batch_size, tar_seq_len, target_vocab_size)\n",
        "\n",
        "    return final_output, attention_weights\n",
        "\n",
        "  def create_masks(self, inp, tar):\n",
        "    # Encoder padding mask (Used in the 2nd attention block in the decoder too.)\n",
        "    padding_mask = create_padding_mask(inp)\n",
        "\n",
        "    # Used in the 1st attention block in the decoder.\n",
        "    # It is used to pad and mask future tokens in the input received by\n",
        "    # the decoder.\n",
        "    look_ahead_mask = create_look_ahead_mask(tf.shape(tar)[1])\n",
        "    dec_target_padding_mask = create_padding_mask(tar)\n",
        "    look_ahead_mask = tf.maximum(dec_target_padding_mask, look_ahead_mask)\n",
        "\n",
        "    return padding_mask, look_ahead_mask"
      ]
    },
    {
      "cell_type": "code",
      "execution_count": null,
      "metadata": {
        "id": "t4SIAISEx0KX",
        "colab": {
          "base_uri": "https://localhost:8080/"
        },
        "outputId": "4b1a7c56-8836-41b8-bf18-97ff088d2b81"
      },
      "outputs": [
        {
          "output_type": "execute_result",
          "data": {
            "text/plain": [
              "TensorShape([64, 36, 8000])"
            ]
          },
          "metadata": {},
          "execution_count": 110
        }
      ],
      "source": [
        "sample_transformer = Transformer(\n",
        "    num_layers=2, d_model=512, num_heads=8, dff=2048,\n",
        "    input_vocab_size=8500, target_vocab_size=8000)\n",
        "\n",
        "temp_input = tf.random.uniform((64, 38), dtype=tf.int64, minval=0, maxval=200)\n",
        "temp_target = tf.random.uniform((64, 36), dtype=tf.int64, minval=0, maxval=200)\n",
        "\n",
        "fn_out, _ = sample_transformer([temp_input, temp_target], training=False)\n",
        "\n",
        "fn_out.shape  # (batch_size, tar_seq_len, target_vocab_size)"
      ]
    },
    {
      "cell_type": "code",
      "execution_count": null,
      "metadata": {
        "id": "QW8beV4Dcw2u"
      },
      "outputs": [],
      "source": [
        "# hyperparameters\n",
        "num_layers = 4\n",
        "d_model = 128\n",
        "dff = 512\n",
        "num_heads = 8\n",
        "dropout_rate = 0.1"
      ]
    },
    {
      "cell_type": "code",
      "execution_count": null,
      "metadata": {
        "id": "2eMa9JR3c9zW"
      },
      "outputs": [],
      "source": [
        "class CustomSchedule(tf.keras.optimizers.schedules.LearningRateSchedule):\n",
        "  def __init__(self, d_model, warmup_steps=4000):\n",
        "    super(CustomSchedule, self).__init__()\n",
        "\n",
        "    self.d_model = d_model\n",
        "    self.d_model = tf.cast(self.d_model, tf.float32)\n",
        "\n",
        "    self.warmup_steps = warmup_steps\n",
        "\n",
        "  def __call__(self, step):\n",
        "    arg1 = tf.math.rsqrt(step)\n",
        "    arg2 = step * (self.warmup_steps ** -1.5)\n",
        "\n",
        "    return tf.math.rsqrt(self.d_model) * tf.math.minimum(arg1, arg2)"
      ]
    },
    {
      "cell_type": "code",
      "execution_count": null,
      "metadata": {
        "id": "OuAmF893c-_9"
      },
      "outputs": [],
      "source": [
        "learning_rate = CustomSchedule(d_model)\n",
        "\n",
        "optimizer = tf.keras.optimizers.Adam(learning_rate, beta_1=0.9, beta_2=0.98,\n",
        "                                     epsilon=1e-3)"
      ]
    },
    {
      "cell_type": "code",
      "execution_count": null,
      "metadata": {
        "id": "PelHhcwgyHib",
        "colab": {
          "base_uri": "https://localhost:8080/",
          "height": 296
        },
        "outputId": "6c85a52c-4abd-492a-b7e5-43ff99700921"
      },
      "outputs": [
        {
          "output_type": "execute_result",
          "data": {
            "text/plain": [
              "Text(0.5, 0, 'Train Step')"
            ]
          },
          "metadata": {},
          "execution_count": 114
        },
        {
          "output_type": "display_data",
          "data": {
            "text/plain": [
              "<Figure size 432x288 with 1 Axes>"
            ],
            "image/png": "[encoded data removed]"
          },
          "metadata": {
            "needs_background": "light"
          }
        }
      ],
      "source": [
        "temp_learning_rate_schedule = CustomSchedule(d_model)\n",
        "\n",
        "plt.plot(temp_learning_rate_schedule(tf.range(40000, dtype=tf.float32)))\n",
        "plt.ylabel('Learning Rate')\n",
        "plt.xlabel('Train Step')"
      ]
    },
    {
      "cell_type": "code",
      "execution_count": null,
      "metadata": {
        "id": "3HM0H5rwdGMu"
      },
      "outputs": [],
      "source": [
        "loss_object = keras.losses.SparseCategoricalCrossentropy(\n",
        "    from_logits=True, reduction='none')"
      ]
    },
    {
      "cell_type": "code",
      "execution_count": null,
      "metadata": {
        "id": "FO7Nw94QdMYw"
      },
      "outputs": [],
      "source": [
        "def loss_function(real, pred):\n",
        "  mask = tf.math.logical_not(tf.math.equal(real, 0))\n",
        "  loss_ = loss_object(real, pred)\n",
        "\n",
        "  mask = tf.cast(mask, dtype=loss_.dtype)\n",
        "  loss_ *= mask\n",
        "\n",
        "  return tf.reduce_sum(loss_)/tf.reduce_sum(mask)\n",
        "\n",
        "\n",
        "def accuracy_function(real, pred):\n",
        "  accuracies = tf.equal(real, tf.argmax(pred, axis=2))\n",
        "\n",
        "  mask = tf.math.logical_not(tf.math.equal(real, 0))\n",
        "  accuracies = tf.math.logical_and(mask, accuracies)\n",
        "\n",
        "  accuracies = tf.cast(accuracies, dtype=tf.float32)\n",
        "  mask = tf.cast(mask, dtype=tf.float32)\n",
        "  return tf.reduce_sum(accuracies)/tf.reduce_sum(mask)"
      ]
    },
    {
      "cell_type": "code",
      "execution_count": null,
      "metadata": {
        "id": "vq2X4tLHdRLW"
      },
      "outputs": [],
      "source": [
        "train_loss = keras.metrics.Mean(name='train_loss')\n",
        "train_accuracy = keras.metrics.Mean(name='train_accuracy')"
      ]
    },
    {
      "cell_type": "code",
      "execution_count": null,
      "metadata": {
        "id": "-B8-I2KOdWhV"
      },
      "outputs": [],
      "source": [
        "transformer = Transformer(\n",
        "    num_layers=num_layers,\n",
        "    d_model=d_model,\n",
        "    num_heads=num_heads,\n",
        "    dff=dff,\n",
        "    input_vocab_size=tokenizers.prob.get_vocab_size().numpy(),\n",
        "    target_vocab_size=tokenizers.sol.get_vocab_size().numpy(),\n",
        "    rate=dropout_rate)"
      ]
    },
    {
      "cell_type": "code",
      "execution_count": null,
      "metadata": {
        "id": "aM4mY9pvdcJi"
      },
      "outputs": [],
      "source": [
        "checkpoint_path = './checkpoints/train'\n",
        "\n",
        "ckpt = tf.train.Checkpoint(transformer=transformer,\n",
        "                           optimizer=optimizer)\n",
        "\n",
        "ckpt_manager = tf.train.CheckpointManager(ckpt, checkpoint_path, max_to_keep=5)\n",
        "\n",
        "# if a checkpoint exists, restore the latest checkpoint.\n",
        "if ckpt_manager.latest_checkpoint:\n",
        "  ckpt.restore(ckpt_manager.latest_checkpoint)\n",
        "  print('Latest checkpoint restored!!')"
      ]
    },
    {
      "cell_type": "code",
      "execution_count": null,
      "metadata": {
        "id": "hR5qNvxbdg43"
      },
      "outputs": [],
      "source": [
        "EPOCHS = 20"
      ]
    },
    {
      "cell_type": "code",
      "execution_count": null,
      "metadata": {
        "id": "v8XD6S6AdutV"
      },
      "outputs": [],
      "source": [
        "# The @tf.function trace-compiles train_step into a TF graph for faster\n",
        "# execution. The function specializes to the precise shape of the argument\n",
        "# tensors. To avoid re-tracing due to the variable sequence lengths or variable\n",
        "# batch sizes (the last batch is smaller), use input_signature to specify\n",
        "# more generic shapes.\n",
        "loss_lst = []\n",
        "acc_lst = []\n",
        "train_step_signature = [\n",
        "    tf.TensorSpec(shape=(None, None), dtype=tf.int64),\n",
        "    tf.TensorSpec(shape=(None, None), dtype=tf.int64),\n",
        "]\n",
        "\n",
        "\n",
        "@tf.function(input_signature=train_step_signature)\n",
        "def train_step(inp, tar):\n",
        "  tar_inp = tar[:, :-1]\n",
        "  tar_real = tar[:, 1:]\n",
        "\n",
        "  with tf.GradientTape() as tape:\n",
        "    predictions, _ = transformer([inp, tar_inp],\n",
        "                                 training = True)\n",
        "    loss = loss_function(tar_real, predictions)\n",
        "\n",
        "  accuracy = accuracy_function(tar_real, predictions)\n",
        "\n",
        "  gradients = tape.gradient(loss, transformer.trainable_variables)\n",
        "  optimizer.apply_gradients(zip(gradients, transformer.trainable_variables))\n",
        "  \n",
        "  loss_lst.append(loss)\n",
        "  acc_lst.append(accuracy)\n",
        "  \n",
        "  train_loss(loss)\n",
        "  train_accuracy(accuracy)\n",
        "\n"
      ]
    },
    {
      "cell_type": "code",
      "execution_count": null,
      "metadata": {
        "id": "MizLl6JmRm9H"
      },
      "outputs": [],
      "source": [
        ""
      ]
    },
    {
      "cell_type": "code",
      "execution_count": null,
      "metadata": {
        "id": "bkNrvn1jwjvl",
        "colab": {
          "base_uri": "https://localhost:8080/"
        },
        "outputId": "fbc1f8c4-11e3-4a61-a382-05f99cd04a28"
      },
      "outputs": [
        {
          "output_type": "stream",
          "name": "stdout",
          "text": [
            "declare integer variables n_ d and res and array of integers dp with size 105    declare string str    read n and d    read str    assign value of 0 to dp[0]    for i = 1 to n exclusive    if str[i] = '1'    set res to INT_MAX    for j = i - 1 decrement j while j >= 0 and j >= i - d    if str[j] = '1'_ set res to min of res and dp[j]        dp[i] = INT_MAX if res == INT_MAX or res + 1 otherwise            res = -1 if dp[n - 1] == INT_MAX or dp[n - 1] otherwise    print res        \n",
            "<class 'list'>\n",
            "int n_ d_ dp[105]_ res;    string str;    cin >> n >> d;    cin >> str;    dp[0] = 0;    for (int i = 1; i < n; ++i) {    if (str[i] == '1') {    res = INT_MAX;    for (int j = i - 1; j >= 0 && j >= i - d; --j) {    if (str[j] == '1') { res = min(res_ dp[j]); }    }    dp[i] = (res == INT_MAX) ? INT_MAX : (res + 1);    }    }    res = (dp[n - 1] == INT_MAX) ? -1 : dp[n - 1];    cout << res << endl;    }    \n",
            "<class 'list'>\n",
            "if b=1 return a_ else call function gcd(b_ a%b)            n _ nn_ ans = integers with ans =0    Read n    for i=2 to n-1 execute    set nn to n    while nn is not equal to 0_ set ans to ans + nn%i_ and also set nn= nn/i        set o to gcd(ans_ n-2)    print out ans/o \"/\" (n-2)/o            function gcd with integer arguments a and b    return !b ? a : gcd(b_ a % b)            integers n_ nn and ans = 0    read n    for i = 2 to n - 1 inclusive    set nn to n    while nn increment ans by (nn % i) and set nn to nn / i;        integer o = gcd of ans and n - 2    print ans / o_ \"/\"_ (n - 2) / o and \"\\n\"            \n",
            "<class 'list'>\n",
            "return !b ? a : gcd(b_ a % b);    }    int main() {    int n_ nn_ ans = 0;    cin >> n;    for (int i = 2; i <= n - 1; ++i) {    nn = n;    while (nn) ans += nn % i_ nn /= i;    }    int o = gcd(ans_ n - 2);    cout << ans / o << \"/\" << (n - 2) / o << \"\\n\";    return 0;    }    int gcd(int a_ int b) {    return !b ? a : gcd(b_ a % b);    }    int main() {    int n_ nn_ ans = 0;    cin >> n;    for (int i = 2; i <= n - 1; ++i) {    nn = n;    while (nn) ans += nn % i_ nn /= i;    }    int o = gcd(ans_ n - 2);    cout << ans / o << \"/\" << (n - 2) / o << \"\\n\";    return 0;    }    \n",
            "<class 'list'>\n",
            "Epoch 1 Batch 0 Loss 7.6527 Accuracy 0.0001\n",
            "Epoch 1 Batch 50 Loss 7.5452 Accuracy 0.0071\n",
            "Epoch 1 Loss 7.3591 Accuracy 0.0480\n",
            "Time taken for 1 epoch: 82.92 secs\n",
            "\n",
            "Epoch 2 Batch 0 Loss 6.9941 Accuracy 0.0962\n",
            "Epoch 2 Batch 50 Loss 6.8509 Accuracy 0.0942\n",
            "Epoch 2 Loss 6.7049 Accuracy 0.0943\n",
            "Time taken for 1 epoch: 68.48 secs\n",
            "\n",
            "Epoch 3 Batch 0 Loss 6.3676 Accuracy 0.0903\n",
            "Epoch 3 Batch 50 Loss 6.1403 Accuracy 0.0942\n",
            "Epoch 3 Loss 5.9587 Accuracy 0.0942\n",
            "Time taken for 1 epoch: 61.55 secs\n",
            "\n",
            "Epoch 4 Batch 0 Loss 5.5544 Accuracy 0.0951\n",
            "Epoch 4 Batch 50 Loss 5.2450 Accuracy 0.0945\n",
            "Epoch 4 Loss 5.0423 Accuracy 0.0944\n",
            "Time taken for 1 epoch: 67.71 secs\n",
            "\n",
            "Epoch 5 Batch 0 Loss 4.6007 Accuracy 0.0968\n",
            "Epoch 5 Batch 50 Loss 4.4672 Accuracy 0.0943\n",
            "Saving checkpoint for epoch 5 at ./checkpoints/train/ckpt-1\n",
            "Epoch 5 Loss 4.3775 Accuracy 0.0953\n",
            "Time taken for 1 epoch: 68.58 secs\n",
            "\n",
            "Epoch 6 Batch 0 Loss 4.1345 Accuracy 0.1050\n",
            "Epoch 6 Batch 50 Loss 4.1193 Accuracy 0.1196\n",
            "Epoch 6 Loss 4.0410 Accuracy 0.1429\n",
            "Time taken for 1 epoch: 64.12 secs\n",
            "\n",
            "Epoch 7 Batch 0 Loss 3.7561 Accuracy 0.2333\n",
            "Epoch 7 Batch 50 Loss 3.6502 Accuracy 0.2577\n",
            "Epoch 7 Loss 3.5200 Accuracy 0.2807\n",
            "Time taken for 1 epoch: 65.18 secs\n",
            "\n",
            "Epoch 8 Batch 0 Loss 3.1679 Accuracy 0.3376\n",
            "Epoch 8 Batch 50 Loss 3.1076 Accuracy 0.3402\n",
            "Epoch 8 Loss 3.0303 Accuracy 0.3491\n",
            "Time taken for 1 epoch: 66.32 secs\n",
            "\n",
            "Epoch 9 Batch 0 Loss 2.9341 Accuracy 0.3538\n",
            "Epoch 9 Batch 50 Loss 2.8161 Accuracy 0.3743\n",
            "Epoch 9 Batch 100 Loss 2.7638 Accuracy 0.3813\n",
            "Epoch 9 Loss 2.7616 Accuracy 0.3817\n",
            "Time taken for 1 epoch: 76.26 secs\n",
            "\n",
            "Epoch 10 Batch 0 Loss 2.5325 Accuracy 0.4149\n",
            "Epoch 10 Batch 50 Loss 2.6001 Accuracy 0.4052\n",
            "Saving checkpoint for epoch 10 at ./checkpoints/train/ckpt-2\n",
            "Epoch 10 Loss 2.5654 Accuracy 0.4122\n",
            "Time taken for 1 epoch: 66.95 secs\n",
            "\n",
            "Epoch 11 Batch 0 Loss 2.4479 Accuracy 0.4310\n",
            "Epoch 11 Batch 50 Loss 2.4560 Accuracy 0.4346\n",
            "Epoch 11 Loss 2.4307 Accuracy 0.4405\n",
            "Time taken for 1 epoch: 72.08 secs\n",
            "\n",
            "Epoch 12 Batch 0 Loss 2.4358 Accuracy 0.4435\n",
            "Epoch 12 Batch 50 Loss 2.3439 Accuracy 0.4598\n",
            "Epoch 12 Loss 2.3089 Accuracy 0.4670\n",
            "Time taken for 1 epoch: 69.63 secs\n",
            "\n",
            "Epoch 13 Batch 0 Loss 2.1994 Accuracy 0.4963\n",
            "Epoch 13 Batch 50 Loss 2.2325 Accuracy 0.4832\n",
            "Epoch 13 Batch 100 Loss 2.2045 Accuracy 0.4908\n",
            "Epoch 13 Loss 2.2045 Accuracy 0.4908\n",
            "Time taken for 1 epoch: 73.00 secs\n",
            "\n",
            "Epoch 14 Batch 0 Loss 2.1545 Accuracy 0.4975\n",
            "Epoch 14 Batch 50 Loss 2.1162 Accuracy 0.5090\n",
            "Epoch 14 Loss 2.0924 Accuracy 0.5145\n",
            "Time taken for 1 epoch: 67.47 secs\n",
            "\n",
            "Epoch 15 Batch 0 Loss 2.0049 Accuracy 0.5280\n",
            "Epoch 15 Batch 50 Loss 2.0206 Accuracy 0.5297\n",
            "Epoch 15 Batch 100 Loss 2.0083 Accuracy 0.5323\n",
            "Saving checkpoint for epoch 15 at ./checkpoints/train/ckpt-3\n",
            "Epoch 15 Loss 2.0060 Accuracy 0.5326\n",
            "Time taken for 1 epoch: 74.04 secs\n",
            "\n",
            "Epoch 16 Batch 0 Loss 2.0435 Accuracy 0.5306\n",
            "Epoch 16 Batch 50 Loss 1.9416 Accuracy 0.5478\n",
            "Epoch 16 Loss 1.9274 Accuracy 0.5507\n",
            "Time taken for 1 epoch: 67.96 secs\n",
            "\n",
            "Epoch 17 Batch 0 Loss 1.8387 Accuracy 0.5657\n",
            "Epoch 17 Batch 50 Loss 1.8737 Accuracy 0.5605\n",
            "Epoch 17 Loss 1.8548 Accuracy 0.5657\n",
            "Time taken for 1 epoch: 71.67 secs\n",
            "\n",
            "Epoch 18 Batch 0 Loss 1.8294 Accuracy 0.5746\n",
            "Epoch 18 Batch 50 Loss 1.8198 Accuracy 0.5727\n",
            "Epoch 18 Loss 1.8071 Accuracy 0.5763\n",
            "Time taken for 1 epoch: 67.27 secs\n",
            "\n",
            "Epoch 19 Batch 0 Loss 1.7104 Accuracy 0.5899\n",
            "Epoch 19 Batch 50 Loss 1.7608 Accuracy 0.5873\n",
            "Epoch 19 Loss 1.7397 Accuracy 0.5905\n",
            "Time taken for 1 epoch: 71.61 secs\n",
            "\n",
            "Epoch 20 Batch 0 Loss 1.7096 Accuracy 0.5977\n",
            "Epoch 20 Batch 50 Loss 1.7077 Accuracy 0.5971\n",
            "Saving checkpoint for epoch 20 at ./checkpoints/train/ckpt-4\n",
            "Epoch 20 Loss 1.6911 Accuracy 0.5995\n",
            "Time taken for 1 epoch: 70.96 secs\n",
            "\n",
            "if b=1 return a_ else call function gcd(b_ a%b)            n _ nn_ ans = integers with ans =0    Read n    for i=2 to n-1 execute    set nn to n    while nn is not equal to 0_ set ans to ans + nn%i_ and also set nn= nn/i        set o to gcd(ans_ n-2)    print out ans/o \"/\" (n-2)/o            function gcd with integer arguments a and b    return !b ? a : gcd(b_ a % b)            integers n_ nn and ans = 0    read n    for i = 2 to n - 1 inclusive    set nn to n    while nn increment ans by (nn % i) and set nn to nn / i;        integer o = gcd of ans and n - 2    print ans / o_ \"/\"_ (n - 2) / o and \"\\n\"            \n",
            "<class 'list'>\n",
            "return !b ? a : gcd(b_ a % b);    }    int main() {    int n_ nn_ ans = 0;    cin >> n;    for (int i = 2; i <= n - 1; ++i) {    nn = n;    while (nn) ans += nn % i_ nn /= i;    }    int o = gcd(ans_ n - 2);    cout << ans / o << \"/\" << (n - 2) / o << \"\\n\";    return 0;    }    int gcd(int a_ int b) {    return !b ? a : gcd(b_ a % b);    }    int main() {    int n_ nn_ ans = 0;    cin >> n;    for (int i = 2; i <= n - 1; ++i) {    nn = n;    while (nn) ans += nn % i_ nn /= i;    }    int o = gcd(ans_ n - 2);    cout << ans / o << \"/\" << (n - 2) / o << \"\\n\";    return 0;    }    \n",
            "<class 'list'>\n",
            "declare integer variables n_ d and res and array of integers dp with size 105    declare string str    read n and d    read str    assign value of 0 to dp[0]    for i = 1 to n exclusive    if str[i] = '1'    set res to INT_MAX    for j = i - 1 decrement j while j >= 0 and j >= i - d    if str[j] = '1'_ set res to min of res and dp[j]        dp[i] = INT_MAX if res == INT_MAX or res + 1 otherwise            res = -1 if dp[n - 1] == INT_MAX or dp[n - 1] otherwise    print res        \n",
            "<class 'list'>\n",
            "int n_ d_ dp[105]_ res;    string str;    cin >> n >> d;    cin >> str;    dp[0] = 0;    for (int i = 1; i < n; ++i) {    if (str[i] == '1') {    res = INT_MAX;    for (int j = i - 1; j >= 0 && j >= i - d; --j) {    if (str[j] == '1') { res = min(res_ dp[j]); }    }    dp[i] = (res == INT_MAX) ? INT_MAX : (res + 1);    }    }    res = (dp[n - 1] == INT_MAX) ? -1 : dp[n - 1];    cout << res << endl;    }    \n",
            "<class 'list'>\n",
            "Epoch 1 Batch 0 Loss 1.7497 Accuracy 0.6000\n",
            "Epoch 1 Batch 50 Loss 1.6894 Accuracy 0.6017\n",
            "Epoch 1 Loss 1.6810 Accuracy 0.6034\n",
            "Time taken for 1 epoch: 57.23 secs\n",
            "\n",
            "Epoch 2 Batch 0 Loss 1.8033 Accuracy 0.5748\n",
            "Epoch 2 Batch 50 Loss 1.6393 Accuracy 0.6092\n",
            "Epoch 2 Loss 1.6456 Accuracy 0.6086\n",
            "Time taken for 1 epoch: 53.21 secs\n",
            "\n",
            "Epoch 3 Batch 0 Loss 1.5915 Accuracy 0.6218\n",
            "Epoch 3 Batch 50 Loss 1.6086 Accuracy 0.6164\n",
            "Epoch 3 Loss 1.6083 Accuracy 0.6172\n",
            "Time taken for 1 epoch: 57.89 secs\n",
            "\n",
            "Epoch 4 Batch 0 Loss 1.6176 Accuracy 0.6140\n",
            "Epoch 4 Batch 50 Loss 1.5823 Accuracy 0.6221\n",
            "Epoch 4 Loss 1.5800 Accuracy 0.6225\n",
            "Time taken for 1 epoch: 54.79 secs\n",
            "\n",
            "Epoch 5 Batch 0 Loss 1.5444 Accuracy 0.6374\n",
            "Epoch 5 Batch 50 Loss 1.5509 Accuracy 0.6272\n",
            "Saving checkpoint for epoch 5 at ./checkpoints/train/ckpt-5\n",
            "Epoch 5 Loss 1.5425 Accuracy 0.6284\n",
            "Time taken for 1 epoch: 58.94 secs\n",
            "\n",
            "Epoch 6 Batch 0 Loss 1.5371 Accuracy 0.6365\n",
            "Epoch 6 Batch 50 Loss 1.5317 Accuracy 0.6325\n",
            "Epoch 6 Loss 1.5231 Accuracy 0.6335\n",
            "Time taken for 1 epoch: 52.66 secs\n",
            "\n",
            "Epoch 7 Batch 0 Loss 1.5529 Accuracy 0.6365\n",
            "Epoch 7 Batch 50 Loss 1.5068 Accuracy 0.6371\n",
            "Epoch 7 Loss 1.4963 Accuracy 0.6392\n",
            "Time taken for 1 epoch: 53.47 secs\n",
            "\n",
            "Epoch 8 Batch 0 Loss 1.5300 Accuracy 0.6302\n",
            "Epoch 8 Batch 50 Loss 1.4742 Accuracy 0.6427\n",
            "Epoch 8 Loss 1.4738 Accuracy 0.6431\n",
            "Time taken for 1 epoch: 54.34 secs\n",
            "\n",
            "Epoch 9 Batch 0 Loss 1.3847 Accuracy 0.6640\n",
            "Epoch 9 Batch 50 Loss 1.4529 Accuracy 0.6475\n",
            "Epoch 9 Loss 1.4479 Accuracy 0.6480\n",
            "Time taken for 1 epoch: 52.58 secs\n",
            "\n",
            "Epoch 10 Batch 0 Loss 1.3960 Accuracy 0.6515\n",
            "Epoch 10 Batch 50 Loss 1.4183 Accuracy 0.6524\n",
            "Saving checkpoint for epoch 10 at ./checkpoints/train/ckpt-6\n",
            "Epoch 10 Loss 1.4193 Accuracy 0.6528\n",
            "Time taken for 1 epoch: 52.14 secs\n",
            "\n",
            "Epoch 11 Batch 0 Loss 1.3554 Accuracy 0.6580\n",
            "Epoch 11 Batch 50 Loss 1.4043 Accuracy 0.6563\n",
            "Epoch 11 Loss 1.3970 Accuracy 0.6574\n",
            "Time taken for 1 epoch: 51.24 secs\n",
            "\n",
            "Epoch 12 Batch 0 Loss 1.4640 Accuracy 0.6494\n",
            "Epoch 12 Batch 50 Loss 1.3866 Accuracy 0.6586\n",
            "Epoch 12 Loss 1.3825 Accuracy 0.6592\n",
            "Time taken for 1 epoch: 60.78 secs\n",
            "\n",
            "Epoch 13 Batch 0 Loss 1.3383 Accuracy 0.6685\n",
            "Epoch 13 Batch 50 Loss 1.3757 Accuracy 0.6601\n",
            "Epoch 13 Loss 1.3704 Accuracy 0.6618\n",
            "Time taken for 1 epoch: 58.93 secs\n",
            "\n",
            "Epoch 14 Batch 0 Loss 1.3726 Accuracy 0.6578\n",
            "Epoch 14 Batch 50 Loss 1.3483 Accuracy 0.6672\n",
            "Epoch 14 Loss 1.3475 Accuracy 0.6671\n",
            "Time taken for 1 epoch: 52.89 secs\n",
            "\n",
            "Epoch 15 Batch 0 Loss 1.3858 Accuracy 0.6630\n",
            "Epoch 15 Batch 50 Loss 1.3326 Accuracy 0.6695\n",
            "Saving checkpoint for epoch 15 at ./checkpoints/train/ckpt-7\n",
            "Epoch 15 Loss 1.3301 Accuracy 0.6694\n",
            "Time taken for 1 epoch: 55.82 secs\n",
            "\n",
            "Epoch 16 Batch 0 Loss 1.2862 Accuracy 0.6764\n",
            "Epoch 16 Batch 50 Loss 1.3243 Accuracy 0.6713\n",
            "Epoch 16 Loss 1.3157 Accuracy 0.6726\n",
            "Time taken for 1 epoch: 51.76 secs\n",
            "\n",
            "Epoch 17 Batch 0 Loss 1.2733 Accuracy 0.6828\n",
            "Epoch 17 Batch 50 Loss 1.3083 Accuracy 0.6730\n",
            "Epoch 17 Loss 1.3044 Accuracy 0.6746\n",
            "Time taken for 1 epoch: 53.60 secs\n",
            "\n",
            "Epoch 18 Batch 0 Loss 1.3475 Accuracy 0.6670\n",
            "Epoch 18 Batch 50 Loss 1.2833 Accuracy 0.6777\n",
            "Epoch 18 Loss 1.2793 Accuracy 0.6784\n",
            "Time taken for 1 epoch: 50.40 secs\n",
            "\n",
            "Epoch 19 Batch 0 Loss 1.2312 Accuracy 0.6920\n",
            "Epoch 19 Batch 50 Loss 1.2600 Accuracy 0.6829\n",
            "Epoch 19 Loss 1.2620 Accuracy 0.6821\n",
            "Time taken for 1 epoch: 56.33 secs\n",
            "\n",
            "Epoch 20 Batch 0 Loss 1.2327 Accuracy 0.6877\n",
            "Epoch 20 Batch 50 Loss 1.2476 Accuracy 0.6848\n",
            "Saving checkpoint for epoch 20 at ./checkpoints/train/ckpt-8\n",
            "Epoch 20 Loss 1.2456 Accuracy 0.6849\n",
            "Time taken for 1 epoch: 55.41 secs\n",
            "\n",
            "if b=1 return a_ else call function gcd(b_ a%b)            n _ nn_ ans = integers with ans =0    Read n    for i=2 to n-1 execute    set nn to n    while nn is not equal to 0_ set ans to ans + nn%i_ and also set nn= nn/i        set o to gcd(ans_ n-2)    print out ans/o \"/\" (n-2)/o            function gcd with integer arguments a and b    return !b ? a : gcd(b_ a % b)            integers n_ nn and ans = 0    read n    for i = 2 to n - 1 inclusive    set nn to n    while nn increment ans by (nn % i) and set nn to nn / i;        integer o = gcd of ans and n - 2    print ans / o_ \"/\"_ (n - 2) / o and \"\\n\"            \n",
            "<class 'list'>\n",
            "return !b ? a : gcd(b_ a % b);    }    int main() {    int n_ nn_ ans = 0;    cin >> n;    for (int i = 2; i <= n - 1; ++i) {    nn = n;    while (nn) ans += nn % i_ nn /= i;    }    int o = gcd(ans_ n - 2);    cout << ans / o << \"/\" << (n - 2) / o << \"\\n\";    return 0;    }    int gcd(int a_ int b) {    return !b ? a : gcd(b_ a % b);    }    int main() {    int n_ nn_ ans = 0;    cin >> n;    for (int i = 2; i <= n - 1; ++i) {    nn = n;    while (nn) ans += nn % i_ nn /= i;    }    int o = gcd(ans_ n - 2);    cout << ans / o << \"/\" << (n - 2) / o << \"\\n\";    return 0;    }    \n",
            "<class 'list'>\n",
            "create long long ints a_ b_ c_ and coun = 0    read a_ b_ and c    while a is greater than b    set b to b * c    add 1 to coun        show coun        \n",
            "<class 'list'>\n",
            "long long a_ b_ c_ coun = 0;    cin >> a >> b >> c;    while (a > b) {    b *= c;    coun++;    }    cout << coun << endl;    }    \n",
            "<class 'list'>\n",
            "Epoch 1 Batch 0 Loss 1.2757 Accuracy 0.6687\n",
            "Epoch 1 Batch 50 Loss 1.2366 Accuracy 0.6858\n",
            "Epoch 1 Loss 1.2326 Accuracy 0.6873\n",
            "Time taken for 1 epoch: 62.95 secs\n",
            "\n",
            "Epoch 2 Batch 0 Loss 1.2995 Accuracy 0.6812\n",
            "Epoch 2 Batch 50 Loss 1.2342 Accuracy 0.6875\n",
            "Epoch 2 Loss 1.2329 Accuracy 0.6877\n",
            "Time taken for 1 epoch: 49.31 secs\n",
            "\n",
            "Epoch 3 Batch 0 Loss 1.2321 Accuracy 0.6885\n",
            "Epoch 3 Batch 50 Loss 1.2288 Accuracy 0.6878\n",
            "Epoch 3 Loss 1.2214 Accuracy 0.6889\n",
            "Time taken for 1 epoch: 58.32 secs\n",
            "\n",
            "Epoch 4 Batch 0 Loss 1.2461 Accuracy 0.6820\n",
            "Epoch 4 Batch 50 Loss 1.1896 Accuracy 0.6963\n",
            "Epoch 4 Loss 1.1948 Accuracy 0.6950\n",
            "Time taken for 1 epoch: 55.91 secs\n",
            "\n",
            "Epoch 5 Batch 0 Loss 1.2255 Accuracy 0.6797\n",
            "Epoch 5 Batch 50 Loss 1.1879 Accuracy 0.6945\n",
            "Saving checkpoint for epoch 5 at ./checkpoints/train/ckpt-9\n",
            "Epoch 5 Loss 1.1903 Accuracy 0.6947\n",
            "Time taken for 1 epoch: 55.78 secs\n",
            "\n",
            "Epoch 6 Batch 0 Loss 1.0991 Accuracy 0.7133\n",
            "Epoch 6 Batch 50 Loss 1.1715 Accuracy 0.6984\n",
            "Epoch 6 Loss 1.1681 Accuracy 0.6987\n",
            "Time taken for 1 epoch: 53.16 secs\n",
            "\n",
            "Epoch 7 Batch 0 Loss 1.1302 Accuracy 0.7025\n",
            "Epoch 7 Batch 50 Loss 1.1696 Accuracy 0.6987\n",
            "Epoch 7 Loss 1.1632 Accuracy 0.7003\n",
            "Time taken for 1 epoch: 52.80 secs\n",
            "\n",
            "Epoch 8 Batch 0 Loss 1.0982 Accuracy 0.7169\n",
            "Epoch 8 Batch 50 Loss 1.1444 Accuracy 0.7022\n",
            "Epoch 8 Loss 1.1386 Accuracy 0.7039\n",
            "Time taken for 1 epoch: 50.12 secs\n",
            "\n",
            "Epoch 9 Batch 0 Loss 1.1344 Accuracy 0.7026\n",
            "Epoch 9 Batch 50 Loss 1.1435 Accuracy 0.7029\n",
            "Epoch 9 Loss 1.1465 Accuracy 0.7023\n",
            "Time taken for 1 epoch: 58.32 secs\n",
            "\n",
            "Epoch 10 Batch 0 Loss 1.1922 Accuracy 0.6938\n",
            "Epoch 10 Batch 50 Loss 1.1154 Accuracy 0.7088\n",
            "Saving checkpoint for epoch 10 at ./checkpoints/train/ckpt-10\n",
            "Epoch 10 Loss 1.1103 Accuracy 0.7094\n",
            "Time taken for 1 epoch: 52.94 secs\n",
            "\n",
            "Epoch 11 Batch 0 Loss 1.1776 Accuracy 0.6987\n",
            "Epoch 11 Batch 50 Loss 1.1069 Accuracy 0.7089\n",
            "Epoch 11 Loss 1.1095 Accuracy 0.7091\n",
            "Time taken for 1 epoch: 55.60 secs\n",
            "\n",
            "Epoch 12 Batch 0 Loss 1.0747 Accuracy 0.7177\n",
            "Epoch 12 Batch 50 Loss 1.1100 Accuracy 0.7090\n",
            "Epoch 12 Loss 1.1099 Accuracy 0.7093\n",
            "Time taken for 1 epoch: 55.60 secs\n",
            "\n",
            "Epoch 13 Batch 0 Loss 1.0595 Accuracy 0.7113\n",
            "Epoch 13 Batch 50 Loss 1.1038 Accuracy 0.7118\n",
            "Epoch 13 Loss 1.0974 Accuracy 0.7124\n",
            "Time taken for 1 epoch: 50.59 secs\n",
            "\n",
            "Epoch 14 Batch 0 Loss 1.1009 Accuracy 0.7123\n",
            "Epoch 14 Batch 50 Loss 1.0792 Accuracy 0.7162\n",
            "Epoch 14 Loss 1.0790 Accuracy 0.7163\n",
            "Time taken for 1 epoch: 55.95 secs\n",
            "\n",
            "Epoch 15 Batch 0 Loss 1.1390 Accuracy 0.7143\n",
            "Epoch 15 Batch 50 Loss 1.0603 Accuracy 0.7189\n",
            "Saving checkpoint for epoch 15 at ./checkpoints/train/ckpt-11\n",
            "Epoch 15 Loss 1.0677 Accuracy 0.7177\n",
            "Time taken for 1 epoch: 54.53 secs\n",
            "\n",
            "Epoch 16 Batch 0 Loss 1.0475 Accuracy 0.7159\n",
            "Epoch 16 Batch 50 Loss 1.0478 Accuracy 0.7226\n",
            "Epoch 16 Loss 1.0492 Accuracy 0.7220\n",
            "Time taken for 1 epoch: 56.52 secs\n",
            "\n",
            "Epoch 17 Batch 0 Loss 0.9987 Accuracy 0.7309\n",
            "Epoch 17 Batch 50 Loss 1.0373 Accuracy 0.7237\n",
            "Epoch 17 Loss 1.0354 Accuracy 0.7239\n",
            "Time taken for 1 epoch: 46.59 secs\n",
            "\n",
            "Epoch 18 Batch 0 Loss 1.0421 Accuracy 0.7291\n",
            "Epoch 18 Batch 50 Loss 1.0320 Accuracy 0.7253\n",
            "Epoch 18 Loss 1.0315 Accuracy 0.7259\n",
            "Time taken for 1 epoch: 55.56 secs\n",
            "\n",
            "Epoch 19 Batch 0 Loss 1.0273 Accuracy 0.7338\n",
            "Epoch 19 Batch 50 Loss 1.0131 Accuracy 0.7285\n",
            "Epoch 19 Loss 1.0193 Accuracy 0.7270\n",
            "Time taken for 1 epoch: 52.10 secs\n",
            "\n",
            "Epoch 20 Batch 0 Loss 0.9898 Accuracy 0.7293\n",
            "Epoch 20 Batch 50 Loss 1.0237 Accuracy 0.7269\n",
            "Saving checkpoint for epoch 20 at ./checkpoints/train/ckpt-12\n",
            "Epoch 20 Loss 1.0151 Accuracy 0.7283\n",
            "Time taken for 1 epoch: 55.43 secs\n",
            "\n",
            "if b=1 return a_ else call function gcd(b_ a%b)            n _ nn_ ans = integers with ans =0    Read n    for i=2 to n-1 execute    set nn to n    while nn is not equal to 0_ set ans to ans + nn%i_ and also set nn= nn/i        set o to gcd(ans_ n-2)    print out ans/o \"/\" (n-2)/o            function gcd with integer arguments a and b    return !b ? a : gcd(b_ a % b)            integers n_ nn and ans = 0    read n    for i = 2 to n - 1 inclusive    set nn to n    while nn increment ans by (nn % i) and set nn to nn / i;        integer o = gcd of ans and n - 2    print ans / o_ \"/\"_ (n - 2) / o and \"\\n\"            \n",
            "<class 'list'>\n",
            "return !b ? a : gcd(b_ a % b);    }    int main() {    int n_ nn_ ans = 0;    cin >> n;    for (int i = 2; i <= n - 1; ++i) {    nn = n;    while (nn) ans += nn % i_ nn /= i;    }    int o = gcd(ans_ n - 2);    cout << ans / o << \"/\" << (n - 2) / o << \"\\n\";    return 0;    }    int gcd(int a_ int b) {    return !b ? a : gcd(b_ a % b);    }    int main() {    int n_ nn_ ans = 0;    cin >> n;    for (int i = 2; i <= n - 1; ++i) {    nn = n;    while (nn) ans += nn % i_ nn /= i;    }    int o = gcd(ans_ n - 2);    cout << ans / o << \"/\" << (n - 2) / o << \"\\n\";    return 0;    }    \n",
            "<class 'list'>\n",
            "    m_ n_ i_ j = int    read n then m    read n values into a    sort a from position 0 to n    read m values into b    sort b from position 0 to m    set a[0] to 2 * a[0]    if a[0] <= a[n - 1]    if a[n - 1] < b[0]    print a[n - 1]    else    print -1    else    if a[0] < b[0]    print a[0]    else    print -1                \n",
            "<class 'list'>\n",
            "int main() {    int m_ n_ i_ j;    cin >> n >> m;    for (i = 0; i < n; i++) cin >> a[i];    sort(a_ a + n);    for (i = 0; i < m; i++) cin >> b[i];    sort(b_ b + m);    a[0] = 2 * a[0];    if (a[0] <= a[n - 1]) {    if (a[n - 1] < b[0])    cout << a[n - 1] << endl;    else    cout << -1 << endl;    } else {    if (a[0] < b[0])    cout << a[0] << endl;    else    cout << -1 << endl;    }    return 0;    }    \n",
            "<class 'list'>\n",
            "Epoch 1 Batch 0 Loss 0.9804 Accuracy 0.7359\n",
            "Epoch 1 Batch 50 Loss 1.0221 Accuracy 0.7273\n",
            "Epoch 1 Loss 1.0233 Accuracy 0.7266\n",
            "Time taken for 1 epoch: 48.90 secs\n",
            "\n",
            "Epoch 2 Batch 0 Loss 1.0070 Accuracy 0.7227\n",
            "Epoch 2 Batch 50 Loss 1.0168 Accuracy 0.7292\n",
            "Epoch 2 Loss 1.0226 Accuracy 0.7273\n",
            "Time taken for 1 epoch: 57.17 secs\n",
            "\n",
            "Epoch 3 Batch 0 Loss 1.0724 Accuracy 0.7177\n",
            "Epoch 3 Batch 50 Loss 1.0069 Accuracy 0.7296\n",
            "Epoch 3 Loss 1.0065 Accuracy 0.7304\n",
            "Time taken for 1 epoch: 58.11 secs\n",
            "\n",
            "Epoch 4 Batch 0 Loss 1.0312 Accuracy 0.7231\n",
            "Epoch 4 Batch 50 Loss 1.0019 Accuracy 0.7306\n",
            "Epoch 4 Loss 0.9984 Accuracy 0.7319\n",
            "Time taken for 1 epoch: 55.01 secs\n",
            "\n",
            "Epoch 5 Batch 0 Loss 0.9907 Accuracy 0.7322\n",
            "Epoch 5 Batch 50 Loss 0.9715 Accuracy 0.7369\n",
            "Saving checkpoint for epoch 5 at ./checkpoints/train/ckpt-13\n",
            "Epoch 5 Loss 0.9756 Accuracy 0.7358\n",
            "Time taken for 1 epoch: 50.70 secs\n",
            "\n",
            "Epoch 6 Batch 0 Loss 0.9179 Accuracy 0.7462\n",
            "Epoch 6 Batch 50 Loss 0.9817 Accuracy 0.7360\n",
            "Epoch 6 Loss 0.9806 Accuracy 0.7359\n",
            "Time taken for 1 epoch: 58.38 secs\n",
            "\n",
            "Epoch 7 Batch 0 Loss 0.9462 Accuracy 0.7476\n",
            "Epoch 7 Batch 50 Loss 0.9804 Accuracy 0.7352\n",
            "Epoch 7 Loss 0.9810 Accuracy 0.7354\n",
            "Time taken for 1 epoch: 53.99 secs\n",
            "\n",
            "Epoch 8 Batch 0 Loss 0.8231 Accuracy 0.7751\n",
            "Epoch 8 Batch 50 Loss 0.9538 Accuracy 0.7407\n",
            "Epoch 8 Loss 0.9567 Accuracy 0.7398\n",
            "Time taken for 1 epoch: 53.04 secs\n",
            "\n",
            "Epoch 9 Batch 0 Loss 0.9370 Accuracy 0.7439\n",
            "Epoch 9 Batch 50 Loss 0.9507 Accuracy 0.7410\n",
            "Epoch 9 Loss 0.9509 Accuracy 0.7407\n",
            "Time taken for 1 epoch: 56.04 secs\n",
            "\n",
            "Epoch 10 Batch 0 Loss 0.9624 Accuracy 0.7308\n",
            "Epoch 10 Batch 50 Loss 0.9502 Accuracy 0.7407\n",
            "Saving checkpoint for epoch 10 at ./checkpoints/train/ckpt-14\n",
            "Epoch 10 Loss 0.9476 Accuracy 0.7412\n",
            "Time taken for 1 epoch: 54.51 secs\n",
            "\n",
            "Epoch 11 Batch 0 Loss 0.9674 Accuracy 0.7293\n",
            "Epoch 11 Batch 50 Loss 0.9359 Accuracy 0.7431\n",
            "Epoch 11 Loss 0.9374 Accuracy 0.7431\n",
            "Time taken for 1 epoch: 56.16 secs\n",
            "\n",
            "Epoch 12 Batch 0 Loss 0.8952 Accuracy 0.7576\n",
            "Epoch 12 Batch 50 Loss 0.9330 Accuracy 0.7440\n",
            "Epoch 12 Loss 0.9374 Accuracy 0.7431\n",
            "Time taken for 1 epoch: 55.94 secs\n",
            "\n",
            "Epoch 13 Batch 0 Loss 0.8462 Accuracy 0.7628\n",
            "Epoch 13 Batch 50 Loss 0.9392 Accuracy 0.7427\n",
            "Epoch 13 Loss 0.9363 Accuracy 0.7429\n",
            "Time taken for 1 epoch: 52.20 secs\n",
            "\n",
            "Epoch 14 Batch 0 Loss 0.9966 Accuracy 0.7238\n",
            "Epoch 14 Batch 50 Loss 0.9179 Accuracy 0.7482\n",
            "Epoch 14 Loss 0.9184 Accuracy 0.7474\n",
            "Time taken for 1 epoch: 50.75 secs\n",
            "\n",
            "Epoch 15 Batch 0 Loss 0.8268 Accuracy 0.7569\n",
            "Epoch 15 Batch 50 Loss 0.9065 Accuracy 0.7498\n",
            "Saving checkpoint for epoch 15 at ./checkpoints/train/ckpt-15\n",
            "Epoch 15 Loss 0.9053 Accuracy 0.7503\n",
            "Time taken for 1 epoch: 59.07 secs\n",
            "\n",
            "Epoch 16 Batch 0 Loss 0.8562 Accuracy 0.7627\n",
            "Epoch 16 Batch 50 Loss 0.9000 Accuracy 0.7518\n",
            "Epoch 16 Loss 0.9000 Accuracy 0.7512\n",
            "Time taken for 1 epoch: 57.37 secs\n",
            "\n",
            "Epoch 17 Batch 0 Loss 0.8018 Accuracy 0.7683\n",
            "Epoch 17 Batch 50 Loss 0.8866 Accuracy 0.7535\n",
            "Epoch 17 Loss 0.8900 Accuracy 0.7524\n",
            "Time taken for 1 epoch: 57.16 secs\n",
            "\n",
            "Epoch 18 Batch 0 Loss 0.9606 Accuracy 0.7258\n",
            "Epoch 18 Batch 50 Loss 0.8893 Accuracy 0.7519\n",
            "Epoch 18 Loss 0.8969 Accuracy 0.7506\n",
            "Time taken for 1 epoch: 55.68 secs\n",
            "\n",
            "Epoch 19 Batch 0 Loss 0.9477 Accuracy 0.7356\n",
            "Epoch 19 Batch 50 Loss 0.8854 Accuracy 0.7536\n",
            "Epoch 19 Loss 0.8801 Accuracy 0.7547\n",
            "Time taken for 1 epoch: 52.36 secs\n",
            "\n",
            "Epoch 20 Batch 0 Loss 0.8155 Accuracy 0.7608\n",
            "Epoch 20 Batch 50 Loss 0.8759 Accuracy 0.7555\n",
            "Saving checkpoint for epoch 20 at ./checkpoints/train/ckpt-16\n",
            "Epoch 20 Loss 0.8733 Accuracy 0.7555\n",
            "Time taken for 1 epoch: 55.99 secs\n",
            "\n",
            "if b=1 return a_ else call function gcd(b_ a%b)            n _ nn_ ans = integers with ans =0    Read n    for i=2 to n-1 execute    set nn to n    while nn is not equal to 0_ set ans to ans + nn%i_ and also set nn= nn/i        set o to gcd(ans_ n-2)    print out ans/o \"/\" (n-2)/o            function gcd with integer arguments a and b    return !b ? a : gcd(b_ a % b)            integers n_ nn and ans = 0    read n    for i = 2 to n - 1 inclusive    set nn to n    while nn increment ans by (nn % i) and set nn to nn / i;        integer o = gcd of ans and n - 2    print ans / o_ \"/\"_ (n - 2) / o and \"\\n\"            \n",
            "<class 'list'>\n",
            "return !b ? a : gcd(b_ a % b);    }    int main() {    int n_ nn_ ans = 0;    cin >> n;    for (int i = 2; i <= n - 1; ++i) {    nn = n;    while (nn) ans += nn % i_ nn /= i;    }    int o = gcd(ans_ n - 2);    cout << ans / o << \"/\" << (n - 2) / o << \"\\n\";    return 0;    }    int gcd(int a_ int b) {    return !b ? a : gcd(b_ a % b);    }    int main() {    int n_ nn_ ans = 0;    cin >> n;    for (int i = 2; i <= n - 1; ++i) {    nn = n;    while (nn) ans += nn % i_ nn /= i;    }    int o = gcd(ans_ n - 2);    cout << ans / o << \"/\" << (n - 2) / o << \"\\n\";    return 0;    }    \n",
            "<class 'list'>\n",
            "pre is an integer array with 105 elements        decrease mx by 1    read n_ d    for i = 0 to n exclusive _ read pre[i]    sort pre_ pre + n    for i = 0 to n exclusive    for j = 0 to n exclusive    if pre[j] - pre[i] <= d _ mx = mx > j - i + 1 ? mx : j - i + 1            print n - mx and newline            \n",
            "<class 'list'>\n",
            "int pre[105];    int main() {    mx = -1;    cin >> n >> d;    for (int i = 0; i < n; i++) cin >> pre[i];    sort(pre_ pre + n);    for (int i = 0; i < n; i++) {    for (int j = i; j < n; j++) {    if (pre[j] - pre[i] <= d) { mx = mx > j - i + 1 ? mx : j - i + 1; }    }    }    cout << n - mx << endl;    return 0;    }    \n",
            "<class 'list'>\n",
            "Epoch 1 Batch 0 Loss 0.9286 Accuracy 0.7575\n",
            "Epoch 1 Batch 50 Loss 0.8932 Accuracy 0.7523\n",
            "Epoch 1 Loss 0.8980 Accuracy 0.7513\n",
            "Time taken for 1 epoch: 55.09 secs\n",
            "\n",
            "Epoch 2 Batch 0 Loss 0.8346 Accuracy 0.7608\n",
            "Epoch 2 Batch 50 Loss 0.8815 Accuracy 0.7548\n",
            "Epoch 2 Loss 0.8786 Accuracy 0.7558\n",
            "Time taken for 1 epoch: 57.82 secs\n",
            "\n",
            "Epoch 3 Batch 0 Loss 0.9574 Accuracy 0.7447\n",
            "Epoch 3 Batch 50 Loss 0.8758 Accuracy 0.7561\n",
            "Epoch 3 Loss 0.8786 Accuracy 0.7556\n",
            "Time taken for 1 epoch: 53.47 secs\n",
            "\n",
            "Epoch 4 Batch 0 Loss 0.8420 Accuracy 0.7698\n",
            "Epoch 4 Batch 50 Loss 0.8764 Accuracy 0.7562\n",
            "Epoch 4 Loss 0.8717 Accuracy 0.7570\n",
            "Time taken for 1 epoch: 50.39 secs\n",
            "\n",
            "Epoch 5 Batch 0 Loss 0.7994 Accuracy 0.7700\n",
            "Epoch 5 Batch 50 Loss 0.8587 Accuracy 0.7590\n",
            "Saving checkpoint for epoch 5 at ./checkpoints/train/ckpt-17\n",
            "Epoch 5 Loss 0.8589 Accuracy 0.7589\n",
            "Time taken for 1 epoch: 45.91 secs\n",
            "\n",
            "Epoch 6 Batch 0 Loss 0.8946 Accuracy 0.7578\n",
            "Epoch 6 Batch 50 Loss 0.8656 Accuracy 0.7580\n",
            "Epoch 6 Loss 0.8646 Accuracy 0.7579\n",
            "Time taken for 1 epoch: 47.00 secs\n",
            "\n",
            "Epoch 7 Batch 0 Loss 0.8485 Accuracy 0.7614\n",
            "Epoch 7 Batch 50 Loss 0.8615 Accuracy 0.7587\n",
            "Epoch 7 Loss 0.8611 Accuracy 0.7587\n",
            "Time taken for 1 epoch: 50.33 secs\n",
            "\n",
            "Epoch 8 Batch 0 Loss 0.8723 Accuracy 0.7655\n",
            "Epoch 8 Batch 50 Loss 0.8514 Accuracy 0.7610\n",
            "Epoch 8 Loss 0.8489 Accuracy 0.7616\n",
            "Time taken for 1 epoch: 51.50 secs\n",
            "\n",
            "Epoch 9 Batch 0 Loss 0.8570 Accuracy 0.7563\n",
            "Epoch 9 Batch 50 Loss 0.8431 Accuracy 0.7633\n",
            "Epoch 9 Loss 0.8406 Accuracy 0.7633\n",
            "Time taken for 1 epoch: 54.14 secs\n",
            "\n",
            "Epoch 10 Batch 0 Loss 0.8448 Accuracy 0.7667\n",
            "Epoch 10 Batch 50 Loss 0.8401 Accuracy 0.7624\n",
            "Saving checkpoint for epoch 10 at ./checkpoints/train/ckpt-18\n",
            "Epoch 10 Loss 0.8385 Accuracy 0.7626\n",
            "Time taken for 1 epoch: 43.84 secs\n",
            "\n",
            "Epoch 11 Batch 0 Loss 0.8073 Accuracy 0.7832\n",
            "Epoch 11 Batch 50 Loss 0.8405 Accuracy 0.7638\n",
            "Epoch 11 Loss 0.8342 Accuracy 0.7654\n",
            "Time taken for 1 epoch: 52.78 secs\n",
            "\n",
            "Epoch 12 Batch 0 Loss 0.8867 Accuracy 0.7556\n",
            "Epoch 12 Batch 50 Loss 0.8270 Accuracy 0.7658\n",
            "Epoch 12 Loss 0.8277 Accuracy 0.7659\n",
            "Time taken for 1 epoch: 52.77 secs\n",
            "\n",
            "Epoch 13 Batch 0 Loss 0.8676 Accuracy 0.7591\n",
            "Epoch 13 Batch 50 Loss 0.8216 Accuracy 0.7673\n",
            "Epoch 13 Loss 0.8181 Accuracy 0.7673\n",
            "Time taken for 1 epoch: 58.61 secs\n",
            "\n",
            "Epoch 14 Batch 0 Loss 0.8438 Accuracy 0.7624\n",
            "Epoch 14 Batch 50 Loss 0.8098 Accuracy 0.7698\n",
            "Epoch 14 Loss 0.8085 Accuracy 0.7699\n",
            "Time taken for 1 epoch: 48.95 secs\n",
            "\n",
            "Epoch 15 Batch 0 Loss 0.8732 Accuracy 0.7563\n",
            "Epoch 15 Batch 50 Loss 0.8085 Accuracy 0.7693\n",
            "Saving checkpoint for epoch 15 at ./checkpoints/train/ckpt-19\n",
            "Epoch 15 Loss 0.8184 Accuracy 0.7672\n",
            "Time taken for 1 epoch: 50.67 secs\n",
            "\n",
            "Epoch 16 Batch 0 Loss 0.8494 Accuracy 0.7602\n",
            "Epoch 16 Batch 50 Loss 0.7966 Accuracy 0.7718\n",
            "Epoch 16 Loss 0.8057 Accuracy 0.7701\n",
            "Time taken for 1 epoch: 55.12 secs\n",
            "\n",
            "Epoch 17 Batch 0 Loss 0.6892 Accuracy 0.7920\n",
            "Epoch 17 Batch 50 Loss 0.8028 Accuracy 0.7703\n",
            "Epoch 17 Loss 0.8023 Accuracy 0.7707\n",
            "Time taken for 1 epoch: 60.09 secs\n",
            "\n",
            "Epoch 18 Batch 0 Loss 0.7695 Accuracy 0.7767\n",
            "Epoch 18 Batch 50 Loss 0.7942 Accuracy 0.7731\n",
            "Epoch 18 Loss 0.7926 Accuracy 0.7733\n",
            "Time taken for 1 epoch: 53.57 secs\n",
            "\n",
            "Epoch 19 Batch 0 Loss 0.9139 Accuracy 0.7379\n",
            "Epoch 19 Batch 50 Loss 0.7836 Accuracy 0.7747\n",
            "Epoch 19 Loss 0.7870 Accuracy 0.7739\n",
            "Time taken for 1 epoch: 49.94 secs\n",
            "\n",
            "Epoch 20 Batch 0 Loss 0.8624 Accuracy 0.7549\n",
            "Epoch 20 Batch 50 Loss 0.7817 Accuracy 0.7748\n",
            "Saving checkpoint for epoch 20 at ./checkpoints/train/ckpt-20\n",
            "Epoch 20 Loss 0.7874 Accuracy 0.7741\n",
            "Time taken for 1 epoch: 50.22 secs\n",
            "\n"
          ]
        }
      ],
      "source": [
        "e_list =[]\n",
        "acc_list = []\n",
        "loss_list = []\n",
        "\n",
        "for i in range(0,k_fold):\n",
        "  temp_t = train_data_list[i]\n",
        "  # temp_v = val_data_list[i]  \n",
        "  tens_t, tp, ts = dataset_to_tensor(temp_t)\n",
        "  # tens_v, vp, vs = dataset_to_tensor(temp_v)\n",
        "\n",
        "  train_data = tens_t\n",
        "  # val_data = tens_v\n",
        "\n",
        "  train_batches = make_batches(train_data)\n",
        "  # val_batches = make_batches(val_data)\n",
        "\n",
        "  for epoch in range(EPOCHS):\n",
        "    start = time.time()\n",
        "\n",
        "    train_loss.reset_states()\n",
        "    train_accuracy.reset_states()\n",
        "\n",
        "    # inp -> problem pseudocode, tar -> solution in c++\n",
        "    for (batch, (inp, tar)) in enumerate(train_batches):\n",
        "      train_step(inp, tar)\n",
        "\n",
        "      if batch % 50 == 0:\n",
        "        print(f'Epoch {epoch + 1} Batch {batch} Loss {train_loss.result():.4f} Accuracy {train_accuracy.result():.4f}')\n",
        "\n",
        "    if (epoch + 1) % 5 == 0:\n",
        "      ckpt_save_path = ckpt_manager.save()\n",
        "      print(f'Saving checkpoint for epoch {epoch+1} at {ckpt_save_path}')\n",
        "\n",
        "    print(f'Epoch {epoch + 1} Loss {train_loss.result():.4f} Accuracy {train_accuracy.result():.4f}')\n",
        "    e_list.append(epoch+1)\n",
        "    loss_list.append(train_loss.result())\n",
        "    acc_list.append(train_accuracy.result())\n",
        "    print(f'Time taken for 1 epoch: {time.time() - start:.2f} secs\\n')\n",
        "    \n"
      ]
    },
    {
      "cell_type": "code",
      "source": [
        ""
      ],
      "metadata": {
        "id": "k9IVhb83i0sV"
      },
      "execution_count": null,
      "outputs": []
    },
    {
      "cell_type": "code",
      "source": [
        ""
      ],
      "metadata": {
        "colab": {
          "base_uri": "https://localhost:8080/"
        },
        "id": "i3MiE9Vtj_VM",
        "outputId": "6b6f175d-6e2d-4ae2-d1c5-8f21d067f2af"
      },
      "execution_count": null,
      "outputs": [
        {
          "output_type": "execute_result",
          "data": {
            "text/plain": [
              "tensorflow.python.framework.ops.Tensor"
            ]
          },
          "metadata": {},
          "execution_count": 89
        }
      ]
    },
    {
      "cell_type": "code",
      "source": [
        "print(len(acc_list))"
      ],
      "metadata": {
        "id": "-STNwg8QnJ3q",
        "colab": {
          "base_uri": "https://localhost:8080/"
        },
        "outputId": "9b8047c0-53ea-49c2-fb20-134e39cf33c4"
      },
      "execution_count": null,
      "outputs": [
        {
          "output_type": "stream",
          "name": "stdout",
          "text": [
            "100\n"
          ]
        }
      ]
    },
    {
      "cell_type": "code",
      "source": [
        "print(len(e_list))"
      ],
      "metadata": {
        "id": "7GQZu8AOfJxW",
        "colab": {
          "base_uri": "https://localhost:8080/"
        },
        "outputId": "a0dcd2bd-c485-4a83-9301-8f2f2879f255"
      },
      "execution_count": null,
      "outputs": [
        {
          "output_type": "stream",
          "name": "stdout",
          "text": [
            "100\n"
          ]
        }
      ]
    },
    {
      "cell_type": "code",
      "source": [
        "# plot of accuracy and loss of training data\n",
        "# e_list =[]\n",
        "# acc_list = []\n",
        "# loss_list = []\n",
        "xptt_loss = np.array(range(100))\n",
        "yptt_loss = np.array(loss_list)\n",
        "\n",
        "plt.plot(xptt_loss, yptt_loss,color = 'r')\n",
        "# zpoints = np.array(acc_list)\n",
        "\n",
        "# plt.plot(xpoints, zpoints,color = 'g')\n",
        "plt.xlabel(\"Epoch\")\n",
        "plt.ylabel(\"loss\")\n",
        "plt.grid()\n",
        "plt.show()"
      ],
      "metadata": {
        "colab": {
          "base_uri": "https://localhost:8080/",
          "height": 279
        },
        "id": "XtWN19ygSwDv",
        "outputId": "d31c7a0a-97b7-4b5a-b99b-8895e9408cec"
      },
      "execution_count": null,
      "outputs": [
        {
          "output_type": "display_data",
          "data": {
            "text/plain": [
              "<Figure size 432x288 with 1 Axes>"
            ],
            "image/png": "[encoded data removed]"
          },
          "metadata": {
            "needs_background": "light"
          }
        }
      ]
    },
    {
      "cell_type": "code",
      "source": [
        "# e_list =[]\n",
        "# acc_list = []\n",
        "# loss_list = []\n",
        "xpoints = np.array(range(100))\n",
        "ypoints = np.array(acc_list)\n",
        "\n",
        "plt.plot(xpoints, ypoints,color = 'r')\n",
        "# zpoints = np.array(acc_list)\n",
        "\n",
        "# plt.plot(xpoints, zpoints,color = 'g')\n",
        "plt.xlabel(\"Epoch\")\n",
        "plt.ylabel(\"Accuracy\")\n",
        "plt.grid()\n",
        "plt.show()"
      ],
      "metadata": {
        "id": "LTCQrenMS1Rd",
        "colab": {
          "base_uri": "https://localhost:8080/",
          "height": 281
        },
        "outputId": "4e02708d-08c4-4e4d-b26d-0474c57f3b79"
      },
      "execution_count": null,
      "outputs": [
        {
          "output_type": "display_data",
          "data": {
            "text/plain": [
              "<Figure size 432x288 with 1 Axes>"
            ],
            "image/png": "[encoded data removed]"
          },
          "metadata": {
            "needs_background": "light"
          }
        }
      ]
    },
    {
      "cell_type": "code",
      "source": [
        "# The @tf.function trace-compiles train_step into a TF graph for faster\n",
        "# execution. The function specializes to the precise shape of the argument\n",
        "# tensors. To avoid re-tracing due to the variable sequence lengths or variable\n",
        "# batch sizes (the last batch is smaller), use input_signature to specify\n",
        "# more generic shapes.\n",
        "val_loss_lst = []\n",
        "val_acc_lst = []\n",
        "val_step_signature = [\n",
        "    tf.TensorSpec(shape=(None, None), dtype=tf.int64),\n",
        "    tf.TensorSpec(shape=(None, None), dtype=tf.int64),\n",
        "]\n",
        "\n",
        "\n",
        "@tf.function(input_signature=val_step_signature)\n",
        "def val_step(inp, tar):\n",
        "  tar_inp = tar[:, :-1]\n",
        "  tar_real = tar[:, 1:]\n",
        "\n",
        "  with tf.GradientTape() as tape:\n",
        "    predictions, _ = transformer([inp, tar_inp],\n",
        "                                 training = False)\n",
        "    loss = loss_function(tar_real, predictions)\n",
        "\n",
        "  accuracy = accuracy_function(tar_real, predictions)\n",
        "\n",
        "  gradients = tape.gradient(loss, transformer.trainable_variables)\n",
        "  optimizer.apply_gradients(zip(gradients, transformer.trainable_variables))\n",
        "  \n",
        "  val_loss_lst.append(loss)\n",
        "  val_acc_lst.append(accuracy)\n",
        "  \n",
        "  train_loss(loss)\n",
        "  train_accuracy(accuracy)\n",
        "\n"
      ],
      "metadata": {
        "id": "3SMblznjKVNy"
      },
      "execution_count": null,
      "outputs": []
    },
    {
      "cell_type": "code",
      "source": [
        "e_list =[]\n",
        "val_acc_list = []\n",
        "val_loss_list = []\n",
        "\n",
        "for i in range(0,k_fold):\n",
        "\n",
        "  temp_v = val_data_list[i]  \n",
        " \n",
        "  tens_v, vp, vs = dataset_to_tensor(temp_v)\n",
        "\n",
        "  val_data = tens_v\n",
        "\n",
        "  val_batches = make_batches(val_data)\n",
        "\n",
        "\n",
        "  for epoch in range(EPOCHS):\n",
        "    start = time.time()\n",
        "\n",
        "    train_loss.reset_states()\n",
        "    train_accuracy.reset_states()\n",
        "\n",
        "    # inp -> problem pseudocode, tar -> solution in c++\n",
        "    for (batch, (inp, tar)) in enumerate(val_batches):\n",
        "      train_step(inp, tar)\n",
        "\n",
        "      if batch % 50 == 0:\n",
        "        print(f'Epoch {epoch + 1} Batch {batch} Loss {train_loss.result():.4f} Accuracy {train_accuracy.result():.4f}')\n",
        "\n",
        "    if (epoch + 1) % 5 == 0:\n",
        "      ckpt_save_path = ckpt_manager.save()\n",
        "      print(f'Saving checkpoint for epoch {epoch+1} at {ckpt_save_path}')\n",
        "\n",
        "    print(f'Epoch {epoch + 1} Loss {train_loss.result():.4f} Accuracy {train_accuracy.result():.4f}')\n",
        "    e_list.append(epoch+1)\n",
        "    val_loss_list.append(train_loss.result())\n",
        "    val_acc_list.append(train_accuracy.result())\n",
        "    print(f'Time taken for 1 epoch: {time.time() - start:.2f} secs\\n')\n",
        "  \n"
      ],
      "metadata": {
        "colab": {
          "base_uri": "https://localhost:8080/",
          "height": 1000
        },
        "id": "sMTTJsASJ5h4",
        "outputId": "bd754580-778f-46ed-ed91-3794ac9b7437"
      },
      "execution_count": null,
      "outputs": [
        {
          "output_type": "stream",
          "name": "stdout",
          "text": [
            "if b=1 return a_ else call function gcd(b_ a%b)            n _ nn_ ans = integers with ans =0    Read n    for i=2 to n-1 execute    set nn to n    while nn is not equal to 0_ set ans to ans + nn%i_ and also set nn= nn/i        set o to gcd(ans_ n-2)    print out ans/o \"/\" (n-2)/o            function gcd with integer arguments a and b    return !b ? a : gcd(b_ a % b)            integers n_ nn and ans = 0    read n    for i = 2 to n - 1 inclusive    set nn to n    while nn increment ans by (nn % i) and set nn to nn / i;        integer o = gcd of ans and n - 2    print ans / o_ \"/\"_ (n - 2) / o and \"\\n\"            \n",
            "<class 'list'>\n",
            "return !b ? a : gcd(b_ a % b);    }    int main() {    int n_ nn_ ans = 0;    cin >> n;    for (int i = 2; i <= n - 1; ++i) {    nn = n;    while (nn) ans += nn % i_ nn /= i;    }    int o = gcd(ans_ n - 2);    cout << ans / o << \"/\" << (n - 2) / o << \"\\n\";    return 0;    }    int gcd(int a_ int b) {    return !b ? a : gcd(b_ a % b);    }    int main() {    int n_ nn_ ans = 0;    cin >> n;    for (int i = 2; i <= n - 1; ++i) {    nn = n;    while (nn) ans += nn % i_ nn /= i;    }    int o = gcd(ans_ n - 2);    cout << ans / o << \"/\" << (n - 2) / o << \"\\n\";    return 0;    }    \n",
            "<class 'list'>\n",
            "Epoch 1 Batch 0 Loss 0.7428 Accuracy 0.7827\n",
            "Epoch 1 Loss 0.7338 Accuracy 0.7816\n",
            "Time taken for 1 epoch: 8.29 secs\n",
            "\n",
            "Epoch 2 Batch 0 Loss 0.7813 Accuracy 0.7665\n",
            "Epoch 2 Loss 0.7308 Accuracy 0.7806\n",
            "Time taken for 1 epoch: 9.31 secs\n",
            "\n",
            "Epoch 3 Batch 0 Loss 0.6740 Accuracy 0.8000\n",
            "Epoch 3 Loss 0.7283 Accuracy 0.7857\n",
            "Time taken for 1 epoch: 8.54 secs\n",
            "\n",
            "Epoch 4 Batch 0 Loss 0.7899 Accuracy 0.7676\n",
            "Epoch 4 Loss 0.7217 Accuracy 0.7874\n",
            "Time taken for 1 epoch: 4.91 secs\n",
            "\n",
            "Epoch 5 Batch 0 Loss 0.6001 Accuracy 0.8155\n",
            "Saving checkpoint for epoch 5 at ./checkpoints/train/ckpt-22\n",
            "Epoch 5 Loss 0.6774 Accuracy 0.7967\n",
            "Time taken for 1 epoch: 6.31 secs\n",
            "\n",
            "Epoch 6 Batch 0 Loss 0.6958 Accuracy 0.7983\n",
            "Epoch 6 Loss 0.7036 Accuracy 0.7909\n",
            "Time taken for 1 epoch: 7.16 secs\n",
            "\n",
            "Epoch 7 Batch 0 Loss 0.6714 Accuracy 0.8027\n",
            "Epoch 7 Loss 0.7256 Accuracy 0.7872\n",
            "Time taken for 1 epoch: 4.05 secs\n",
            "\n",
            "Epoch 8 Batch 0 Loss 0.7627 Accuracy 0.7744\n",
            "Epoch 8 Loss 0.7217 Accuracy 0.7870\n",
            "Time taken for 1 epoch: 4.94 secs\n",
            "\n",
            "Epoch 9 Batch 0 Loss 0.6543 Accuracy 0.8038\n",
            "Epoch 9 Loss 0.7063 Accuracy 0.7896\n",
            "Time taken for 1 epoch: 7.91 secs\n",
            "\n",
            "Epoch 10 Batch 0 Loss 0.6855 Accuracy 0.7896\n",
            "Saving checkpoint for epoch 10 at ./checkpoints/train/ckpt-23\n",
            "Epoch 10 Loss 0.6963 Accuracy 0.7919\n",
            "Time taken for 1 epoch: 7.75 secs\n",
            "\n",
            "Epoch 11 Batch 0 Loss 0.5930 Accuracy 0.8148\n",
            "Epoch 11 Loss 0.7007 Accuracy 0.7916\n",
            "Time taken for 1 epoch: 5.81 secs\n",
            "\n",
            "Epoch 12 Batch 0 Loss 0.6861 Accuracy 0.7982\n",
            "Epoch 12 Loss 0.6801 Accuracy 0.7975\n",
            "Time taken for 1 epoch: 4.14 secs\n",
            "\n",
            "Epoch 13 Batch 0 Loss 0.6316 Accuracy 0.8093\n",
            "Epoch 13 Loss 0.6627 Accuracy 0.8009\n",
            "Time taken for 1 epoch: 6.20 secs\n",
            "\n",
            "Epoch 14 Batch 0 Loss 0.7230 Accuracy 0.7893\n",
            "Epoch 14 Loss 0.6975 Accuracy 0.7915\n",
            "Time taken for 1 epoch: 5.25 secs\n",
            "\n",
            "Epoch 15 Batch 0 Loss 0.6451 Accuracy 0.8068\n"
          ]
        },
        {
          "output_type": "error",
          "ename": "KeyboardInterrupt",
          "evalue": "ignored",
          "traceback": [
            "\u001b[0;31m---------------------------------------------------------------------------\u001b[0m",
            "\u001b[0;31mKeyboardInterrupt\u001b[0m                         Traceback (most recent call last)",
            "\u001b[0;32m<ipython-input-137-af1d9973af43>\u001b[0m in \u001b[0;36m<module>\u001b[0;34m()\u001b[0m\n\u001b[1;32m     22\u001b[0m     \u001b[0;31m# inp -> problem pseudocode, tar -> solution in c++\u001b[0m\u001b[0;34m\u001b[0m\u001b[0;34m\u001b[0m\u001b[0;34m\u001b[0m\u001b[0m\n\u001b[1;32m     23\u001b[0m     \u001b[0;32mfor\u001b[0m \u001b[0;34m(\u001b[0m\u001b[0mbatch\u001b[0m\u001b[0;34m,\u001b[0m \u001b[0;34m(\u001b[0m\u001b[0minp\u001b[0m\u001b[0;34m,\u001b[0m \u001b[0mtar\u001b[0m\u001b[0;34m)\u001b[0m\u001b[0;34m)\u001b[0m \u001b[0;32min\u001b[0m \u001b[0menumerate\u001b[0m\u001b[0;34m(\u001b[0m\u001b[0mval_batches\u001b[0m\u001b[0;34m)\u001b[0m\u001b[0;34m:\u001b[0m\u001b[0;34m\u001b[0m\u001b[0;34m\u001b[0m\u001b[0m\n\u001b[0;32m---> 24\u001b[0;31m       \u001b[0mtrain_step\u001b[0m\u001b[0;34m(\u001b[0m\u001b[0minp\u001b[0m\u001b[0;34m,\u001b[0m \u001b[0mtar\u001b[0m\u001b[0;34m)\u001b[0m\u001b[0;34m\u001b[0m\u001b[0;34m\u001b[0m\u001b[0m\n\u001b[0m\u001b[1;32m     25\u001b[0m \u001b[0;34m\u001b[0m\u001b[0m\n\u001b[1;32m     26\u001b[0m       \u001b[0;32mif\u001b[0m \u001b[0mbatch\u001b[0m \u001b[0;34m%\u001b[0m \u001b[0;36m50\u001b[0m \u001b[0;34m==\u001b[0m \u001b[0;36m0\u001b[0m\u001b[0;34m:\u001b[0m\u001b[0;34m\u001b[0m\u001b[0;34m\u001b[0m\u001b[0m\n",
            "\u001b[0;32m/usr/local/lib/python3.7/dist-packages/tensorflow/python/util/traceback_utils.py\u001b[0m in \u001b[0;36merror_handler\u001b[0;34m(*args, **kwargs)\u001b[0m\n\u001b[1;32m    148\u001b[0m     \u001b[0mfiltered_tb\u001b[0m \u001b[0;34m=\u001b[0m \u001b[0;32mNone\u001b[0m\u001b[0;34m\u001b[0m\u001b[0;34m\u001b[0m\u001b[0m\n\u001b[1;32m    149\u001b[0m     \u001b[0;32mtry\u001b[0m\u001b[0;34m:\u001b[0m\u001b[0;34m\u001b[0m\u001b[0;34m\u001b[0m\u001b[0m\n\u001b[0;32m--> 150\u001b[0;31m       \u001b[0;32mreturn\u001b[0m \u001b[0mfn\u001b[0m\u001b[0;34m(\u001b[0m\u001b[0;34m*\u001b[0m\u001b[0margs\u001b[0m\u001b[0;34m,\u001b[0m \u001b[0;34m**\u001b[0m\u001b[0mkwargs\u001b[0m\u001b[0;34m)\u001b[0m\u001b[0;34m\u001b[0m\u001b[0;34m\u001b[0m\u001b[0m\n\u001b[0m\u001b[1;32m    151\u001b[0m     \u001b[0;32mexcept\u001b[0m \u001b[0mException\u001b[0m \u001b[0;32mas\u001b[0m \u001b[0me\u001b[0m\u001b[0;34m:\u001b[0m\u001b[0;34m\u001b[0m\u001b[0;34m\u001b[0m\u001b[0m\n\u001b[1;32m    152\u001b[0m       \u001b[0mfiltered_tb\u001b[0m \u001b[0;34m=\u001b[0m \u001b[0m_process_traceback_frames\u001b[0m\u001b[0;34m(\u001b[0m\u001b[0me\u001b[0m\u001b[0;34m.\u001b[0m\u001b[0m__traceback__\u001b[0m\u001b[0;34m)\u001b[0m\u001b[0;34m\u001b[0m\u001b[0;34m\u001b[0m\u001b[0m\n",
            "\u001b[0;32m/usr/local/lib/python3.7/dist-packages/tensorflow/python/eager/def_function.py\u001b[0m in \u001b[0;36m__call__\u001b[0;34m(self, *args, **kwds)\u001b[0m\n\u001b[1;32m    913\u001b[0m \u001b[0;34m\u001b[0m\u001b[0m\n\u001b[1;32m    914\u001b[0m       \u001b[0;32mwith\u001b[0m \u001b[0mOptionalXlaContext\u001b[0m\u001b[0;34m(\u001b[0m\u001b[0mself\u001b[0m\u001b[0;34m.\u001b[0m\u001b[0m_jit_compile\u001b[0m\u001b[0;34m)\u001b[0m\u001b[0;34m:\u001b[0m\u001b[0;34m\u001b[0m\u001b[0;34m\u001b[0m\u001b[0m\n\u001b[0;32m--> 915\u001b[0;31m         \u001b[0mresult\u001b[0m \u001b[0;34m=\u001b[0m \u001b[0mself\u001b[0m\u001b[0;34m.\u001b[0m\u001b[0m_call\u001b[0m\u001b[0;34m(\u001b[0m\u001b[0;34m*\u001b[0m\u001b[0margs\u001b[0m\u001b[0;34m,\u001b[0m \u001b[0;34m**\u001b[0m\u001b[0mkwds\u001b[0m\u001b[0;34m)\u001b[0m\u001b[0;34m\u001b[0m\u001b[0;34m\u001b[0m\u001b[0m\n\u001b[0m\u001b[1;32m    916\u001b[0m \u001b[0;34m\u001b[0m\u001b[0m\n\u001b[1;32m    917\u001b[0m       \u001b[0mnew_tracing_count\u001b[0m \u001b[0;34m=\u001b[0m \u001b[0mself\u001b[0m\u001b[0;34m.\u001b[0m\u001b[0mexperimental_get_tracing_count\u001b[0m\u001b[0;34m(\u001b[0m\u001b[0;34m)\u001b[0m\u001b[0;34m\u001b[0m\u001b[0;34m\u001b[0m\u001b[0m\n",
            "\u001b[0;32m/usr/local/lib/python3.7/dist-packages/tensorflow/python/eager/def_function.py\u001b[0m in \u001b[0;36m_call\u001b[0;34m(self, *args, **kwds)\u001b[0m\n\u001b[1;32m    945\u001b[0m       \u001b[0;31m# In this case we have created variables on the first call, so we run the\u001b[0m\u001b[0;34m\u001b[0m\u001b[0;34m\u001b[0m\u001b[0;34m\u001b[0m\u001b[0m\n\u001b[1;32m    946\u001b[0m       \u001b[0;31m# defunned version which is guaranteed to never create variables.\u001b[0m\u001b[0;34m\u001b[0m\u001b[0;34m\u001b[0m\u001b[0;34m\u001b[0m\u001b[0m\n\u001b[0;32m--> 947\u001b[0;31m       \u001b[0;32mreturn\u001b[0m \u001b[0mself\u001b[0m\u001b[0;34m.\u001b[0m\u001b[0m_stateless_fn\u001b[0m\u001b[0;34m(\u001b[0m\u001b[0;34m*\u001b[0m\u001b[0margs\u001b[0m\u001b[0;34m,\u001b[0m \u001b[0;34m**\u001b[0m\u001b[0mkwds\u001b[0m\u001b[0;34m)\u001b[0m  \u001b[0;31m# pylint: disable=not-callable\u001b[0m\u001b[0;34m\u001b[0m\u001b[0;34m\u001b[0m\u001b[0m\n\u001b[0m\u001b[1;32m    948\u001b[0m     \u001b[0;32melif\u001b[0m \u001b[0mself\u001b[0m\u001b[0;34m.\u001b[0m\u001b[0m_stateful_fn\u001b[0m \u001b[0;32mis\u001b[0m \u001b[0;32mnot\u001b[0m \u001b[0;32mNone\u001b[0m\u001b[0;34m:\u001b[0m\u001b[0;34m\u001b[0m\u001b[0;34m\u001b[0m\u001b[0m\n\u001b[1;32m    949\u001b[0m       \u001b[0;31m# Release the lock early so that multiple threads can perform the call\u001b[0m\u001b[0;34m\u001b[0m\u001b[0;34m\u001b[0m\u001b[0;34m\u001b[0m\u001b[0m\n",
            "\u001b[0;32m/usr/local/lib/python3.7/dist-packages/tensorflow/python/eager/function.py\u001b[0m in \u001b[0;36m__call__\u001b[0;34m(self, *args, **kwargs)\u001b[0m\n\u001b[1;32m   2955\u001b[0m        filtered_flat_args) = self._maybe_define_function(args, kwargs)\n\u001b[1;32m   2956\u001b[0m     return graph_function._call_flat(\n\u001b[0;32m-> 2957\u001b[0;31m         filtered_flat_args, captured_inputs=graph_function.captured_inputs)  # pylint: disable=protected-access\n\u001b[0m\u001b[1;32m   2958\u001b[0m \u001b[0;34m\u001b[0m\u001b[0m\n\u001b[1;32m   2959\u001b[0m   \u001b[0;34m@\u001b[0m\u001b[0mproperty\u001b[0m\u001b[0;34m\u001b[0m\u001b[0;34m\u001b[0m\u001b[0m\n",
            "\u001b[0;32m/usr/local/lib/python3.7/dist-packages/tensorflow/python/eager/function.py\u001b[0m in \u001b[0;36m_call_flat\u001b[0;34m(self, args, captured_inputs, cancellation_manager)\u001b[0m\n\u001b[1;32m   1852\u001b[0m       \u001b[0;31m# No tape is watching; skip to running the function.\u001b[0m\u001b[0;34m\u001b[0m\u001b[0;34m\u001b[0m\u001b[0;34m\u001b[0m\u001b[0m\n\u001b[1;32m   1853\u001b[0m       return self._build_call_outputs(self._inference_function.call(\n\u001b[0;32m-> 1854\u001b[0;31m           ctx, args, cancellation_manager=cancellation_manager))\n\u001b[0m\u001b[1;32m   1855\u001b[0m     forward_backward = self._select_forward_and_backward_functions(\n\u001b[1;32m   1856\u001b[0m         \u001b[0margs\u001b[0m\u001b[0;34m,\u001b[0m\u001b[0;34m\u001b[0m\u001b[0;34m\u001b[0m\u001b[0m\n",
            "\u001b[0;32m/usr/local/lib/python3.7/dist-packages/tensorflow/python/eager/function.py\u001b[0m in \u001b[0;36mcall\u001b[0;34m(self, ctx, args, cancellation_manager)\u001b[0m\n\u001b[1;32m    502\u001b[0m               \u001b[0minputs\u001b[0m\u001b[0;34m=\u001b[0m\u001b[0margs\u001b[0m\u001b[0;34m,\u001b[0m\u001b[0;34m\u001b[0m\u001b[0;34m\u001b[0m\u001b[0m\n\u001b[1;32m    503\u001b[0m               \u001b[0mattrs\u001b[0m\u001b[0;34m=\u001b[0m\u001b[0mattrs\u001b[0m\u001b[0;34m,\u001b[0m\u001b[0;34m\u001b[0m\u001b[0;34m\u001b[0m\u001b[0m\n\u001b[0;32m--> 504\u001b[0;31m               ctx=ctx)\n\u001b[0m\u001b[1;32m    505\u001b[0m         \u001b[0;32melse\u001b[0m\u001b[0;34m:\u001b[0m\u001b[0;34m\u001b[0m\u001b[0;34m\u001b[0m\u001b[0m\n\u001b[1;32m    506\u001b[0m           outputs = execute.execute_with_cancellation(\n",
            "\u001b[0;32m/usr/local/lib/python3.7/dist-packages/tensorflow/python/eager/execute.py\u001b[0m in \u001b[0;36mquick_execute\u001b[0;34m(op_name, num_outputs, inputs, attrs, ctx, name)\u001b[0m\n\u001b[1;32m     53\u001b[0m     \u001b[0mctx\u001b[0m\u001b[0;34m.\u001b[0m\u001b[0mensure_initialized\u001b[0m\u001b[0;34m(\u001b[0m\u001b[0;34m)\u001b[0m\u001b[0;34m\u001b[0m\u001b[0;34m\u001b[0m\u001b[0m\n\u001b[1;32m     54\u001b[0m     tensors = pywrap_tfe.TFE_Py_Execute(ctx._handle, device_name, op_name,\n\u001b[0;32m---> 55\u001b[0;31m                                         inputs, attrs, num_outputs)\n\u001b[0m\u001b[1;32m     56\u001b[0m   \u001b[0;32mexcept\u001b[0m \u001b[0mcore\u001b[0m\u001b[0;34m.\u001b[0m\u001b[0m_NotOkStatusException\u001b[0m \u001b[0;32mas\u001b[0m \u001b[0me\u001b[0m\u001b[0;34m:\u001b[0m\u001b[0;34m\u001b[0m\u001b[0;34m\u001b[0m\u001b[0m\n\u001b[1;32m     57\u001b[0m     \u001b[0;32mif\u001b[0m \u001b[0mname\u001b[0m \u001b[0;32mis\u001b[0m \u001b[0;32mnot\u001b[0m \u001b[0;32mNone\u001b[0m\u001b[0;34m:\u001b[0m\u001b[0;34m\u001b[0m\u001b[0;34m\u001b[0m\u001b[0m\n",
            "\u001b[0;31mKeyboardInterrupt\u001b[0m: "
          ]
        }
      ]
    },
    {
      "cell_type": "code",
      "source": [
        "# e_list =[]\n",
        "# acc_list = []\n",
        "# loss_list = []\n",
        "xpoints = np.array(e_list)\n",
        "ypoints = np.array(val_acc_list)\n",
        "\n",
        "plt.plot(xpoints, ypoints,color = 'r')\n",
        "zpoints = np.array(acc_list)\n",
        "\n",
        "# plt.plot(xpoints, zpoints,color = 'g')\n",
        "plt.xlabel(\"Epoch\")\n",
        "plt.ylabel(\"Accuracy\")\n",
        "plt.grid()\n",
        "plt.show()"
      ],
      "metadata": {
        "colab": {
          "base_uri": "https://localhost:8080/",
          "height": 629
        },
        "id": "G0VuGBtFstZN",
        "outputId": "5c14946a-8c78-4ebd-d047-9632ed012f7d"
      },
      "execution_count": null,
      "outputs": [
        {
          "output_type": "error",
          "ename": "ValueError",
          "evalue": "ignored",
          "traceback": [
            "\u001b[0;31m---------------------------------------------------------------------------\u001b[0m",
            "\u001b[0;31mValueError\u001b[0m                                Traceback (most recent call last)",
            "\u001b[0;32m<ipython-input-101-c0ade73d636e>\u001b[0m in \u001b[0;36m<module>\u001b[0;34m()\u001b[0m\n\u001b[1;32m      8\u001b[0m \u001b[0mzpoints\u001b[0m \u001b[0;34m=\u001b[0m \u001b[0mnp\u001b[0m\u001b[0;34m.\u001b[0m\u001b[0marray\u001b[0m\u001b[0;34m(\u001b[0m\u001b[0macc_list\u001b[0m\u001b[0;34m)\u001b[0m\u001b[0;34m\u001b[0m\u001b[0;34m\u001b[0m\u001b[0m\n\u001b[1;32m      9\u001b[0m \u001b[0;34m\u001b[0m\u001b[0m\n\u001b[0;32m---> 10\u001b[0;31m \u001b[0mplt\u001b[0m\u001b[0;34m.\u001b[0m\u001b[0mplot\u001b[0m\u001b[0;34m(\u001b[0m\u001b[0mxpoints\u001b[0m\u001b[0;34m,\u001b[0m \u001b[0mzpoints\u001b[0m\u001b[0;34m,\u001b[0m\u001b[0mcolor\u001b[0m \u001b[0;34m=\u001b[0m \u001b[0;34m'g'\u001b[0m\u001b[0;34m)\u001b[0m\u001b[0;34m\u001b[0m\u001b[0;34m\u001b[0m\u001b[0m\n\u001b[0m\u001b[1;32m     11\u001b[0m \u001b[0mplt\u001b[0m\u001b[0;34m.\u001b[0m\u001b[0mxlabel\u001b[0m\u001b[0;34m(\u001b[0m\u001b[0;34m\"Epoch\"\u001b[0m\u001b[0;34m)\u001b[0m\u001b[0;34m\u001b[0m\u001b[0;34m\u001b[0m\u001b[0m\n\u001b[1;32m     12\u001b[0m \u001b[0mplt\u001b[0m\u001b[0;34m.\u001b[0m\u001b[0mylabel\u001b[0m\u001b[0;34m(\u001b[0m\u001b[0;34m\"Accuracy\"\u001b[0m\u001b[0;34m)\u001b[0m\u001b[0;34m\u001b[0m\u001b[0;34m\u001b[0m\u001b[0m\n",
            "\u001b[0;32m/usr/local/lib/python3.7/dist-packages/matplotlib/pyplot.py\u001b[0m in \u001b[0;36mplot\u001b[0;34m(scalex, scaley, data, *args, **kwargs)\u001b[0m\n\u001b[1;32m   2761\u001b[0m     return gca().plot(\n\u001b[1;32m   2762\u001b[0m         *args, scalex=scalex, scaley=scaley, **({\"data\": data} if data\n\u001b[0;32m-> 2763\u001b[0;31m         is not None else {}), **kwargs)\n\u001b[0m\u001b[1;32m   2764\u001b[0m \u001b[0;34m\u001b[0m\u001b[0m\n\u001b[1;32m   2765\u001b[0m \u001b[0;34m\u001b[0m\u001b[0m\n",
            "\u001b[0;32m/usr/local/lib/python3.7/dist-packages/matplotlib/axes/_axes.py\u001b[0m in \u001b[0;36mplot\u001b[0;34m(self, scalex, scaley, data, *args, **kwargs)\u001b[0m\n\u001b[1;32m   1645\u001b[0m         \"\"\"\n\u001b[1;32m   1646\u001b[0m         \u001b[0mkwargs\u001b[0m \u001b[0;34m=\u001b[0m \u001b[0mcbook\u001b[0m\u001b[0;34m.\u001b[0m\u001b[0mnormalize_kwargs\u001b[0m\u001b[0;34m(\u001b[0m\u001b[0mkwargs\u001b[0m\u001b[0;34m,\u001b[0m \u001b[0mmlines\u001b[0m\u001b[0;34m.\u001b[0m\u001b[0mLine2D\u001b[0m\u001b[0;34m)\u001b[0m\u001b[0;34m\u001b[0m\u001b[0;34m\u001b[0m\u001b[0m\n\u001b[0;32m-> 1647\u001b[0;31m         \u001b[0mlines\u001b[0m \u001b[0;34m=\u001b[0m \u001b[0;34m[\u001b[0m\u001b[0;34m*\u001b[0m\u001b[0mself\u001b[0m\u001b[0;34m.\u001b[0m\u001b[0m_get_lines\u001b[0m\u001b[0;34m(\u001b[0m\u001b[0;34m*\u001b[0m\u001b[0margs\u001b[0m\u001b[0;34m,\u001b[0m \u001b[0mdata\u001b[0m\u001b[0;34m=\u001b[0m\u001b[0mdata\u001b[0m\u001b[0;34m,\u001b[0m \u001b[0;34m**\u001b[0m\u001b[0mkwargs\u001b[0m\u001b[0;34m)\u001b[0m\u001b[0;34m]\u001b[0m\u001b[0;34m\u001b[0m\u001b[0;34m\u001b[0m\u001b[0m\n\u001b[0m\u001b[1;32m   1648\u001b[0m         \u001b[0;32mfor\u001b[0m \u001b[0mline\u001b[0m \u001b[0;32min\u001b[0m \u001b[0mlines\u001b[0m\u001b[0;34m:\u001b[0m\u001b[0;34m\u001b[0m\u001b[0;34m\u001b[0m\u001b[0m\n\u001b[1;32m   1649\u001b[0m             \u001b[0mself\u001b[0m\u001b[0;34m.\u001b[0m\u001b[0madd_line\u001b[0m\u001b[0;34m(\u001b[0m\u001b[0mline\u001b[0m\u001b[0;34m)\u001b[0m\u001b[0;34m\u001b[0m\u001b[0;34m\u001b[0m\u001b[0m\n",
            "\u001b[0;32m/usr/local/lib/python3.7/dist-packages/matplotlib/axes/_base.py\u001b[0m in \u001b[0;36m__call__\u001b[0;34m(self, *args, **kwargs)\u001b[0m\n\u001b[1;32m    214\u001b[0m                 \u001b[0mthis\u001b[0m \u001b[0;34m+=\u001b[0m \u001b[0margs\u001b[0m\u001b[0;34m[\u001b[0m\u001b[0;36m0\u001b[0m\u001b[0;34m]\u001b[0m\u001b[0;34m,\u001b[0m\u001b[0;34m\u001b[0m\u001b[0;34m\u001b[0m\u001b[0m\n\u001b[1;32m    215\u001b[0m                 \u001b[0margs\u001b[0m \u001b[0;34m=\u001b[0m \u001b[0margs\u001b[0m\u001b[0;34m[\u001b[0m\u001b[0;36m1\u001b[0m\u001b[0;34m:\u001b[0m\u001b[0;34m]\u001b[0m\u001b[0;34m\u001b[0m\u001b[0;34m\u001b[0m\u001b[0m\n\u001b[0;32m--> 216\u001b[0;31m             \u001b[0;32myield\u001b[0m \u001b[0;32mfrom\u001b[0m \u001b[0mself\u001b[0m\u001b[0;34m.\u001b[0m\u001b[0m_plot_args\u001b[0m\u001b[0;34m(\u001b[0m\u001b[0mthis\u001b[0m\u001b[0;34m,\u001b[0m \u001b[0mkwargs\u001b[0m\u001b[0;34m)\u001b[0m\u001b[0;34m\u001b[0m\u001b[0;34m\u001b[0m\u001b[0m\n\u001b[0m\u001b[1;32m    217\u001b[0m \u001b[0;34m\u001b[0m\u001b[0m\n\u001b[1;32m    218\u001b[0m     \u001b[0;32mdef\u001b[0m \u001b[0mget_next_color\u001b[0m\u001b[0;34m(\u001b[0m\u001b[0mself\u001b[0m\u001b[0;34m)\u001b[0m\u001b[0;34m:\u001b[0m\u001b[0;34m\u001b[0m\u001b[0;34m\u001b[0m\u001b[0m\n",
            "\u001b[0;32m/usr/local/lib/python3.7/dist-packages/matplotlib/axes/_base.py\u001b[0m in \u001b[0;36m_plot_args\u001b[0;34m(self, tup, kwargs)\u001b[0m\n\u001b[1;32m    340\u001b[0m \u001b[0;34m\u001b[0m\u001b[0m\n\u001b[1;32m    341\u001b[0m         \u001b[0;32mif\u001b[0m \u001b[0mx\u001b[0m\u001b[0;34m.\u001b[0m\u001b[0mshape\u001b[0m\u001b[0;34m[\u001b[0m\u001b[0;36m0\u001b[0m\u001b[0;34m]\u001b[0m \u001b[0;34m!=\u001b[0m \u001b[0my\u001b[0m\u001b[0;34m.\u001b[0m\u001b[0mshape\u001b[0m\u001b[0;34m[\u001b[0m\u001b[0;36m0\u001b[0m\u001b[0;34m]\u001b[0m\u001b[0;34m:\u001b[0m\u001b[0;34m\u001b[0m\u001b[0;34m\u001b[0m\u001b[0m\n\u001b[0;32m--> 342\u001b[0;31m             raise ValueError(f\"x and y must have same first dimension, but \"\n\u001b[0m\u001b[1;32m    343\u001b[0m                              f\"have shapes {x.shape} and {y.shape}\")\n\u001b[1;32m    344\u001b[0m         \u001b[0;32mif\u001b[0m \u001b[0mx\u001b[0m\u001b[0;34m.\u001b[0m\u001b[0mndim\u001b[0m \u001b[0;34m>\u001b[0m \u001b[0;36m2\u001b[0m \u001b[0;32mor\u001b[0m \u001b[0my\u001b[0m\u001b[0;34m.\u001b[0m\u001b[0mndim\u001b[0m \u001b[0;34m>\u001b[0m \u001b[0;36m2\u001b[0m\u001b[0;34m:\u001b[0m\u001b[0;34m\u001b[0m\u001b[0;34m\u001b[0m\u001b[0m\n",
            "\u001b[0;31mValueError\u001b[0m: x and y must have same first dimension, but have shapes (75,) and (0,)"
          ]
        },
        {
          "output_type": "display_data",
          "data": {
            "text/plain": [
              "<Figure size 432x288 with 1 Axes>"
            ],
            "image/png": "[encoded data removed]"
          },
          "metadata": {
            "needs_background": "light"
          }
        }
      ]
    },
    {
      "cell_type": "code",
      "source": [
        "# e_list =[]\n",
        "# acc_list = []\n",
        "# loss_list = []\n",
        "xpoints = np.array(e_list)\n",
        "ypoints = np.array(val_loss_list)\n",
        "\n",
        "plt.plot(xpoints, ypoints,color = 'g')\n",
        "# zpoints = np.array(acc_list)\n",
        "\n",
        "# plt.plot(xpoints, zpoints,color = 'g')\n",
        "plt.xlabel(\"Epoch\")\n",
        "plt.ylabel(\"loss\")\n",
        "plt.grid()\n",
        "plt.show()"
      ],
      "metadata": {
        "colab": {
          "base_uri": "https://localhost:8080/",
          "height": 281
        },
        "id": "J0oecRWnszHS",
        "outputId": "bf473539-d06c-420d-9ed4-e983d3f6c4d6"
      },
      "execution_count": null,
      "outputs": [
        {
          "output_type": "display_data",
          "data": {
            "text/plain": [
              "<Figure size 432x288 with 1 Axes>"
            ],
            "image/png": "[encoded data removed]"
          },
          "metadata": {
            "needs_background": "light"
          }
        }
      ]
    },
    {
      "cell_type": "code",
      "execution_count": null,
      "metadata": {
        "id": "0zAGa7mXz0Da"
      },
      "outputs": [],
      "source": [
        "class Translator(tf.Module):\n",
        "  def __init__(self, tokenizers, transformer):\n",
        "    self.tokenizers = tokenizers\n",
        "    self.transformer = transformer\n",
        "\n",
        "  def __call__(self, sentence, max_length=MAX_TOKENS):\n",
        "    # input sentence is problem statement, hence adding the start and end token\n",
        "    assert isinstance(sentence, tf.Tensor)\n",
        "    if len(sentence.shape) == 0:\n",
        "      sentence = sentence[tf.newaxis]\n",
        "\n",
        "    sentence = self.tokenizers.prob.tokenize(sentence).to_tensor()\n",
        "\n",
        "    encoder_input = sentence\n",
        "\n",
        "    # As the output language is cpp program, initialize the output with the\n",
        "    # english start token.\n",
        "    start_end = self.tokenizers.sol.tokenize([''])[0]\n",
        "    start = start_end[0][tf.newaxis]\n",
        "    end = start_end[1][tf.newaxis]\n",
        "\n",
        "    # `tf.TensorArray` is required here (instead of a python list) so that the\n",
        "    # dynamic-loop can be traced by `tf.function`.\n",
        "    output_array = tf.TensorArray(dtype=tf.int64, size=0, dynamic_size=True)\n",
        "    output_array = output_array.write(0, start)\n",
        "\n",
        "    for i in tf.range(max_length):\n",
        "      output = tf.transpose(output_array.stack())\n",
        "      predictions, _ = self.transformer([encoder_input, output], training=False)\n",
        "\n",
        "      # select the last token from the seq_len dimension\n",
        "      predictions = predictions[:, -1:, :]  # (batch_size, 1, vocab_size)\n",
        "\n",
        "      predicted_id = tf.argmax(predictions, axis=-1)\n",
        "\n",
        "      # concatentate the predicted_id to the output which is given to the decoder\n",
        "      # as its input.\n",
        "      output_array = output_array.write(i+1, predicted_id[0])\n",
        "\n",
        "      if predicted_id == end:\n",
        "        break\n",
        "\n",
        "    output = tf.transpose(output_array.stack())\n",
        "    # output.shape (1, tokens)\n",
        "    text = tokenizers.sol.detokenize(output)[0]  # shape: ()\n",
        "\n",
        "    tokens = tokenizers.sol.lookup(output)[0]\n",
        "\n",
        "    # `tf.function` prevents us from using the attention_weights that were\n",
        "    # calculated on the last iteration of the loop. So recalculate them outside\n",
        "    # the loop.\n",
        "    _, attention_weights = self.transformer([encoder_input, output[:,:-1]], training=False)\n",
        "\n",
        "    return text, tokens, attention_weights"
      ]
    },
    {
      "cell_type": "code",
      "execution_count": null,
      "metadata": {
        "id": "xT3kxq0_0MOb"
      },
      "outputs": [],
      "source": [
        "translator = Translator(tokenizers, transformer)"
      ]
    },
    {
      "cell_type": "code",
      "execution_count": null,
      "metadata": {
        "id": "Py9WVZrW0O8B"
      },
      "outputs": [],
      "source": [
        "def print_translation(sentence, tokens, ground_truth):\n",
        "  print(f'{\"Input:\":15s}: {sentence}')\n",
        "  print(f'{\"Prediction\":15s}: {tokens.numpy().decode(\"utf-8\")}')\n",
        "  print(f'{\"Ground truth\":15s}: {ground_truth}')"
      ]
    },
    {
      "cell_type": "code",
      "execution_count": null,
      "metadata": {
        "id": "Ycj2lQWj0VBm"
      },
      "outputs": [],
      "source": [
        "sentence = 'declare integers num1 num2'\n",
        "ground_truth = 'int num1,num2;'\n",
        "\n",
        "translated_text, translated_tokens, attention_weights = translator( tf.constant(sentence))\n",
        "print_translation(sentence, translated_text, ground_truth)"
      ]
    },
    {
      "cell_type": "code",
      "execution_count": null,
      "metadata": {
        "id": "kMDcAZOD-XLd"
      },
      "outputs": [],
      "source": [
        "sentence = 'create map iterator it from string to integer    create integer n    read n    read character    for i = 0 to n exclusive    create sting str    read line from cin to str    set m[str] to 1    create integer ans with ans = 0    for it = beginning of m to it is not end of m_ incrementing it_ increment ans    print ans print newline    '\n",
        "ground_truth = 'map<string_ int>::iterator it;    int main() {    int n;    cin >> n;    getchar();    for (int i = 0; i < n; i++) {    string str;    getline(cin_ str);    m[str] = 1;    }    int ans = 0;    for (it = m.begin(); it != m.end(); it++) { ans++; }    cout << ans << endl;    }    '\n",
        "\n",
        "translated_text, translated_tokens, attention_weights = translator(\n",
        "    tf.constant(sentence))\n",
        "print_translation(sentence, translated_text, ground_truth)"
      ]
    },
    {
      "cell_type": "code",
      "source": [
        ""
      ],
      "metadata": {
        "id": "aF8DZ9pcunAP"
      },
      "execution_count": null,
      "outputs": []
    },
    {
      "cell_type": "code",
      "execution_count": null,
      "metadata": {
        "id": "9G9aL-Hhzn96"
      },
      "outputs": [],
      "source": [
        "def plot_attention_head(in_tokens, translated_tokens, attention):\n",
        "  # The plot is of the attention when a token was generated.\n",
        "  # The model didn't generate `<START>` in the output. Skip it.\n",
        "  translated_tokens = translated_tokens[1:]\n",
        "  fig = plt.figure(figsize=(16, 10))\n",
        "  ax = plt.gca()\n",
        "  ax.matshow(attention)\n",
        "  ax.set_xticks(range(len(in_tokens)))\n",
        "  ax.set_yticks(range(len(translated_tokens)))\n",
        "\n",
        "  labels = [label.decode('utf-8') for label in in_tokens.numpy()]\n",
        "  ax.set_xticklabels(\n",
        "      labels, rotation=90)\n",
        "\n",
        "  labels = [label.decode('utf-8') for label in translated_tokens.numpy()]\n",
        "  ax.set_yticklabels(labels)"
      ]
    },
    {
      "cell_type": "code",
      "execution_count": null,
      "metadata": {
        "id": "70uw_b4Pzvxf"
      },
      "outputs": [],
      "source": [
        "head = 0\n",
        "# shape: (batch=1, num_heads, seq_len_q, seq_len_k)\n",
        "attention_heads = tf.squeeze(\n",
        "  attention_weights['decoder_layer4_block2'], 0)\n",
        "attention = attention_heads[head]\n",
        "attention.shape"
      ]
    },
    {
      "cell_type": "code",
      "execution_count": null,
      "metadata": {
        "id": "LUr0FiXez1gy"
      },
      "outputs": [],
      "source": [
        "in_tokens = tf.convert_to_tensor([sentence])\n",
        "in_tokens = tokenizers.prob.tokenize(in_tokens).to_tensor()\n",
        "in_tokens = tokenizers.prob.lookup(in_tokens)[0]\n",
        "in_tokens"
      ]
    },
    {
      "cell_type": "code",
      "execution_count": null,
      "metadata": {
        "id": "sBUt7Xgi0CYA"
      },
      "outputs": [],
      "source": [
        "translated_tokens"
      ]
    },
    {
      "cell_type": "code",
      "execution_count": null,
      "metadata": {
        "id": "dZSXwwH80G9I"
      },
      "outputs": [],
      "source": [
        "plot_attention_head(in_tokens, translated_tokens, attention)"
      ]
    },
    {
      "cell_type": "code",
      "execution_count": null,
      "metadata": {
        "id": "kkvHT7j20O7G"
      },
      "outputs": [],
      "source": [
        "def plot_attention_weights(sentence, translated_tokens, attention_heads):\n",
        "  in_tokens = tf.convert_to_tensor([sentence])\n",
        "  in_tokens = tokenizers.prob.tokenize(in_tokens).to_tensor()\n",
        "  in_tokens = tokenizers.prob.lookup(in_tokens)[0]\n",
        "  in_tokens\n",
        "\n",
        "  fig = plt.figure(figsize=(16, 10))\n",
        "\n",
        "  for h, head in enumerate(attention_heads):\n",
        "    ax = fig.add_subplot(2, 4, h+1)\n",
        "\n",
        "    plot_attention_head(in_tokens, translated_tokens, head)\n",
        "\n",
        "    ax.set_xlabel(f'Head {h+1}')\n",
        "\n",
        "  plt.tight_layout()\n",
        "  plt.show()"
      ]
    },
    {
      "cell_type": "code",
      "execution_count": null,
      "metadata": {
        "id": "9JDey-lr0ZtB"
      },
      "outputs": [],
      "source": [
        "plot_attention_weights(sentence, translated_tokens,\n",
        "                       attention_weights['decoder_layer4_block2'][0])"
      ]
    },
    {
      "cell_type": "code",
      "execution_count": null,
      "metadata": {
        "id": "Zjc8nQlnRv1a"
      },
      "outputs": [],
      "source": [
        "class ExportTranslator(tf.Module):\n",
        "  def __init__(self, translator):\n",
        "    self.translator = translator\n",
        "\n",
        "  @tf.function(input_signature=[tf.TensorSpec(shape=[], dtype=tf.string)])\n",
        "  def __call__(self, sentence):\n",
        "    (result,\n",
        "     tokens,\n",
        "     attention_weights) = self.translator(sentence, max_length=MAX_TOKENS)\n",
        "\n",
        "    return result"
      ]
    },
    {
      "cell_type": "code",
      "source": [
        "translator = ExportTranslator(translator)"
      ],
      "metadata": {
        "id": "5lJt4YpZ0hiV"
      },
      "execution_count": null,
      "outputs": []
    },
    {
      "cell_type": "code",
      "source": [
        "tf.saved_model.save(translator, export_dir='drive/MyDrive/Datasets/data')"
      ],
      "metadata": {
        "id": "bWbCUR-q0_Qz"
      },
      "execution_count": null,
      "outputs": []
    },
    {
      "cell_type": "code",
      "execution_count": null,
      "metadata": {
        "id": "c2bIaZr2AE1t"
      },
      "outputs": [],
      "source": [
        "model_t = tf.saved_model.load('drive/MyDrive/Datasets/data/')"
      ]
    },
    {
      "cell_type": "code",
      "source": [
        "model_t('print hello world').numpy()"
      ],
      "metadata": {
        "id": "shsxl-1CwhcO"
      },
      "execution_count": null,
      "outputs": []
    },
    {
      "cell_type": "code",
      "source": [
        "model_t('declare int n   read n   print n+1 ').numpy()"
      ],
      "metadata": {
        "id": "D50MaNYXwvbG"
      },
      "execution_count": null,
      "outputs": []
    },
    {
      "cell_type": "code",
      "source": [
        "model_t('print hi').numpy()"
      ],
      "metadata": {
        "id": "6QvO2CnDxMRO"
      },
      "execution_count": null,
      "outputs": []
    },
    {
      "cell_type": "code",
      "source": [
        "model_t('''Read number \n",
        "declare int Fact = 1\n",
        "i = 1\n",
        "WHILE i<=number\n",
        "    Fact=Fact*i\n",
        "    i=i+1\n",
        "ENDWHILE\n",
        "WRITE Fact ''').numpy()"
      ],
      "metadata": {
        "id": "W1SJjFZKxoBN"
      },
      "execution_count": null,
      "outputs": []
    },
    {
      "cell_type": "code",
      "source": [
        "model_t('''\n",
        " Declare Variable n, fact, i\n",
        " Read number from User\n",
        " Initialize Variable fact=1 and i=1\n",
        " Repeat Until i<=number\n",
        "             fact=fact*i\n",
        "             i=i+1\n",
        " Print fact\n",
        " ''').numpy()"
      ],
      "metadata": {
        "id": "j239cOHTycvo"
      },
      "execution_count": null,
      "outputs": []
    },
    {
      "cell_type": "code",
      "source": [
        "model_t('''\n",
        "Take integer variable A, B, C\n",
        "Set A = 0, B = 0\n",
        "DISPLAY A, B\n",
        "for n times\n",
        "  C = A + B\n",
        "  DISPLAY C\n",
        "  Set A = B, B = C\n",
        "''').numpy()"
      ],
      "metadata": {
        "id": "e7v41EJczit8"
      },
      "execution_count": null,
      "outputs": []
    },
    {
      "cell_type": "code",
      "source": [
        "# e_list =[]\n",
        "# acc_list = []\n",
        "# loss_list = []\n",
        "xpoints = np.array(e_list)\n",
        "ypoints = np.array(loss_list)\n",
        "\n",
        "plt.plot(xpoints, ypoints,color = 'r')\n",
        "zpoints = np.array(acc_list)\n",
        "\n",
        "# plt.plot(xpoints, zpoints,color = 'g')\n",
        "plt.xlabel(\"Epoch\")\n",
        "plt.ylabel(\"loss\")\n",
        "plt.grid()\n",
        "plt.show()"
      ],
      "metadata": {
        "id": "VnhecL0433Ck"
      },
      "execution_count": null,
      "outputs": []
    },
    {
      "cell_type": "code",
      "source": [
        "xpoints = np.array(e_list)\n",
        "ypoints = np.array(acc_list)\n",
        "plt.grid()\n",
        "plt.plot(xpoints, ypoints,color = 'g')\n",
        "plt.show()"
      ],
      "metadata": {
        "id": "Uj0v1jg44O8v"
      },
      "execution_count": null,
      "outputs": []
    }
  ],
  "metadata": {
    "accelerator": "GPU",
    "colab": {
      "collapsed_sections": [],
      "name": "K_Fold_Mod_SPoC_Test.ipynb",
      "provenance": [],
      "toc_visible": true,
      "mount_file_id": "1hzn4bRWk8fL1-vJbUv0sweP5kRiqaHhc",
      "authorship_tag": "ABX9TyP1f3XMcFjKl/448NIVtdZD",
      "include_colab_link": true
    },
    "gpuClass": "standard",
    "kernelspec": {
      "display_name": "Python 3",
      "name": "python3"
    },
    "language_info": {
      "name": "python"
    }
  },
  "nbformat": 4,
  "nbformat_minor": 0
}