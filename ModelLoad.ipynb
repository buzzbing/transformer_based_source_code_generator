{
  "nbformat": 4,
  "nbformat_minor": 0,
  "metadata": {
    "colab": {
      "provenance": [],
      "mount_file_id": "1vFgmog7R5PQ_-BBDRfombbK-geP0AFYm",
      "authorship_tag": "ABX9TyMko1xDc4ZJUcj/e7MKxUWS",
      "include_colab_link": true
    },
    "kernelspec": {
      "name": "python3",
      "display_name": "Python 3"
    },
    "language_info": {
      "name": "python"
    }
  },
  "cells": [
    {
      "cell_type": "markdown",
      "metadata": {
        "id": "view-in-github",
        "colab_type": "text"
      },
      "source": [
        "<a href=\"https://colab.research.google.com/github/buzzbing/transformer_based_source_code_generator/blob/main/ModelLoad.ipynb\" target=\"_parent\"><img src=\"https://colab.research.google.com/assets/colab-badge.svg\" alt=\"Open In Colab\"/></a>"
      ]
    },
    {
      "cell_type": "code",
      "source": [
        "# !pip install tensorflow_datasets\n",
        "!pip install  'tensorflow-text==2.8.*'"
      ],
      "metadata": {
        "colab": {
          "base_uri": "https://localhost:8080/"
        },
        "id": "8Z3PYeyvgUOi",
        "outputId": "68d882be-c547-4060-bf0b-d7fb6b74e6af"
      },
      "execution_count": null,
      "outputs": [
        {
          "output_type": "stream",
          "name": "stdout",
          "text": [
            "Looking in indexes: https://pypi.org/simple, https://us-python.pkg.dev/colab-wheels/public/simple/\n",
            "Collecting tensorflow-text==2.8.*\n",
            "  Downloading tensorflow_text-2.8.2-cp37-cp37m-manylinux_2_12_x86_64.manylinux2010_x86_64.whl (4.9 MB)\n",
            "\u001b[K     |████████████████████████████████| 4.9 MB 7.7 MB/s \n",
            "\u001b[?25hRequirement already satisfied: tensorflow-hub>=0.8.0 in /usr/local/lib/python3.7/dist-packages (from tensorflow-text==2.8.*) (0.12.0)\n",
            "Collecting tensorflow<2.9,>=2.8.0\n",
            "  Downloading tensorflow-2.8.3-cp37-cp37m-manylinux2010_x86_64.whl (497.9 MB)\n",
            "\u001b[K     |████████████████████████████████| 497.9 MB 28 kB/s \n",
            "\u001b[?25hRequirement already satisfied: setuptools in /usr/local/lib/python3.7/dist-packages (from tensorflow<2.9,>=2.8.0->tensorflow-text==2.8.*) (57.4.0)\n",
            "Requirement already satisfied: gast>=0.2.1 in /usr/local/lib/python3.7/dist-packages (from tensorflow<2.9,>=2.8.0->tensorflow-text==2.8.*) (0.4.0)\n",
            "Requirement already satisfied: libclang>=9.0.1 in /usr/local/lib/python3.7/dist-packages (from tensorflow<2.9,>=2.8.0->tensorflow-text==2.8.*) (14.0.6)\n",
            "Requirement already satisfied: protobuf<3.20,>=3.9.2 in /usr/local/lib/python3.7/dist-packages (from tensorflow<2.9,>=2.8.0->tensorflow-text==2.8.*) (3.17.3)\n",
            "Collecting tensorflow-estimator<2.9,>=2.8\n",
            "  Downloading tensorflow_estimator-2.8.0-py2.py3-none-any.whl (462 kB)\n",
            "\u001b[K     |████████████████████████████████| 462 kB 65.4 MB/s \n",
            "\u001b[?25hRequirement already satisfied: termcolor>=1.1.0 in /usr/local/lib/python3.7/dist-packages (from tensorflow<2.9,>=2.8.0->tensorflow-text==2.8.*) (2.0.1)\n",
            "Requirement already satisfied: flatbuffers>=1.12 in /usr/local/lib/python3.7/dist-packages (from tensorflow<2.9,>=2.8.0->tensorflow-text==2.8.*) (1.12)\n",
            "Requirement already satisfied: wrapt>=1.11.0 in /usr/local/lib/python3.7/dist-packages (from tensorflow<2.9,>=2.8.0->tensorflow-text==2.8.*) (1.14.1)\n",
            "Requirement already satisfied: keras-preprocessing>=1.1.1 in /usr/local/lib/python3.7/dist-packages (from tensorflow<2.9,>=2.8.0->tensorflow-text==2.8.*) (1.1.2)\n",
            "Requirement already satisfied: absl-py>=0.4.0 in /usr/local/lib/python3.7/dist-packages (from tensorflow<2.9,>=2.8.0->tensorflow-text==2.8.*) (1.3.0)\n",
            "Collecting keras<2.9,>=2.8.0rc0\n",
            "  Downloading keras-2.8.0-py2.py3-none-any.whl (1.4 MB)\n",
            "\u001b[K     |████████████████████████████████| 1.4 MB 49.7 MB/s \n",
            "\u001b[?25hRequirement already satisfied: h5py>=2.9.0 in /usr/local/lib/python3.7/dist-packages (from tensorflow<2.9,>=2.8.0->tensorflow-text==2.8.*) (3.1.0)\n",
            "Collecting tensorboard<2.9,>=2.8\n",
            "  Downloading tensorboard-2.8.0-py3-none-any.whl (5.8 MB)\n",
            "\u001b[K     |████████████████████████████████| 5.8 MB 38.8 MB/s \n",
            "\u001b[?25hRequirement already satisfied: grpcio<2.0,>=1.24.3 in /usr/local/lib/python3.7/dist-packages (from tensorflow<2.9,>=2.8.0->tensorflow-text==2.8.*) (1.50.0)\n",
            "Requirement already satisfied: typing-extensions>=3.6.6 in /usr/local/lib/python3.7/dist-packages (from tensorflow<2.9,>=2.8.0->tensorflow-text==2.8.*) (4.1.1)\n",
            "Requirement already satisfied: google-pasta>=0.1.1 in /usr/local/lib/python3.7/dist-packages (from tensorflow<2.9,>=2.8.0->tensorflow-text==2.8.*) (0.2.0)\n",
            "Requirement already satisfied: opt-einsum>=2.3.2 in /usr/local/lib/python3.7/dist-packages (from tensorflow<2.9,>=2.8.0->tensorflow-text==2.8.*) (3.3.0)\n",
            "Requirement already satisfied: tensorflow-io-gcs-filesystem>=0.23.1 in /usr/local/lib/python3.7/dist-packages (from tensorflow<2.9,>=2.8.0->tensorflow-text==2.8.*) (0.27.0)\n",
            "Requirement already satisfied: astunparse>=1.6.0 in /usr/local/lib/python3.7/dist-packages (from tensorflow<2.9,>=2.8.0->tensorflow-text==2.8.*) (1.6.3)\n",
            "Requirement already satisfied: six>=1.12.0 in /usr/local/lib/python3.7/dist-packages (from tensorflow<2.9,>=2.8.0->tensorflow-text==2.8.*) (1.15.0)\n",
            "Requirement already satisfied: numpy>=1.20 in /usr/local/lib/python3.7/dist-packages (from tensorflow<2.9,>=2.8.0->tensorflow-text==2.8.*) (1.21.6)\n",
            "Requirement already satisfied: wheel<1.0,>=0.23.0 in /usr/local/lib/python3.7/dist-packages (from astunparse>=1.6.0->tensorflow<2.9,>=2.8.0->tensorflow-text==2.8.*) (0.37.1)\n",
            "Requirement already satisfied: cached-property in /usr/local/lib/python3.7/dist-packages (from h5py>=2.9.0->tensorflow<2.9,>=2.8.0->tensorflow-text==2.8.*) (1.5.2)\n",
            "Requirement already satisfied: google-auth<3,>=1.6.3 in /usr/local/lib/python3.7/dist-packages (from tensorboard<2.9,>=2.8->tensorflow<2.9,>=2.8.0->tensorflow-text==2.8.*) (1.35.0)\n",
            "Requirement already satisfied: tensorboard-plugin-wit>=1.6.0 in /usr/local/lib/python3.7/dist-packages (from tensorboard<2.9,>=2.8->tensorflow<2.9,>=2.8.0->tensorflow-text==2.8.*) (1.8.1)\n",
            "Requirement already satisfied: werkzeug>=0.11.15 in /usr/local/lib/python3.7/dist-packages (from tensorboard<2.9,>=2.8->tensorflow<2.9,>=2.8.0->tensorflow-text==2.8.*) (1.0.1)\n",
            "Requirement already satisfied: markdown>=2.6.8 in /usr/local/lib/python3.7/dist-packages (from tensorboard<2.9,>=2.8->tensorflow<2.9,>=2.8.0->tensorflow-text==2.8.*) (3.4.1)\n",
            "Requirement already satisfied: google-auth-oauthlib<0.5,>=0.4.1 in /usr/local/lib/python3.7/dist-packages (from tensorboard<2.9,>=2.8->tensorflow<2.9,>=2.8.0->tensorflow-text==2.8.*) (0.4.6)\n",
            "Requirement already satisfied: tensorboard-data-server<0.7.0,>=0.6.0 in /usr/local/lib/python3.7/dist-packages (from tensorboard<2.9,>=2.8->tensorflow<2.9,>=2.8.0->tensorflow-text==2.8.*) (0.6.1)\n",
            "Requirement already satisfied: requests<3,>=2.21.0 in /usr/local/lib/python3.7/dist-packages (from tensorboard<2.9,>=2.8->tensorflow<2.9,>=2.8.0->tensorflow-text==2.8.*) (2.23.0)\n",
            "Requirement already satisfied: cachetools<5.0,>=2.0.0 in /usr/local/lib/python3.7/dist-packages (from google-auth<3,>=1.6.3->tensorboard<2.9,>=2.8->tensorflow<2.9,>=2.8.0->tensorflow-text==2.8.*) (4.2.4)\n",
            "Requirement already satisfied: pyasn1-modules>=0.2.1 in /usr/local/lib/python3.7/dist-packages (from google-auth<3,>=1.6.3->tensorboard<2.9,>=2.8->tensorflow<2.9,>=2.8.0->tensorflow-text==2.8.*) (0.2.8)\n",
            "Requirement already satisfied: rsa<5,>=3.1.4 in /usr/local/lib/python3.7/dist-packages (from google-auth<3,>=1.6.3->tensorboard<2.9,>=2.8->tensorflow<2.9,>=2.8.0->tensorflow-text==2.8.*) (4.9)\n",
            "Requirement already satisfied: requests-oauthlib>=0.7.0 in /usr/local/lib/python3.7/dist-packages (from google-auth-oauthlib<0.5,>=0.4.1->tensorboard<2.9,>=2.8->tensorflow<2.9,>=2.8.0->tensorflow-text==2.8.*) (1.3.1)\n",
            "Requirement already satisfied: importlib-metadata>=4.4 in /usr/local/lib/python3.7/dist-packages (from markdown>=2.6.8->tensorboard<2.9,>=2.8->tensorflow<2.9,>=2.8.0->tensorflow-text==2.8.*) (4.13.0)\n",
            "Requirement already satisfied: zipp>=0.5 in /usr/local/lib/python3.7/dist-packages (from importlib-metadata>=4.4->markdown>=2.6.8->tensorboard<2.9,>=2.8->tensorflow<2.9,>=2.8.0->tensorflow-text==2.8.*) (3.9.0)\n",
            "Requirement already satisfied: pyasn1<0.5.0,>=0.4.6 in /usr/local/lib/python3.7/dist-packages (from pyasn1-modules>=0.2.1->google-auth<3,>=1.6.3->tensorboard<2.9,>=2.8->tensorflow<2.9,>=2.8.0->tensorflow-text==2.8.*) (0.4.8)\n",
            "Requirement already satisfied: urllib3!=1.25.0,!=1.25.1,<1.26,>=1.21.1 in /usr/local/lib/python3.7/dist-packages (from requests<3,>=2.21.0->tensorboard<2.9,>=2.8->tensorflow<2.9,>=2.8.0->tensorflow-text==2.8.*) (1.24.3)\n",
            "Requirement already satisfied: chardet<4,>=3.0.2 in /usr/local/lib/python3.7/dist-packages (from requests<3,>=2.21.0->tensorboard<2.9,>=2.8->tensorflow<2.9,>=2.8.0->tensorflow-text==2.8.*) (3.0.4)\n",
            "Requirement already satisfied: idna<3,>=2.5 in /usr/local/lib/python3.7/dist-packages (from requests<3,>=2.21.0->tensorboard<2.9,>=2.8->tensorflow<2.9,>=2.8.0->tensorflow-text==2.8.*) (2.10)\n",
            "Requirement already satisfied: certifi>=2017.4.17 in /usr/local/lib/python3.7/dist-packages (from requests<3,>=2.21.0->tensorboard<2.9,>=2.8->tensorflow<2.9,>=2.8.0->tensorflow-text==2.8.*) (2022.9.24)\n",
            "Requirement already satisfied: oauthlib>=3.0.0 in /usr/local/lib/python3.7/dist-packages (from requests-oauthlib>=0.7.0->google-auth-oauthlib<0.5,>=0.4.1->tensorboard<2.9,>=2.8->tensorflow<2.9,>=2.8.0->tensorflow-text==2.8.*) (3.2.2)\n",
            "Installing collected packages: tensorflow-estimator, tensorboard, keras, tensorflow, tensorflow-text\n",
            "  Attempting uninstall: tensorflow-estimator\n",
            "    Found existing installation: tensorflow-estimator 2.9.0\n",
            "    Uninstalling tensorflow-estimator-2.9.0:\n",
            "      Successfully uninstalled tensorflow-estimator-2.9.0\n",
            "  Attempting uninstall: tensorboard\n",
            "    Found existing installation: tensorboard 2.9.1\n",
            "    Uninstalling tensorboard-2.9.1:\n",
            "      Successfully uninstalled tensorboard-2.9.1\n",
            "  Attempting uninstall: keras\n",
            "    Found existing installation: keras 2.9.0\n",
            "    Uninstalling keras-2.9.0:\n",
            "      Successfully uninstalled keras-2.9.0\n",
            "  Attempting uninstall: tensorflow\n",
            "    Found existing installation: tensorflow 2.9.2\n",
            "    Uninstalling tensorflow-2.9.2:\n",
            "      Successfully uninstalled tensorflow-2.9.2\n",
            "Successfully installed keras-2.8.0 tensorboard-2.8.0 tensorflow-2.8.3 tensorflow-estimator-2.8.0 tensorflow-text-2.8.2\n"
          ]
        }
      ]
    },
    {
      "cell_type": "code",
      "source": [
        "# import pickle\n",
        "import tensorflow as tf\n",
        "import tensorflow_text as text"
      ],
      "metadata": {
        "id": "nNbjfg8REe0e"
      },
      "execution_count": null,
      "outputs": []
    },
    {
      "cell_type": "code",
      "source": [
        "\n",
        "file = 'drive/MyDrive/Datasets/spoc_pseudocode_to_code_converter.zip'\n",
        "!unzip 'drive/MyDrive/Datasets/spoc_pseudocode_to_code_converter.zip'"
      ],
      "metadata": {
        "id": "7UF_4df7Kagg",
        "colab": {
          "base_uri": "https://localhost:8080/"
        },
        "outputId": "3222ac38-c2fa-4ee0-b212-c2edf83ace3b"
      },
      "execution_count": null,
      "outputs": [
        {
          "output_type": "stream",
          "name": "stdout",
          "text": [
            "Archive:  drive/MyDrive/Datasets/spoc_pseudocode_to_code_converter.zip\n",
            "   creating: spoc_pseudocode_to_code_converter/\n",
            "   creating: spoc_pseudocode_to_code_converter/assets/\n",
            "  inflating: spoc_pseudocode_to_code_converter/assets/sol_vocab.txt  \n",
            "  inflating: spoc_pseudocode_to_code_converter/assets/prob_vocab.txt  \n",
            "  inflating: spoc_pseudocode_to_code_converter/saved_model.pb  \n",
            "   creating: spoc_pseudocode_to_code_converter/variables/\n",
            "  inflating: spoc_pseudocode_to_code_converter/variables/variables.data-00000-of-00001  \n",
            "  inflating: spoc_pseudocode_to_code_converter/variables/variables.index  \n"
          ]
        }
      ]
    },
    {
      "cell_type": "code",
      "source": [
        "model_name = 'spoc_pseudocode_to_code_converter'\n"
      ],
      "metadata": {
        "id": "6fJWH6YPfzlB"
      },
      "execution_count": null,
      "outputs": []
    },
    {
      "cell_type": "code",
      "source": [
        "tokenizers = tf.saved_model.load(model_name)\n",
        "print(tokenizers.prob.get_vocab_size().numpy())\n",
        "print(tokenizers.sol.get_vocab_size().numpy())"
      ],
      "metadata": {
        "colab": {
          "base_uri": "https://localhost:8080/"
        },
        "id": "9EalKV0Af_yj",
        "outputId": "79a8e514-1c50-4c3e-c925-fa953d6e4ada"
      },
      "execution_count": null,
      "outputs": [
        {
          "output_type": "stream",
          "name": "stdout",
          "text": [
            "2247\n",
            "1987\n"
          ]
        }
      ]
    },
    {
      "cell_type": "code",
      "execution_count": null,
      "metadata": {
        "id": "ZjvVp1sgD_M6"
      },
      "outputs": [],
      "source": [
        "# model_t = tf.saved_model.load('drive/MyDrive/Datasets')"
      ]
    },
    {
      "cell_type": "code",
      "source": [
        "import warnings\n",
        "warnings.filterwarnings(\"ignore\")"
      ],
      "metadata": {
        "id": "II1Wv19eg4ca"
      },
      "execution_count": null,
      "outputs": []
    },
    {
      "cell_type": "code",
      "source": [],
      "metadata": {
        "id": "YmxJjx6uxnde"
      },
      "execution_count": null,
      "outputs": []
    },
    {
      "cell_type": "markdown",
      "source": [],
      "metadata": {
        "id": "VVGa4faUxiKr"
      }
    },
    {
      "cell_type": "code",
      "source": [
        "model_t = tf.saved_model.load('drive/MyDrive/MajorProjectPseudoCodeCpp/PseudocodeModel')"
      ],
      "metadata": {
        "id": "Rap01evbhQdj"
      },
      "execution_count": null,
      "outputs": []
    },
    {
      "cell_type": "code",
      "source": [
        "from nltk.translate.bleu_score import sentence_bleu as bleu"
      ],
      "metadata": {
        "id": "yTLT7x8ETdL4"
      },
      "execution_count": null,
      "outputs": []
    },
    {
      "cell_type": "code",
      "source": [
        "def check_bleu(input,actual,predicted):\n",
        "\n",
        "    # output = model_t(input).numpy()\n",
        "    # print('Predicted Output: ',output.decode('utf-8'))\n",
        "    reference = input.split()\n",
        "    \n",
        "    pred = predicted.split()\n",
        "\n",
        "    ground_truth = actual.split()\n",
        "\n",
        "    score = bleu(ground_truth, pred, weights=(1, 0, 0, 0))\n",
        "    print('BLEU Score: ',round(score,2))"
      ],
      "metadata": {
        "id": "iUIsVHXm2NFr"
      },
      "execution_count": null,
      "outputs": []
    },
    {
      "cell_type": "code",
      "source": [
        "# def check_accuracy(real, pred):\n",
        "#   accuracies = tf.equal(real, tf.argmax(pred, axis=2))\n",
        "\n",
        "# #   mask = tf.math.logical_not(tf.math.equal(real, 0))\n",
        "# #   accuracies = tf.math.logical_and(mask, accuracies)\n",
        "\n",
        "# #   accuracies = tf.cast(accuracies, dtype=tf.float32)\n",
        "# #   mask = tf.cast(mask, dtype=tf.float32)\n",
        "#   return accuracies\n",
        "\n",
        "from difflib import SequenceMatcher\n",
        "\n",
        "def similar(a, b):\n",
        "    ratio=SequenceMatcher(None, a, b).ratio()\n",
        "    print('Similarity ratio:',round(ratio,2))"
      ],
      "metadata": {
        "id": "HdAN7i5aFEtC"
      },
      "execution_count": null,
      "outputs": []
    },
    {
      "cell_type": "markdown",
      "source": [
        "Problem 1 : Print String\n",
        "\n",
        "\tPseudocode:\n",
        "\n",
        "\tprint hello there\n",
        "\n",
        "\n",
        "\tExpected Output:\n",
        "\n",
        "\tint main(){\n",
        "\tcout<<\"hello there\"<<endl;\n",
        "\treturn 0;\n",
        "\t}\n"
      ],
      "metadata": {
        "id": "61uaQeTivUyv"
      }
    },
    {
      "cell_type": "code",
      "source": [
        "pseudocode = 'print hello'\n",
        "expected_output = '''\n",
        "    int main ( ) {\tcout << \"hello\" << endl ; return 0 ;}'''\n",
        "\t\n",
        "predicted_output = model_t(pseudocode).numpy()\n",
        "output=predicted_output.decode('utf-8')\n",
        "print('Predicted Output: ',output)\n",
        "check_bleu(pseudocode, expected_output,output)\n",
        "similar(expected_output,output)"
      ],
      "metadata": {
        "id": "7VgpEwWVY6BV",
        "colab": {
          "base_uri": "https://localhost:8080/"
        },
        "outputId": "570372f3-0d4b-436e-859c-246b3f221fac"
      },
      "execution_count": null,
      "outputs": [
        {
          "output_type": "stream",
          "name": "stdout",
          "text": [
            "Predicted Output:  cout < < \" hard \" < < endl ; return 0 ; }\n",
            "BLEU Score:  0.5\n",
            "Similarity ratio: 0.67\n"
          ]
        }
      ]
    },
    {
      "cell_type": "markdown",
      "source": [
        "\n",
        "Problem 2 : Input/Output\n",
        "\n",
        "\tPseudocode\n",
        "\t\n",
        "\tdeclare integer a\n",
        "\tread a\n",
        "\tprint a\n",
        "\n",
        "\n",
        "\tExpected Output:\n",
        "\n",
        "\tint main(){\n",
        "\tint a;\n",
        "\tcin>>a;\n",
        "\tcout<<a<<endl;\n",
        "\treturn 0;\n",
        "\t}"
      ],
      "metadata": {
        "id": "Wm4DIEA3wrLL"
      }
    },
    {
      "cell_type": "code",
      "source": [
        "pseudocode = '''\n",
        "declare integer a\n",
        "\tread a\n",
        "\tprint a'''\n",
        "\n",
        "expected_ouput = '''\n",
        "   int main ( ) {\n",
        "\tint a ;\n",
        "\tcin > > a ;\n",
        "\tcout < < a < < endl ;\n",
        "\treturn 0 ;\n",
        "\t}'''\n",
        "predicted_output = model_t(pseudocode).numpy()\n",
        "output=predicted_output.decode('utf-8')\n",
        "print('Predicted Output: ',output)\n",
        "\n",
        "check_bleu(pseudocode, expected_output,output)\n",
        "similar(expected_output,output)"
      ],
      "metadata": {
        "colab": {
          "base_uri": "https://localhost:8080/"
        },
        "id": "XjIzMigPr4xj",
        "outputId": "5d5a619a-bcb5-42d2-d9b9-33589215b793"
      },
      "execution_count": null,
      "outputs": [
        {
          "output_type": "stream",
          "name": "stdout",
          "text": [
            "Predicted Output:  int a ; cin > > a ; cout < < a < < endl ; return 0 ; }\n",
            "BLEU Score:  0.25\n",
            "Similarity ratio: 0.69\n"
          ]
        }
      ]
    },
    {
      "cell_type": "markdown",
      "source": [
        "\n",
        "Problem 3: Addition\n",
        "\n",
        "\tPseudocode\n",
        "\n",
        "\n",
        "\tdeclare integer a,b\n",
        "\tread a,b\n",
        "\tprint a+b\n",
        "\t\n",
        "\n",
        "\n",
        "\tExpected Output:\n",
        "\n",
        "\tint main(){\n",
        "\t    int a;\n",
        "\t    cin>>a>>b;\n",
        "\t    cout<<a+b<<endl;\n",
        "\t    return 0;\n",
        "\t}\n"
      ],
      "metadata": {
        "id": "RxsppJyaw0ub"
      }
    },
    {
      "cell_type": "code",
      "source": [
        "pseudocode = '''\n",
        "declare integer a,b\n",
        "\tread a,b\n",
        "\tprint a+b\n",
        "    '''\n",
        "\n",
        "expected_ouput = '''\n",
        " int main( ) {\n",
        "\tint a , b ;\n",
        "\tcin > > a > > b ;\n",
        "\tcout < < a + b < < endl ;\n",
        "\treturn 0 ;\n",
        "\t}\n",
        "\n",
        "    '''\n",
        "\n",
        "predicted_output = model_t(pseudocode).numpy()\n",
        "output=predicted_output.decode('utf-8')\n",
        "print('Predicted Output: ',output)\n",
        "check_bleu(pseudocode, expected_output,output)\n",
        "similar(expected_output,output)"
      ],
      "metadata": {
        "colab": {
          "base_uri": "https://localhost:8080/"
        },
        "id": "TiAUQtegsNcJ",
        "outputId": "c769c620-df86-4757-d374-be3ed1703cf7"
      },
      "execution_count": null,
      "outputs": [
        {
          "output_type": "stream",
          "name": "stdout",
          "text": [
            "Predicted Output:  int a , b ; cin > > a > > b ; cout < < a + b < < endl ; return 0 ; }\n",
            "BLEU Score:  0.19\n",
            "Similarity ratio: 0.61\n"
          ]
        }
      ]
    },
    {
      "cell_type": "markdown",
      "source": [
        "\n",
        "Problem 4: Multiplication\n",
        "\n",
        "\tPseudocode\n",
        "\n",
        "\tdeclare integer a,b\n",
        "\tread a,b\n",
        "\tprint a*b\n",
        "\n",
        "\n",
        "\tExpected Output:\n",
        "\n",
        "\tint main(){\n",
        "\tint a;\n",
        "\tcin>>a>>b;\n",
        "\tcout<<a*b<<endl;\n",
        "\treturn 0;\n",
        "\t}\n",
        "\n"
      ],
      "metadata": {
        "id": "Fv-2yPplxE9N"
      }
    },
    {
      "cell_type": "code",
      "source": [
        "pseudocode = '''\n",
        "declare integer a,b\n",
        "\tread a,b\n",
        "\tprint a*b\n",
        "    '''\n",
        "\n",
        "expected_ouput = '''\n",
        " int main() {\n",
        "\tint a ;\n",
        "\tcin >> a >> b ;\n",
        "\tcout << a*b << endl ;\n",
        "\treturn 0 ;\n",
        "\t}\n",
        "\n",
        "    '''\n",
        "\n",
        "predicted_output = model_t(pseudocode).numpy()\n",
        "output=predicted_output.decode('utf-8')\n",
        "print('Predicted Output: ',output)\n",
        "check_bleu(pseudocode, expected_output,output)\n",
        "similar(expected_output,output)"
      ],
      "metadata": {
        "colab": {
          "base_uri": "https://localhost:8080/"
        },
        "id": "9vtlMMMfsiEH",
        "outputId": "057cfdc7-d681-46c0-b603-e0ae177a51e9"
      },
      "execution_count": null,
      "outputs": [
        {
          "output_type": "stream",
          "name": "stdout",
          "text": [
            "Predicted Output:  int a , b ; cin > > a > > b ; cout < < a * b < < endl ; return 0 ; }\n",
            "BLEU Score:  0.19\n",
            "Similarity ratio: 0.61\n"
          ]
        }
      ]
    },
    {
      "cell_type": "markdown",
      "source": [
        "Problem 5: Fibonacci\n",
        "\n",
        "\tPseudocode\n",
        "\n",
        "\n",
        "\tDeclare variable a, b, c, n, i\n",
        "\tInitialize variable a=0, b=1 and  i=2 \n",
        "\tRead n from user \n",
        "\tPrint a and b \n",
        "\tRepeat until i<=n : \n",
        "          \tc=a+b \n",
        "           \tprint c \n",
        "           \ta=b, b=c \n",
        "           \ti=i+1 \n",
        "\t\n",
        "\n",
        "\tExpected Output:\n",
        "\t\n",
        "\tint main(){\n",
        "\tint n;\n",
        "\tcin>>n;\n",
        "\tint f[n];\n",
        "   \t\n",
        "   \tf[0] = 0;\n",
        "   \tf[1] = 1;\n",
        "   \tfor (int i = 2; i < n; i++) {\n",
        "    \t  f[i] = f[i-1] + f[i-2];\n",
        "   \t}\n",
        "   \tfor (i = 0; i < n; i++) {\n",
        "     \t  cout<<f[i]<<\" \";\n",
        "   \t}\n",
        "\treturn 0;\n",
        "\t}\n",
        "\n",
        "\n"
      ],
      "metadata": {
        "id": "vqlKOs3hxLQ3"
      }
    },
    {
      "cell_type": "code",
      "source": [
        "pseudocode = '''\n",
        "    Declare variable a, b, c, n, i\n",
        "\tInitialize variable a=0, b=1 and  i=2 \n",
        "\tRead n from user \n",
        "\tPrint a and b \n",
        "\tRepeat until i<=n : \n",
        "          \tc=a+b \n",
        "           \tprint c \n",
        "           \ta=b, b=c \n",
        "           \ti=i+1 \n",
        "    '''\n",
        "\n",
        "expected_ouput = '''\n",
        "\tint main(){\n",
        "\tint n;\n",
        "\tcin>>n;\n",
        "\tint f[n];\n",
        "   \t\n",
        "   \tf[0] = 0;\n",
        "   \tf[1] = 1;\n",
        "   \tfor (int i = 2; i < n; i++) {\n",
        "    \t  f[i] = f[i-1] + f[i-2];\n",
        "   \t}\n",
        "   \tfor (i = 0; i < n; i++) {\n",
        "     \t  cout<<f[i]<<\" \";\n",
        "   \t}\n",
        "\treturn 0;\n",
        "\t}\n",
        "\n",
        "    '''\n",
        "\n",
        "predicted_output = model_t(pseudocode).numpy()\n",
        "output=predicted_output.decode('utf-8')\n",
        "print('Predicted Output: ',output)\n",
        "check_bleu(pseudocode, expected_output,output)\n",
        "similar(expected_output,output)"
      ],
      "metadata": {
        "colab": {
          "base_uri": "https://localhost:8080/"
        },
        "id": "bsuHbGEBsp5L",
        "outputId": "d1494d8f-965f-4f9b-989e-e40b6d54e1f3"
      },
      "execution_count": null,
      "outputs": [
        {
          "output_type": "stream",
          "name": "stdout",
          "text": [
            "Predicted Output:  int i , a , b , c = 0 , n ; cin > > n ; a = n ; b = n ; while ( i < = a ) { a = a + 1 ; b = b + 1 ; c = c + 2 ; cout < < a < < \" \" < < b < < endl ; } return 0 ; }\n",
            "BLEU Score:  0.22\n",
            "Similarity ratio: 0.33\n"
          ]
        }
      ]
    },
    {
      "cell_type": "markdown",
      "source": [
        "Problem 6: Bubble Sort\n",
        "\n",
        "\n",
        "\tPseudocode\n",
        "\n",
        "\n",
        "\tprocedure bubbleSort(A : list of sortable items)\n",
        "    \t\tn := length(A)\n",
        "    \t\trepeat\n",
        "        \t\tswapped := false\n",
        "        \t\tfor i := 1 to n - 1 inclusive do\n",
        "            \t\t\tif A[i - 1] > A[i] then\n",
        "                \t\t\tswap(A[i - 1], A[i])\n",
        "                \t\t\tswapped := true\n",
        "            \t\t\tend if\n",
        "        \t\tend for\n",
        "        \t\tn := n - 1\n",
        "    \t\tuntil not swapped\n",
        "\tend procedure\n",
        "\n",
        "\n",
        "\tCode:\n",
        "\tvoid bubbleSort(int arr[], int n)\n",
        "\t{\n",
        "   \t\tint i, j;\n",
        "   \t\tbool swapped;\n",
        "   \t\tfor (i = 0; i < n-1; i++)\n",
        "   \t\t{\n",
        "     \t\t\tswapped = false;\n",
        "    \t\t \tfor (j = 0; j < n-i-1; j++)\n",
        "     \t\t\t{\n",
        "        \t\t\tif (arr[j] > arr[j+1])\n",
        "        \t\t\t{\n",
        "           \t\t\t\tswap(arr[j], arr[j+1]);\n",
        "           \t\t\t\tswapped = true;\n",
        "        \t\t\t}\n",
        "     \t\t\t}\n",
        "     \t\t\tif (swapped == false)\n",
        "        \t\tbreak;\n",
        "   \t\t}\n",
        "\t}\n",
        "  \n",
        "\n",
        "\tvoid printArray(int arr[], int size)\n",
        "\t{\n",
        "\t    \tint i;\n",
        "    \t\tfor (i = 0; i < size; i++)\n",
        "        \t\tcout <<\" \"<< arr[i];\t\n",
        "\t}\n",
        "  \n",
        "\n",
        "\tint main(){\n",
        "    \t\tint arr[] = {5, 3, 1, 9, 8, 2, 4, 7};\n",
        "    \t\tint N = sizeof(arr)/sizeof(arr[0]);\n",
        "    \t\tbubbleSort(arr, N);\n",
        "    \t\tcout <<\"Sorted array: \\n\";\n",
        "    \t\tprintArray(arr, N);\n",
        "    \t\treturn 0;\n",
        "\t}"
      ],
      "metadata": {
        "id": "U7RUfyjMxT9W"
      }
    },
    {
      "cell_type": "code",
      "source": [
        "pseudocode = '''\n",
        "   procedure bubbleSort(A : list of sortable items)\n",
        "    \t\tn := length(A)\n",
        "    \t\trepeat\n",
        "        \t\tswapped := false\n",
        "        \t\tfor i := 1 to n - 1 inclusive do\n",
        "            \t\t\tif A[i - 1] > A[i] then\n",
        "                \t\t\tswap(A[i - 1], A[i])\n",
        "                \t\t\tswapped := true\n",
        "            \t\t\tend if\n",
        "        \t\tend for\n",
        "        \t\tn := n - 1\n",
        "    \t\tuntil not swapped\n",
        "\tend procedure\n",
        "\n",
        "    '''\n",
        "\n",
        "expected_ouput = '''\n",
        "\t\tvoid bubbleSort(int arr[], int n)\n",
        "\t{\n",
        "   \t\tint i, j;\n",
        "   \t\tbool swapped;\n",
        "   \t\tfor (i = 0; i < n-1; i++)\n",
        "   \t\t{\n",
        "     \t\t\tswapped = false;\n",
        "    \t\t \tfor (j = 0; j < n-i-1; j++)\n",
        "     \t\t\t{\n",
        "        \t\t\tif (arr[j] > arr[j+1])\n",
        "        \t\t\t{\n",
        "           \t\t\t\tswap(arr[j], arr[j+1]);\n",
        "           \t\t\t\tswapped = true;\n",
        "        \t\t\t}\n",
        "     \t\t\t}\n",
        "     \t\t\tif (swapped == false)\n",
        "        \t\tbreak;\n",
        "   \t\t}\n",
        "\t}\n",
        "  \n",
        "\n",
        "\tvoid printArray(int arr[], int size)\n",
        "\t{\n",
        "\t    \tint i;\n",
        "    \t\tfor (i = 0; i < size; i++)\n",
        "        \t\tcout <<\" \"<< arr[i];\t\n",
        "\t}\n",
        "  \n",
        "\n",
        "\tint main(){\n",
        "    \t\tint arr[] = {5, 3, 1, 9, 8, 2, 4, 7};\n",
        "    \t\tint N = sizeof(arr)/sizeof(arr[0]);\n",
        "    \t\tbubbleSort(arr, N);\n",
        "    \t\tcout <<\"Sorted array: \\n\";\n",
        "    \t\tprintArray(arr, N);\n",
        "    \t\treturn 0;\n",
        "\t}\n",
        "    '''\n",
        "predicted_output = model_t(pseudocode).numpy()\n",
        "output=predicted_output.decode('utf-8')\n",
        "print('Predicted Output: ',output)\n",
        "check_bleu(pseudocode, expected_output,output)\n",
        "similar(expected_output,output)"
      ],
      "metadata": {
        "colab": {
          "base_uri": "https://localhost:8080/"
        },
        "id": "8G2-X2GmrLOU",
        "outputId": "10f93546-79d1-4cb4-83f1-7661c8d8fb8a"
      },
      "execution_count": null,
      "outputs": [
        {
          "output_type": "stream",
          "name": "stdout",
          "text": [
            "Predicted Output:  if ( a [ 0 ] = = a [ 1 ] ) { return - 1 ; } for ( int i = 1 ; i < n ; i + + ) { if ( a [ i ] ! = a [ i - 1 ] ) { return - 1 ; } } return 0 ; } int main ( ) { int n ; cin > > n ; int counter , proostection ( n , a ) ; for ( int i = 0 ; i < n ; i + + ) { cin > > a [ i ] ; counter , pertion ( a , i ) ; swap ( b , a [ i ] ) ; counter , proostion ( a [ i ] , a [ i ] ) ; } cout < < counter , perlam ( n , procalindbation ) < < endl ; return 0 ; }\n",
            "BLEU Score:  0.08\n",
            "Similarity ratio: 0.1\n"
          ]
        }
      ]
    },
    {
      "cell_type": "code",
      "source": [
        "\n",
        "pseudocode='declare int n   read n   print n+1 '\n",
        "expected_output='int main(){ int n ; cin > > n; cout < < n ; return 0 ; }'\n",
        "predicted_output = model_t(pseudocode).numpy()\n",
        "output=predicted_output.decode('utf-8')\n",
        "print('Predicted Output: ',output)\n",
        "check_bleu(pseudocode, expected_output,output)\n",
        "similar(expected_output,output)"
      ],
      "metadata": {
        "id": "wipzwTGbhSjV",
        "colab": {
          "base_uri": "https://localhost:8080/"
        },
        "outputId": "77eabda1-ae69-452c-9dab-624433026f84"
      },
      "execution_count": null,
      "outputs": [
        {
          "output_type": "stream",
          "name": "stdout",
          "text": [
            "Predicted Output:  int n ; cin > > n ; cout < < n + n < < endl ; return 0 ; }\n",
            "BLEU Score:  0.27\n",
            "Similarity ratio: 0.77\n"
          ]
        }
      ]
    },
    {
      "cell_type": "code",
      "source": [
        "pseudocode='print hi'\n",
        "expected_output='int main() { cout < < \"hi\" ; return 0 ; }'\n",
        "predicted_output = model_t(pseudocode).numpy()\n",
        "output=predicted_output.decode('utf-8')\n",
        "print('Predicted Output: ',output)\n",
        "check_bleu(pseudocode, expected_output,output)\n",
        "similar(expected_output,output)"
      ],
      "metadata": {
        "colab": {
          "base_uri": "https://localhost:8080/"
        },
        "id": "HJ7UWdlNh52G",
        "outputId": "06893c19-b320-4557-878e-05093e921b97"
      },
      "execution_count": null,
      "outputs": [
        {
          "output_type": "stream",
          "name": "stdout",
          "text": [
            "Predicted Output:  cout < < \" karen \" < < endl ; return 0 ; }\n",
            "BLEU Score:  0.43\n",
            "Similarity ratio: 0.63\n"
          ]
        }
      ]
    },
    {
      "cell_type": "code",
      "source": [
        "pseudocode='''Read number \n",
        "declare int Fact = 1\n",
        "i = 1\n",
        "WHILE i<=number\n",
        "    Fact=Fact*i\n",
        "    i=i+1\n",
        "ENDWHILE\n",
        "WRITE Fact'''"
      ],
      "metadata": {
        "id": "MOHkMnlRiTCI"
      },
      "execution_count": null,
      "outputs": []
    },
    {
      "cell_type": "code",
      "source": [
        "input = '''procedure bubbleSort( list : array of items )\n",
        "\n",
        "   loop = list.count;\n",
        "   \n",
        "   for i = 0 to loop-1 do:\n",
        "      swapped = false\n",
        "\t\t\n",
        "      for j = 0 to loop-1 do:\n",
        "      \n",
        "         if list[j] > list[j+1] then\n",
        "            swap( list[j], list[j+1] )\t\t \n",
        "            swapped = true\n",
        "         end if\n",
        "         \n",
        "      end for\n",
        "      \n",
        "      if(not swapped) then\n",
        "         break\n",
        "      end if\n",
        "      \n",
        "   end for\n",
        "   \n",
        "end procedure return list'''\n",
        "\n",
        "expected_output = '''void bubbleSort(int arr[], int n)\n",
        "{\n",
        "    int i, j;\n",
        "    for (i = 0; i < n - 1; i++)\n",
        "  \n",
        "        for (j = 0; j < n - i - 1; j++)\n",
        "            if (arr[j] > arr[j + 1])\n",
        "                swap(arr[j], arr[j + 1]);\n",
        "}\n",
        "int main()\n",
        "{\n",
        "    int arr[] = { 5, 1, 4, 2, 8};\n",
        "    int N = sizeof(arr) / sizeof(arr[0]);\n",
        "    bubbleSort(arr, N);\n",
        "    cout << \"Sorted array: \\n\";\n",
        "    for (int i = 0; i < N; i++)\n",
        "        cout << arr[i] << \" \";\n",
        "    return 0;\n",
        "}'''\n",
        "predicted_output = model_t(pseudocode).numpy()\n",
        "output=predicted_output.decode('utf-8')\n",
        "print('Predicted Output: ',output)\n",
        "check_bleu(input, expected_output,output)\n",
        "similar(expected_output,output)\n"
      ],
      "metadata": {
        "id": "HKsaxtYZt_9r",
        "colab": {
          "base_uri": "https://localhost:8080/"
        },
        "outputId": "59ad877b-13aa-484c-dffa-b3b8cce28821"
      },
      "execution_count": null,
      "outputs": [
        {
          "output_type": "stream",
          "name": "stdout",
          "text": [
            "Predicted Output:  int main ( ) { cin > > number ; int fact = 1 ; int i = 1 ; while ( i < 1000001 ) { fact = i * 10 ; i + + ; } cout < < fact < < endl ; return 0 ; }\n",
            "BLEU Score:  0.28\n",
            "Similarity ratio: 0.25\n"
          ]
        }
      ]
    },
    {
      "cell_type": "code",
      "source": [],
      "metadata": {
        "id": "BJxyQbBzuBG3"
      },
      "execution_count": null,
      "outputs": []
    },
    {
      "cell_type": "code",
      "source": [],
      "metadata": {
        "id": "MpncnQpPTwqi"
      },
      "execution_count": null,
      "outputs": []
    },
    {
      "cell_type": "code",
      "source": [],
      "metadata": {
        "id": "fLkIRPk0T8Cz"
      },
      "execution_count": null,
      "outputs": []
    },
    {
      "cell_type": "code",
      "source": [
        "\n",
        "\n"
      ],
      "metadata": {
        "id": "wehxd2FnUxqF"
      },
      "execution_count": null,
      "outputs": []
    },
    {
      "cell_type": "code",
      "source": [
        "model_t('print hi').numpy()"
      ],
      "metadata": {
        "id": "VMitfeqXgr5L",
        "colab": {
          "base_uri": "https://localhost:8080/"
        },
        "outputId": "015aa95e-e688-447c-c0b5-1ac969c597da"
      },
      "execution_count": null,
      "outputs": [
        {
          "output_type": "execute_result",
          "data": {
            "text/plain": [
              "b'cout < < \" karen \" < < endl ; return 0 ; }'"
            ]
          },
          "metadata": {},
          "execution_count": 44
        }
      ]
    }
  ]
}